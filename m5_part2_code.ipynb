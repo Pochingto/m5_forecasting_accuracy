{
  "nbformat": 4,
  "nbformat_minor": 0,
  "metadata": {
    "colab": {
      "name": "4211_project.ipynb",
      "provenance": [],
      "toc_visible": true,
      "machine_shape": "hm"
    },
    "kernelspec": {
      "name": "python3",
      "display_name": "Python 3"
    }
  },
  "cells": [
    {
      "cell_type": "code",
      "metadata": {
        "id": "6mjwHWaacKqU",
        "colab_type": "code",
        "colab": {}
      },
      "source": [
        "import pandas as pd\n",
        "import numpy as np"
      ],
      "execution_count": 0,
      "outputs": []
    },
    {
      "cell_type": "code",
      "metadata": {
        "id": "JXyXPpaVcQTv",
        "colab_type": "code",
        "outputId": "ed24579c-d0c0-49ba-c75e-29b60c2d8b92",
        "colab": {
          "base_uri": "https://localhost:8080/",
          "height": 122
        }
      },
      "source": [
        "from google.colab import drive\n",
        "drive.mount('/content/gdrive')"
      ],
      "execution_count": 0,
      "outputs": [
        {
          "output_type": "stream",
          "text": [
            "Go to this URL in a browser: https://accounts.google.com/o/oauth2/auth?client_id=947318989803-6bn6qk8qdgf4n4g3pfee6491hc0brc4i.apps.googleusercontent.com&redirect_uri=urn%3aietf%3awg%3aoauth%3a2.0%3aoob&response_type=code&scope=email%20https%3a%2f%2fwww.googleapis.com%2fauth%2fdocs.test%20https%3a%2f%2fwww.googleapis.com%2fauth%2fdrive%20https%3a%2f%2fwww.googleapis.com%2fauth%2fdrive.photos.readonly%20https%3a%2f%2fwww.googleapis.com%2fauth%2fpeopleapi.readonly\n",
            "\n",
            "Enter your authorization code:\n",
            "··········\n",
            "Mounted at /content/gdrive\n"
          ],
          "name": "stdout"
        }
      ]
    },
    {
      "cell_type": "code",
      "metadata": {
        "id": "TniHm3xCdvN4",
        "colab_type": "code",
        "colab": {}
      },
      "source": [
        "import zipfile\n",
        "zip_ref = zipfile.ZipFile(\"/content/gdrive/My Drive/m5_data.zip\", 'r')\n",
        "zip_ref.extractall()\n",
        "zip_ref.close()"
      ],
      "execution_count": 0,
      "outputs": []
    },
    {
      "cell_type": "markdown",
      "metadata": {
        "id": "8IIzF_6o2Nnw",
        "colab_type": "text"
      },
      "source": [
        "# Start"
      ]
    },
    {
      "cell_type": "code",
      "metadata": {
        "id": "bjz3yl0ad8pP",
        "colab_type": "code",
        "colab": {}
      },
      "source": [
        "def reduce_mem_usage(df, verbose=True):\n",
        "    numerics = ['int16', 'int32', 'int64', 'float16', 'float32', 'float64']\n",
        "    start_mem = df.memory_usage().sum() / 1024**2\n",
        "    for col in df.columns:\n",
        "        col_type = df[col].dtypes\n",
        "        if col_type in numerics:\n",
        "            c_min = df[col].min()\n",
        "            c_max = df[col].max()\n",
        "            if str(col_type)[:3] == 'int':\n",
        "                if c_min > np.iinfo(np.int8).min and c_max < np.iinfo(np.int8).max:\n",
        "                    df[col] = df[col].astype(np.int8)\n",
        "                elif c_min > np.iinfo(np.int16).min and c_max < np.iinfo(np.int16).max:\n",
        "                    df[col] = df[col].astype(np.int16)\n",
        "                elif c_min > np.iinfo(np.int32).min and c_max < np.iinfo(np.int32).max:\n",
        "                    df[col] = df[col].astype(np.int32)\n",
        "                elif c_min > np.iinfo(np.int64).min and c_max < np.iinfo(np.int64).max:\n",
        "                    df[col] = df[col].astype(np.int64)\n",
        "            else:\n",
        "                c_prec = df[col].apply(lambda x: np.finfo(x).precision).max()\n",
        "                if c_min > np.finfo(np.float16).min and c_max < np.finfo(np.float16).max and c_prec == np.finfo(np.float16).precision:\n",
        "                    df[col] = df[col].astype(np.float16)\n",
        "                elif c_min > np.finfo(np.float32).min and c_max < np.finfo(np.float32).max and c_prec == np.finfo(np.float32).precision:\n",
        "                    df[col] = df[col].astype(np.float32)\n",
        "                else:\n",
        "                    df[col] = df[col].astype(np.float64)\n",
        "    end_mem = df.memory_usage().sum() / 1024**2\n",
        "    if verbose: print('Mem. usage decreased to {:5.2f} Mb ({:.1f}% reduction)'.format(end_mem, 100 * (start_mem - end_mem) / start_mem))\n",
        "    return df"
      ],
      "execution_count": 0,
      "outputs": []
    },
    {
      "cell_type": "code",
      "metadata": {
        "id": "etWjaL4PeEGN",
        "colab_type": "code",
        "outputId": "d4fbd74a-e6fa-4813-fc5b-e8e20e16a53e",
        "colab": {
          "base_uri": "https://localhost:8080/",
          "height": 119
        }
      },
      "source": [
        "def read_data():\n",
        "    print('Reading files...')\n",
        "    calendar = pd.read_csv('calendar.csv')\n",
        "    calendar = reduce_mem_usage(calendar)\n",
        "    print('Calendar has {} rows and {} columns'.format(calendar.shape[0], calendar.shape[1]))\n",
        "    sell_prices = pd.read_csv('sell_prices.csv')\n",
        "    sell_prices = reduce_mem_usage(sell_prices)\n",
        "    print('Sell prices has {} rows and {} columns'.format(sell_prices.shape[0], sell_prices.shape[1]))\n",
        "    sales_train_validation = pd.read_csv('sales_train_validation.csv')\n",
        "    print('Sales train validation has {} rows and {} columns'.format(sales_train_validation.shape[0], sales_train_validation.shape[1]))\n",
        "    submission = pd.read_csv('sample_submission.csv')\n",
        "    return calendar, sell_prices, sales_train_validation, submission\n",
        "\n",
        "calendar, sell_prices, sales_train_validation, submission = read_data()"
      ],
      "execution_count": 0,
      "outputs": [
        {
          "output_type": "stream",
          "text": [
            "Reading files...\n",
            "Mem. usage decreased to  0.12 Mb (41.9% reduction)\n",
            "Calendar has 1969 rows and 14 columns\n",
            "Mem. usage decreased to 169.63 Mb (18.7% reduction)\n",
            "Sell prices has 6841121 rows and 4 columns\n",
            "Sales train validation has 30490 rows and 1919 columns\n"
          ],
          "name": "stdout"
        }
      ]
    },
    {
      "cell_type": "code",
      "metadata": {
        "id": "59-bD3HZntGo",
        "colab_type": "code",
        "colab": {}
      },
      "source": [
        "columns_list = ['d_' + str(i) for i in np.arange(1914, 1970, 1)]\n",
        "sub_df = dict()\n",
        "\n",
        "for column in columns_list:\n",
        "  sub_df[column] = np.zeros(len(sales_train_validation))\n",
        "\n",
        "sub_df = pd.DataFrame(sub_df)"
      ],
      "execution_count": 0,
      "outputs": []
    },
    {
      "cell_type": "code",
      "metadata": {
        "id": "bsm3Gjxfn_7Q",
        "colab_type": "code",
        "outputId": "52e1e998-917f-4ad0-9f6f-bb034b75eb85",
        "colab": {
          "base_uri": "https://localhost:8080/",
          "height": 34
        }
      },
      "source": [
        "sales_train_validation = pd.concat([sales_train_validation, sub_df], axis=1)\n",
        "sales_train_validation.shape"
      ],
      "execution_count": 0,
      "outputs": [
        {
          "output_type": "execute_result",
          "data": {
            "text/plain": [
              "(30490, 1975)"
            ]
          },
          "metadata": {
            "tags": []
          },
          "execution_count": 11
        }
      ]
    },
    {
      "cell_type": "code",
      "metadata": {
        "id": "rAs66PKReG_7",
        "colab_type": "code",
        "colab": {}
      },
      "source": [
        "sales_train_validation_melt = pd.melt(sales_train_validation, \n",
        "                                      id_vars=['id', 'item_id', 'dept_id', 'cat_id', 'store_id', 'state_id'], \n",
        "                                      var_name='day', \n",
        "                                      value_name='demand')"
      ],
      "execution_count": 0,
      "outputs": []
    },
    {
      "cell_type": "markdown",
      "metadata": {
        "id": "LyMI-HBteaZ6",
        "colab_type": "text"
      },
      "source": [
        "# Melting dataframe, extracting CA_1"
      ]
    },
    {
      "cell_type": "code",
      "metadata": {
        "id": "pb_MYRNJede0",
        "colab_type": "code",
        "colab": {}
      },
      "source": [
        "sales_CA_1 = sales_train_validation_melt[sales_train_validation_melt.store_id == \"CA_1\"]\n",
        "new_CA_1 = pd.merge(sales_CA_1, calendar, left_on=\"day\", right_on=\"d\", how=\"left\")\n",
        "new_CA_1 = pd.merge(new_CA_1, sell_prices, left_on=[\"store_id\", \"item_id\", \"wm_yr_wk\"],right_on=[\"store_id\", \"item_id\", \"wm_yr_wk\"], how=\"left\")\n",
        "new_CA_1[\"day_int\"] = new_CA_1.day.apply(lambda x: int(x.split(\"_\")[-1])) # day_1 -> 1"
      ],
      "execution_count": 0,
      "outputs": []
    },
    {
      "cell_type": "code",
      "metadata": {
        "id": "fY_RWrw6efb0",
        "colab_type": "code",
        "outputId": "2f889643-e71e-4501-894c-45d658d5b157",
        "colab": {
          "base_uri": "https://localhost:8080/",
          "height": 419
        }
      },
      "source": [
        "sales_CA_1 # all info about all items in CA_1"
      ],
      "execution_count": 0,
      "outputs": [
        {
          "output_type": "execute_result",
          "data": {
            "text/html": [
              "<div>\n",
              "<style scoped>\n",
              "    .dataframe tbody tr th:only-of-type {\n",
              "        vertical-align: middle;\n",
              "    }\n",
              "\n",
              "    .dataframe tbody tr th {\n",
              "        vertical-align: top;\n",
              "    }\n",
              "\n",
              "    .dataframe thead th {\n",
              "        text-align: right;\n",
              "    }\n",
              "</style>\n",
              "<table border=\"1\" class=\"dataframe\">\n",
              "  <thead>\n",
              "    <tr style=\"text-align: right;\">\n",
              "      <th></th>\n",
              "      <th>id</th>\n",
              "      <th>item_id</th>\n",
              "      <th>dept_id</th>\n",
              "      <th>cat_id</th>\n",
              "      <th>store_id</th>\n",
              "      <th>state_id</th>\n",
              "      <th>day</th>\n",
              "      <th>demand</th>\n",
              "    </tr>\n",
              "  </thead>\n",
              "  <tbody>\n",
              "    <tr>\n",
              "      <th>0</th>\n",
              "      <td>HOBBIES_1_001_CA_1_validation</td>\n",
              "      <td>HOBBIES_1_001</td>\n",
              "      <td>HOBBIES_1</td>\n",
              "      <td>HOBBIES</td>\n",
              "      <td>CA_1</td>\n",
              "      <td>CA</td>\n",
              "      <td>d_1</td>\n",
              "      <td>0</td>\n",
              "    </tr>\n",
              "    <tr>\n",
              "      <th>1</th>\n",
              "      <td>HOBBIES_1_002_CA_1_validation</td>\n",
              "      <td>HOBBIES_1_002</td>\n",
              "      <td>HOBBIES_1</td>\n",
              "      <td>HOBBIES</td>\n",
              "      <td>CA_1</td>\n",
              "      <td>CA</td>\n",
              "      <td>d_1</td>\n",
              "      <td>0</td>\n",
              "    </tr>\n",
              "    <tr>\n",
              "      <th>2</th>\n",
              "      <td>HOBBIES_1_003_CA_1_validation</td>\n",
              "      <td>HOBBIES_1_003</td>\n",
              "      <td>HOBBIES_1</td>\n",
              "      <td>HOBBIES</td>\n",
              "      <td>CA_1</td>\n",
              "      <td>CA</td>\n",
              "      <td>d_1</td>\n",
              "      <td>0</td>\n",
              "    </tr>\n",
              "    <tr>\n",
              "      <th>3</th>\n",
              "      <td>HOBBIES_1_004_CA_1_validation</td>\n",
              "      <td>HOBBIES_1_004</td>\n",
              "      <td>HOBBIES_1</td>\n",
              "      <td>HOBBIES</td>\n",
              "      <td>CA_1</td>\n",
              "      <td>CA</td>\n",
              "      <td>d_1</td>\n",
              "      <td>0</td>\n",
              "    </tr>\n",
              "    <tr>\n",
              "      <th>4</th>\n",
              "      <td>HOBBIES_1_005_CA_1_validation</td>\n",
              "      <td>HOBBIES_1_005</td>\n",
              "      <td>HOBBIES_1</td>\n",
              "      <td>HOBBIES</td>\n",
              "      <td>CA_1</td>\n",
              "      <td>CA</td>\n",
              "      <td>d_1</td>\n",
              "      <td>0</td>\n",
              "    </tr>\n",
              "    <tr>\n",
              "      <th>...</th>\n",
              "      <td>...</td>\n",
              "      <td>...</td>\n",
              "      <td>...</td>\n",
              "      <td>...</td>\n",
              "      <td>...</td>\n",
              "      <td>...</td>\n",
              "      <td>...</td>\n",
              "      <td>...</td>\n",
              "    </tr>\n",
              "    <tr>\n",
              "      <th>58299924</th>\n",
              "      <td>FOODS_3_823_CA_1_validation</td>\n",
              "      <td>FOODS_3_823</td>\n",
              "      <td>FOODS_3</td>\n",
              "      <td>FOODS</td>\n",
              "      <td>CA_1</td>\n",
              "      <td>CA</td>\n",
              "      <td>d_1913</td>\n",
              "      <td>1</td>\n",
              "    </tr>\n",
              "    <tr>\n",
              "      <th>58299925</th>\n",
              "      <td>FOODS_3_824_CA_1_validation</td>\n",
              "      <td>FOODS_3_824</td>\n",
              "      <td>FOODS_3</td>\n",
              "      <td>FOODS</td>\n",
              "      <td>CA_1</td>\n",
              "      <td>CA</td>\n",
              "      <td>d_1913</td>\n",
              "      <td>0</td>\n",
              "    </tr>\n",
              "    <tr>\n",
              "      <th>58299926</th>\n",
              "      <td>FOODS_3_825_CA_1_validation</td>\n",
              "      <td>FOODS_3_825</td>\n",
              "      <td>FOODS_3</td>\n",
              "      <td>FOODS</td>\n",
              "      <td>CA_1</td>\n",
              "      <td>CA</td>\n",
              "      <td>d_1913</td>\n",
              "      <td>2</td>\n",
              "    </tr>\n",
              "    <tr>\n",
              "      <th>58299927</th>\n",
              "      <td>FOODS_3_826_CA_1_validation</td>\n",
              "      <td>FOODS_3_826</td>\n",
              "      <td>FOODS_3</td>\n",
              "      <td>FOODS</td>\n",
              "      <td>CA_1</td>\n",
              "      <td>CA</td>\n",
              "      <td>d_1913</td>\n",
              "      <td>0</td>\n",
              "    </tr>\n",
              "    <tr>\n",
              "      <th>58299928</th>\n",
              "      <td>FOODS_3_827_CA_1_validation</td>\n",
              "      <td>FOODS_3_827</td>\n",
              "      <td>FOODS_3</td>\n",
              "      <td>FOODS</td>\n",
              "      <td>CA_1</td>\n",
              "      <td>CA</td>\n",
              "      <td>d_1913</td>\n",
              "      <td>21</td>\n",
              "    </tr>\n",
              "  </tbody>\n",
              "</table>\n",
              "<p>5832737 rows × 8 columns</p>\n",
              "</div>"
            ],
            "text/plain": [
              "                                     id        item_id  ...     day demand\n",
              "0         HOBBIES_1_001_CA_1_validation  HOBBIES_1_001  ...     d_1      0\n",
              "1         HOBBIES_1_002_CA_1_validation  HOBBIES_1_002  ...     d_1      0\n",
              "2         HOBBIES_1_003_CA_1_validation  HOBBIES_1_003  ...     d_1      0\n",
              "3         HOBBIES_1_004_CA_1_validation  HOBBIES_1_004  ...     d_1      0\n",
              "4         HOBBIES_1_005_CA_1_validation  HOBBIES_1_005  ...     d_1      0\n",
              "...                                 ...            ...  ...     ...    ...\n",
              "58299924    FOODS_3_823_CA_1_validation    FOODS_3_823  ...  d_1913      1\n",
              "58299925    FOODS_3_824_CA_1_validation    FOODS_3_824  ...  d_1913      0\n",
              "58299926    FOODS_3_825_CA_1_validation    FOODS_3_825  ...  d_1913      2\n",
              "58299927    FOODS_3_826_CA_1_validation    FOODS_3_826  ...  d_1913      0\n",
              "58299928    FOODS_3_827_CA_1_validation    FOODS_3_827  ...  d_1913     21\n",
              "\n",
              "[5832737 rows x 8 columns]"
            ]
          },
          "metadata": {
            "tags": []
          },
          "execution_count": 8
        }
      ]
    },
    {
      "cell_type": "code",
      "metadata": {
        "id": "GPFGGz9QehAO",
        "colab_type": "code",
        "outputId": "1408383d-edbb-4a06-db77-2fc9e6e1b681",
        "colab": {
          "base_uri": "https://localhost:8080/",
          "height": 204
        }
      },
      "source": [
        "sell_prices.head()"
      ],
      "execution_count": 0,
      "outputs": [
        {
          "output_type": "execute_result",
          "data": {
            "text/html": [
              "<div>\n",
              "<style scoped>\n",
              "    .dataframe tbody tr th:only-of-type {\n",
              "        vertical-align: middle;\n",
              "    }\n",
              "\n",
              "    .dataframe tbody tr th {\n",
              "        vertical-align: top;\n",
              "    }\n",
              "\n",
              "    .dataframe thead th {\n",
              "        text-align: right;\n",
              "    }\n",
              "</style>\n",
              "<table border=\"1\" class=\"dataframe\">\n",
              "  <thead>\n",
              "    <tr style=\"text-align: right;\">\n",
              "      <th></th>\n",
              "      <th>store_id</th>\n",
              "      <th>item_id</th>\n",
              "      <th>wm_yr_wk</th>\n",
              "      <th>sell_price</th>\n",
              "    </tr>\n",
              "  </thead>\n",
              "  <tbody>\n",
              "    <tr>\n",
              "      <th>0</th>\n",
              "      <td>CA_1</td>\n",
              "      <td>HOBBIES_1_001</td>\n",
              "      <td>11325</td>\n",
              "      <td>9.58</td>\n",
              "    </tr>\n",
              "    <tr>\n",
              "      <th>1</th>\n",
              "      <td>CA_1</td>\n",
              "      <td>HOBBIES_1_001</td>\n",
              "      <td>11326</td>\n",
              "      <td>9.58</td>\n",
              "    </tr>\n",
              "    <tr>\n",
              "      <th>2</th>\n",
              "      <td>CA_1</td>\n",
              "      <td>HOBBIES_1_001</td>\n",
              "      <td>11327</td>\n",
              "      <td>8.26</td>\n",
              "    </tr>\n",
              "    <tr>\n",
              "      <th>3</th>\n",
              "      <td>CA_1</td>\n",
              "      <td>HOBBIES_1_001</td>\n",
              "      <td>11328</td>\n",
              "      <td>8.26</td>\n",
              "    </tr>\n",
              "    <tr>\n",
              "      <th>4</th>\n",
              "      <td>CA_1</td>\n",
              "      <td>HOBBIES_1_001</td>\n",
              "      <td>11329</td>\n",
              "      <td>8.26</td>\n",
              "    </tr>\n",
              "  </tbody>\n",
              "</table>\n",
              "</div>"
            ],
            "text/plain": [
              "  store_id        item_id  wm_yr_wk  sell_price\n",
              "0     CA_1  HOBBIES_1_001     11325        9.58\n",
              "1     CA_1  HOBBIES_1_001     11326        9.58\n",
              "2     CA_1  HOBBIES_1_001     11327        8.26\n",
              "3     CA_1  HOBBIES_1_001     11328        8.26\n",
              "4     CA_1  HOBBIES_1_001     11329        8.26"
            ]
          },
          "metadata": {
            "tags": []
          },
          "execution_count": 9
        }
      ]
    },
    {
      "cell_type": "code",
      "metadata": {
        "id": "wlSf6IR0eiP5",
        "colab_type": "code",
        "outputId": "14c0f27d-427a-404e-adfb-101366d71a46",
        "colab": {
          "base_uri": "https://localhost:8080/",
          "height": 204
        }
      },
      "source": [
        "calendar.head()"
      ],
      "execution_count": 0,
      "outputs": [
        {
          "output_type": "execute_result",
          "data": {
            "text/html": [
              "<div>\n",
              "<style scoped>\n",
              "    .dataframe tbody tr th:only-of-type {\n",
              "        vertical-align: middle;\n",
              "    }\n",
              "\n",
              "    .dataframe tbody tr th {\n",
              "        vertical-align: top;\n",
              "    }\n",
              "\n",
              "    .dataframe thead th {\n",
              "        text-align: right;\n",
              "    }\n",
              "</style>\n",
              "<table border=\"1\" class=\"dataframe\">\n",
              "  <thead>\n",
              "    <tr style=\"text-align: right;\">\n",
              "      <th></th>\n",
              "      <th>date</th>\n",
              "      <th>wm_yr_wk</th>\n",
              "      <th>weekday</th>\n",
              "      <th>wday</th>\n",
              "      <th>month</th>\n",
              "      <th>year</th>\n",
              "      <th>d</th>\n",
              "      <th>event_name_1</th>\n",
              "      <th>event_type_1</th>\n",
              "      <th>event_name_2</th>\n",
              "      <th>event_type_2</th>\n",
              "      <th>snap_CA</th>\n",
              "      <th>snap_TX</th>\n",
              "      <th>snap_WI</th>\n",
              "    </tr>\n",
              "  </thead>\n",
              "  <tbody>\n",
              "    <tr>\n",
              "      <th>0</th>\n",
              "      <td>2011-01-29</td>\n",
              "      <td>11101</td>\n",
              "      <td>Saturday</td>\n",
              "      <td>1</td>\n",
              "      <td>1</td>\n",
              "      <td>2011</td>\n",
              "      <td>d_1</td>\n",
              "      <td>NaN</td>\n",
              "      <td>NaN</td>\n",
              "      <td>NaN</td>\n",
              "      <td>NaN</td>\n",
              "      <td>0</td>\n",
              "      <td>0</td>\n",
              "      <td>0</td>\n",
              "    </tr>\n",
              "    <tr>\n",
              "      <th>1</th>\n",
              "      <td>2011-01-30</td>\n",
              "      <td>11101</td>\n",
              "      <td>Sunday</td>\n",
              "      <td>2</td>\n",
              "      <td>1</td>\n",
              "      <td>2011</td>\n",
              "      <td>d_2</td>\n",
              "      <td>NaN</td>\n",
              "      <td>NaN</td>\n",
              "      <td>NaN</td>\n",
              "      <td>NaN</td>\n",
              "      <td>0</td>\n",
              "      <td>0</td>\n",
              "      <td>0</td>\n",
              "    </tr>\n",
              "    <tr>\n",
              "      <th>2</th>\n",
              "      <td>2011-01-31</td>\n",
              "      <td>11101</td>\n",
              "      <td>Monday</td>\n",
              "      <td>3</td>\n",
              "      <td>1</td>\n",
              "      <td>2011</td>\n",
              "      <td>d_3</td>\n",
              "      <td>NaN</td>\n",
              "      <td>NaN</td>\n",
              "      <td>NaN</td>\n",
              "      <td>NaN</td>\n",
              "      <td>0</td>\n",
              "      <td>0</td>\n",
              "      <td>0</td>\n",
              "    </tr>\n",
              "    <tr>\n",
              "      <th>3</th>\n",
              "      <td>2011-02-01</td>\n",
              "      <td>11101</td>\n",
              "      <td>Tuesday</td>\n",
              "      <td>4</td>\n",
              "      <td>2</td>\n",
              "      <td>2011</td>\n",
              "      <td>d_4</td>\n",
              "      <td>NaN</td>\n",
              "      <td>NaN</td>\n",
              "      <td>NaN</td>\n",
              "      <td>NaN</td>\n",
              "      <td>1</td>\n",
              "      <td>1</td>\n",
              "      <td>0</td>\n",
              "    </tr>\n",
              "    <tr>\n",
              "      <th>4</th>\n",
              "      <td>2011-02-02</td>\n",
              "      <td>11101</td>\n",
              "      <td>Wednesday</td>\n",
              "      <td>5</td>\n",
              "      <td>2</td>\n",
              "      <td>2011</td>\n",
              "      <td>d_5</td>\n",
              "      <td>NaN</td>\n",
              "      <td>NaN</td>\n",
              "      <td>NaN</td>\n",
              "      <td>NaN</td>\n",
              "      <td>1</td>\n",
              "      <td>0</td>\n",
              "      <td>1</td>\n",
              "    </tr>\n",
              "  </tbody>\n",
              "</table>\n",
              "</div>"
            ],
            "text/plain": [
              "         date  wm_yr_wk    weekday  ...  snap_CA  snap_TX  snap_WI\n",
              "0  2011-01-29     11101   Saturday  ...        0        0        0\n",
              "1  2011-01-30     11101     Sunday  ...        0        0        0\n",
              "2  2011-01-31     11101     Monday  ...        0        0        0\n",
              "3  2011-02-01     11101    Tuesday  ...        1        1        0\n",
              "4  2011-02-02     11101  Wednesday  ...        1        0        1\n",
              "\n",
              "[5 rows x 14 columns]"
            ]
          },
          "metadata": {
            "tags": []
          },
          "execution_count": 10
        }
      ]
    },
    {
      "cell_type": "code",
      "metadata": {
        "id": "6k8dw2yeejdW",
        "colab_type": "code",
        "outputId": "6f506081-b796-4f9a-fb23-1fab55f4dadd",
        "colab": {
          "base_uri": "https://localhost:8080/",
          "height": 394
        }
      },
      "source": [
        "new_CA_1.head() # merged with calendar and price to get more info"
      ],
      "execution_count": 0,
      "outputs": [
        {
          "output_type": "execute_result",
          "data": {
            "text/html": [
              "<div>\n",
              "<style scoped>\n",
              "    .dataframe tbody tr th:only-of-type {\n",
              "        vertical-align: middle;\n",
              "    }\n",
              "\n",
              "    .dataframe tbody tr th {\n",
              "        vertical-align: top;\n",
              "    }\n",
              "\n",
              "    .dataframe thead th {\n",
              "        text-align: right;\n",
              "    }\n",
              "</style>\n",
              "<table border=\"1\" class=\"dataframe\">\n",
              "  <thead>\n",
              "    <tr style=\"text-align: right;\">\n",
              "      <th></th>\n",
              "      <th>id</th>\n",
              "      <th>item_id</th>\n",
              "      <th>dept_id</th>\n",
              "      <th>cat_id</th>\n",
              "      <th>store_id</th>\n",
              "      <th>state_id</th>\n",
              "      <th>day</th>\n",
              "      <th>demand</th>\n",
              "      <th>date</th>\n",
              "      <th>wm_yr_wk</th>\n",
              "      <th>weekday</th>\n",
              "      <th>wday</th>\n",
              "      <th>month</th>\n",
              "      <th>year</th>\n",
              "      <th>d</th>\n",
              "      <th>event_name_1</th>\n",
              "      <th>event_type_1</th>\n",
              "      <th>event_name_2</th>\n",
              "      <th>event_type_2</th>\n",
              "      <th>snap_CA</th>\n",
              "      <th>snap_TX</th>\n",
              "      <th>snap_WI</th>\n",
              "      <th>sell_price</th>\n",
              "      <th>day_int</th>\n",
              "    </tr>\n",
              "  </thead>\n",
              "  <tbody>\n",
              "    <tr>\n",
              "      <th>0</th>\n",
              "      <td>HOBBIES_1_001_CA_1_validation</td>\n",
              "      <td>HOBBIES_1_001</td>\n",
              "      <td>HOBBIES_1</td>\n",
              "      <td>HOBBIES</td>\n",
              "      <td>CA_1</td>\n",
              "      <td>CA</td>\n",
              "      <td>d_1</td>\n",
              "      <td>0</td>\n",
              "      <td>2011-01-29</td>\n",
              "      <td>11101</td>\n",
              "      <td>Saturday</td>\n",
              "      <td>1</td>\n",
              "      <td>1</td>\n",
              "      <td>2011</td>\n",
              "      <td>d_1</td>\n",
              "      <td>NaN</td>\n",
              "      <td>NaN</td>\n",
              "      <td>NaN</td>\n",
              "      <td>NaN</td>\n",
              "      <td>0</td>\n",
              "      <td>0</td>\n",
              "      <td>0</td>\n",
              "      <td>NaN</td>\n",
              "      <td>1</td>\n",
              "    </tr>\n",
              "    <tr>\n",
              "      <th>1</th>\n",
              "      <td>HOBBIES_1_002_CA_1_validation</td>\n",
              "      <td>HOBBIES_1_002</td>\n",
              "      <td>HOBBIES_1</td>\n",
              "      <td>HOBBIES</td>\n",
              "      <td>CA_1</td>\n",
              "      <td>CA</td>\n",
              "      <td>d_1</td>\n",
              "      <td>0</td>\n",
              "      <td>2011-01-29</td>\n",
              "      <td>11101</td>\n",
              "      <td>Saturday</td>\n",
              "      <td>1</td>\n",
              "      <td>1</td>\n",
              "      <td>2011</td>\n",
              "      <td>d_1</td>\n",
              "      <td>NaN</td>\n",
              "      <td>NaN</td>\n",
              "      <td>NaN</td>\n",
              "      <td>NaN</td>\n",
              "      <td>0</td>\n",
              "      <td>0</td>\n",
              "      <td>0</td>\n",
              "      <td>NaN</td>\n",
              "      <td>1</td>\n",
              "    </tr>\n",
              "    <tr>\n",
              "      <th>2</th>\n",
              "      <td>HOBBIES_1_003_CA_1_validation</td>\n",
              "      <td>HOBBIES_1_003</td>\n",
              "      <td>HOBBIES_1</td>\n",
              "      <td>HOBBIES</td>\n",
              "      <td>CA_1</td>\n",
              "      <td>CA</td>\n",
              "      <td>d_1</td>\n",
              "      <td>0</td>\n",
              "      <td>2011-01-29</td>\n",
              "      <td>11101</td>\n",
              "      <td>Saturday</td>\n",
              "      <td>1</td>\n",
              "      <td>1</td>\n",
              "      <td>2011</td>\n",
              "      <td>d_1</td>\n",
              "      <td>NaN</td>\n",
              "      <td>NaN</td>\n",
              "      <td>NaN</td>\n",
              "      <td>NaN</td>\n",
              "      <td>0</td>\n",
              "      <td>0</td>\n",
              "      <td>0</td>\n",
              "      <td>NaN</td>\n",
              "      <td>1</td>\n",
              "    </tr>\n",
              "    <tr>\n",
              "      <th>3</th>\n",
              "      <td>HOBBIES_1_004_CA_1_validation</td>\n",
              "      <td>HOBBIES_1_004</td>\n",
              "      <td>HOBBIES_1</td>\n",
              "      <td>HOBBIES</td>\n",
              "      <td>CA_1</td>\n",
              "      <td>CA</td>\n",
              "      <td>d_1</td>\n",
              "      <td>0</td>\n",
              "      <td>2011-01-29</td>\n",
              "      <td>11101</td>\n",
              "      <td>Saturday</td>\n",
              "      <td>1</td>\n",
              "      <td>1</td>\n",
              "      <td>2011</td>\n",
              "      <td>d_1</td>\n",
              "      <td>NaN</td>\n",
              "      <td>NaN</td>\n",
              "      <td>NaN</td>\n",
              "      <td>NaN</td>\n",
              "      <td>0</td>\n",
              "      <td>0</td>\n",
              "      <td>0</td>\n",
              "      <td>NaN</td>\n",
              "      <td>1</td>\n",
              "    </tr>\n",
              "    <tr>\n",
              "      <th>4</th>\n",
              "      <td>HOBBIES_1_005_CA_1_validation</td>\n",
              "      <td>HOBBIES_1_005</td>\n",
              "      <td>HOBBIES_1</td>\n",
              "      <td>HOBBIES</td>\n",
              "      <td>CA_1</td>\n",
              "      <td>CA</td>\n",
              "      <td>d_1</td>\n",
              "      <td>0</td>\n",
              "      <td>2011-01-29</td>\n",
              "      <td>11101</td>\n",
              "      <td>Saturday</td>\n",
              "      <td>1</td>\n",
              "      <td>1</td>\n",
              "      <td>2011</td>\n",
              "      <td>d_1</td>\n",
              "      <td>NaN</td>\n",
              "      <td>NaN</td>\n",
              "      <td>NaN</td>\n",
              "      <td>NaN</td>\n",
              "      <td>0</td>\n",
              "      <td>0</td>\n",
              "      <td>0</td>\n",
              "      <td>NaN</td>\n",
              "      <td>1</td>\n",
              "    </tr>\n",
              "  </tbody>\n",
              "</table>\n",
              "</div>"
            ],
            "text/plain": [
              "                              id        item_id  ... sell_price day_int\n",
              "0  HOBBIES_1_001_CA_1_validation  HOBBIES_1_001  ...        NaN       1\n",
              "1  HOBBIES_1_002_CA_1_validation  HOBBIES_1_002  ...        NaN       1\n",
              "2  HOBBIES_1_003_CA_1_validation  HOBBIES_1_003  ...        NaN       1\n",
              "3  HOBBIES_1_004_CA_1_validation  HOBBIES_1_004  ...        NaN       1\n",
              "4  HOBBIES_1_005_CA_1_validation  HOBBIES_1_005  ...        NaN       1\n",
              "\n",
              "[5 rows x 24 columns]"
            ]
          },
          "metadata": {
            "tags": []
          },
          "execution_count": 11
        }
      ]
    },
    {
      "cell_type": "code",
      "metadata": {
        "id": "K0gMViH5elQK",
        "colab_type": "code",
        "colab": {}
      },
      "source": [
        "day_sum = new_CA_1.groupby(\"day_int\")[[\"sell_price\", \"demand\"]].agg(\"sum\").reset_index()"
      ],
      "execution_count": 0,
      "outputs": []
    },
    {
      "cell_type": "code",
      "metadata": {
        "id": "LPOvtqGfem_W",
        "colab_type": "code",
        "outputId": "a77c666d-f5f8-4af8-b788-b2b1675e8b11",
        "colab": {
          "base_uri": "https://localhost:8080/",
          "height": 419
        }
      },
      "source": [
        "day_sum # the price and total sales in CA_1"
      ],
      "execution_count": 0,
      "outputs": [
        {
          "output_type": "execute_result",
          "data": {
            "text/html": [
              "<div>\n",
              "<style scoped>\n",
              "    .dataframe tbody tr th:only-of-type {\n",
              "        vertical-align: middle;\n",
              "    }\n",
              "\n",
              "    .dataframe tbody tr th {\n",
              "        vertical-align: top;\n",
              "    }\n",
              "\n",
              "    .dataframe thead th {\n",
              "        text-align: right;\n",
              "    }\n",
              "</style>\n",
              "<table border=\"1\" class=\"dataframe\">\n",
              "  <thead>\n",
              "    <tr style=\"text-align: right;\">\n",
              "      <th></th>\n",
              "      <th>day_int</th>\n",
              "      <th>sell_price</th>\n",
              "      <th>demand</th>\n",
              "    </tr>\n",
              "  </thead>\n",
              "  <tbody>\n",
              "    <tr>\n",
              "      <th>0</th>\n",
              "      <td>1</td>\n",
              "      <td>4913.61</td>\n",
              "      <td>4337</td>\n",
              "    </tr>\n",
              "    <tr>\n",
              "      <th>1</th>\n",
              "      <td>2</td>\n",
              "      <td>4913.61</td>\n",
              "      <td>4155</td>\n",
              "    </tr>\n",
              "    <tr>\n",
              "      <th>2</th>\n",
              "      <td>3</td>\n",
              "      <td>4913.61</td>\n",
              "      <td>2816</td>\n",
              "    </tr>\n",
              "    <tr>\n",
              "      <th>3</th>\n",
              "      <td>4</td>\n",
              "      <td>4913.61</td>\n",
              "      <td>3051</td>\n",
              "    </tr>\n",
              "    <tr>\n",
              "      <th>4</th>\n",
              "      <td>5</td>\n",
              "      <td>4913.61</td>\n",
              "      <td>2630</td>\n",
              "    </tr>\n",
              "    <tr>\n",
              "      <th>...</th>\n",
              "      <td>...</td>\n",
              "      <td>...</td>\n",
              "      <td>...</td>\n",
              "    </tr>\n",
              "    <tr>\n",
              "      <th>1908</th>\n",
              "      <td>1909</td>\n",
              "      <td>13691.54</td>\n",
              "      <td>3722</td>\n",
              "    </tr>\n",
              "    <tr>\n",
              "      <th>1909</th>\n",
              "      <td>1910</td>\n",
              "      <td>13691.54</td>\n",
              "      <td>3709</td>\n",
              "    </tr>\n",
              "    <tr>\n",
              "      <th>1910</th>\n",
              "      <td>1911</td>\n",
              "      <td>13691.54</td>\n",
              "      <td>4387</td>\n",
              "    </tr>\n",
              "    <tr>\n",
              "      <th>1911</th>\n",
              "      <td>1912</td>\n",
              "      <td>13691.33</td>\n",
              "      <td>5577</td>\n",
              "    </tr>\n",
              "    <tr>\n",
              "      <th>1912</th>\n",
              "      <td>1913</td>\n",
              "      <td>13691.33</td>\n",
              "      <td>6113</td>\n",
              "    </tr>\n",
              "  </tbody>\n",
              "</table>\n",
              "<p>1913 rows × 3 columns</p>\n",
              "</div>"
            ],
            "text/plain": [
              "      day_int  sell_price  demand\n",
              "0           1     4913.61    4337\n",
              "1           2     4913.61    4155\n",
              "2           3     4913.61    2816\n",
              "3           4     4913.61    3051\n",
              "4           5     4913.61    2630\n",
              "...       ...         ...     ...\n",
              "1908     1909    13691.54    3722\n",
              "1909     1910    13691.54    3709\n",
              "1910     1911    13691.54    4387\n",
              "1911     1912    13691.33    5577\n",
              "1912     1913    13691.33    6113\n",
              "\n",
              "[1913 rows x 3 columns]"
            ]
          },
          "metadata": {
            "tags": []
          },
          "execution_count": 13
        }
      ]
    },
    {
      "cell_type": "code",
      "metadata": {
        "id": "ONXUlZSheoSY",
        "colab_type": "code",
        "outputId": "31ec646f-6eb6-4767-b64f-828e718d04ca",
        "colab": {
          "base_uri": "https://localhost:8080/",
          "height": 779
        }
      },
      "source": [
        "new_CA_1[new_CA_1['day_int'] == 1] # look at the first day"
      ],
      "execution_count": 0,
      "outputs": [
        {
          "output_type": "execute_result",
          "data": {
            "text/html": [
              "<div>\n",
              "<style scoped>\n",
              "    .dataframe tbody tr th:only-of-type {\n",
              "        vertical-align: middle;\n",
              "    }\n",
              "\n",
              "    .dataframe tbody tr th {\n",
              "        vertical-align: top;\n",
              "    }\n",
              "\n",
              "    .dataframe thead th {\n",
              "        text-align: right;\n",
              "    }\n",
              "</style>\n",
              "<table border=\"1\" class=\"dataframe\">\n",
              "  <thead>\n",
              "    <tr style=\"text-align: right;\">\n",
              "      <th></th>\n",
              "      <th>id</th>\n",
              "      <th>item_id</th>\n",
              "      <th>dept_id</th>\n",
              "      <th>cat_id</th>\n",
              "      <th>store_id</th>\n",
              "      <th>state_id</th>\n",
              "      <th>day</th>\n",
              "      <th>demand</th>\n",
              "      <th>date</th>\n",
              "      <th>wm_yr_wk</th>\n",
              "      <th>weekday</th>\n",
              "      <th>wday</th>\n",
              "      <th>month</th>\n",
              "      <th>year</th>\n",
              "      <th>d</th>\n",
              "      <th>event_name_1</th>\n",
              "      <th>event_type_1</th>\n",
              "      <th>event_name_2</th>\n",
              "      <th>event_type_2</th>\n",
              "      <th>snap_CA</th>\n",
              "      <th>snap_TX</th>\n",
              "      <th>snap_WI</th>\n",
              "      <th>sell_price</th>\n",
              "      <th>day_int</th>\n",
              "    </tr>\n",
              "  </thead>\n",
              "  <tbody>\n",
              "    <tr>\n",
              "      <th>0</th>\n",
              "      <td>HOBBIES_1_001_CA_1_validation</td>\n",
              "      <td>HOBBIES_1_001</td>\n",
              "      <td>HOBBIES_1</td>\n",
              "      <td>HOBBIES</td>\n",
              "      <td>CA_1</td>\n",
              "      <td>CA</td>\n",
              "      <td>d_1</td>\n",
              "      <td>0</td>\n",
              "      <td>2011-01-29</td>\n",
              "      <td>11101</td>\n",
              "      <td>Saturday</td>\n",
              "      <td>1</td>\n",
              "      <td>1</td>\n",
              "      <td>2011</td>\n",
              "      <td>d_1</td>\n",
              "      <td>NaN</td>\n",
              "      <td>NaN</td>\n",
              "      <td>NaN</td>\n",
              "      <td>NaN</td>\n",
              "      <td>0</td>\n",
              "      <td>0</td>\n",
              "      <td>0</td>\n",
              "      <td>NaN</td>\n",
              "      <td>1</td>\n",
              "    </tr>\n",
              "    <tr>\n",
              "      <th>1</th>\n",
              "      <td>HOBBIES_1_002_CA_1_validation</td>\n",
              "      <td>HOBBIES_1_002</td>\n",
              "      <td>HOBBIES_1</td>\n",
              "      <td>HOBBIES</td>\n",
              "      <td>CA_1</td>\n",
              "      <td>CA</td>\n",
              "      <td>d_1</td>\n",
              "      <td>0</td>\n",
              "      <td>2011-01-29</td>\n",
              "      <td>11101</td>\n",
              "      <td>Saturday</td>\n",
              "      <td>1</td>\n",
              "      <td>1</td>\n",
              "      <td>2011</td>\n",
              "      <td>d_1</td>\n",
              "      <td>NaN</td>\n",
              "      <td>NaN</td>\n",
              "      <td>NaN</td>\n",
              "      <td>NaN</td>\n",
              "      <td>0</td>\n",
              "      <td>0</td>\n",
              "      <td>0</td>\n",
              "      <td>NaN</td>\n",
              "      <td>1</td>\n",
              "    </tr>\n",
              "    <tr>\n",
              "      <th>2</th>\n",
              "      <td>HOBBIES_1_003_CA_1_validation</td>\n",
              "      <td>HOBBIES_1_003</td>\n",
              "      <td>HOBBIES_1</td>\n",
              "      <td>HOBBIES</td>\n",
              "      <td>CA_1</td>\n",
              "      <td>CA</td>\n",
              "      <td>d_1</td>\n",
              "      <td>0</td>\n",
              "      <td>2011-01-29</td>\n",
              "      <td>11101</td>\n",
              "      <td>Saturday</td>\n",
              "      <td>1</td>\n",
              "      <td>1</td>\n",
              "      <td>2011</td>\n",
              "      <td>d_1</td>\n",
              "      <td>NaN</td>\n",
              "      <td>NaN</td>\n",
              "      <td>NaN</td>\n",
              "      <td>NaN</td>\n",
              "      <td>0</td>\n",
              "      <td>0</td>\n",
              "      <td>0</td>\n",
              "      <td>NaN</td>\n",
              "      <td>1</td>\n",
              "    </tr>\n",
              "    <tr>\n",
              "      <th>3</th>\n",
              "      <td>HOBBIES_1_004_CA_1_validation</td>\n",
              "      <td>HOBBIES_1_004</td>\n",
              "      <td>HOBBIES_1</td>\n",
              "      <td>HOBBIES</td>\n",
              "      <td>CA_1</td>\n",
              "      <td>CA</td>\n",
              "      <td>d_1</td>\n",
              "      <td>0</td>\n",
              "      <td>2011-01-29</td>\n",
              "      <td>11101</td>\n",
              "      <td>Saturday</td>\n",
              "      <td>1</td>\n",
              "      <td>1</td>\n",
              "      <td>2011</td>\n",
              "      <td>d_1</td>\n",
              "      <td>NaN</td>\n",
              "      <td>NaN</td>\n",
              "      <td>NaN</td>\n",
              "      <td>NaN</td>\n",
              "      <td>0</td>\n",
              "      <td>0</td>\n",
              "      <td>0</td>\n",
              "      <td>NaN</td>\n",
              "      <td>1</td>\n",
              "    </tr>\n",
              "    <tr>\n",
              "      <th>4</th>\n",
              "      <td>HOBBIES_1_005_CA_1_validation</td>\n",
              "      <td>HOBBIES_1_005</td>\n",
              "      <td>HOBBIES_1</td>\n",
              "      <td>HOBBIES</td>\n",
              "      <td>CA_1</td>\n",
              "      <td>CA</td>\n",
              "      <td>d_1</td>\n",
              "      <td>0</td>\n",
              "      <td>2011-01-29</td>\n",
              "      <td>11101</td>\n",
              "      <td>Saturday</td>\n",
              "      <td>1</td>\n",
              "      <td>1</td>\n",
              "      <td>2011</td>\n",
              "      <td>d_1</td>\n",
              "      <td>NaN</td>\n",
              "      <td>NaN</td>\n",
              "      <td>NaN</td>\n",
              "      <td>NaN</td>\n",
              "      <td>0</td>\n",
              "      <td>0</td>\n",
              "      <td>0</td>\n",
              "      <td>NaN</td>\n",
              "      <td>1</td>\n",
              "    </tr>\n",
              "    <tr>\n",
              "      <th>...</th>\n",
              "      <td>...</td>\n",
              "      <td>...</td>\n",
              "      <td>...</td>\n",
              "      <td>...</td>\n",
              "      <td>...</td>\n",
              "      <td>...</td>\n",
              "      <td>...</td>\n",
              "      <td>...</td>\n",
              "      <td>...</td>\n",
              "      <td>...</td>\n",
              "      <td>...</td>\n",
              "      <td>...</td>\n",
              "      <td>...</td>\n",
              "      <td>...</td>\n",
              "      <td>...</td>\n",
              "      <td>...</td>\n",
              "      <td>...</td>\n",
              "      <td>...</td>\n",
              "      <td>...</td>\n",
              "      <td>...</td>\n",
              "      <td>...</td>\n",
              "      <td>...</td>\n",
              "      <td>...</td>\n",
              "      <td>...</td>\n",
              "    </tr>\n",
              "    <tr>\n",
              "      <th>3044</th>\n",
              "      <td>FOODS_3_823_CA_1_validation</td>\n",
              "      <td>FOODS_3_823</td>\n",
              "      <td>FOODS_3</td>\n",
              "      <td>FOODS</td>\n",
              "      <td>CA_1</td>\n",
              "      <td>CA</td>\n",
              "      <td>d_1</td>\n",
              "      <td>0</td>\n",
              "      <td>2011-01-29</td>\n",
              "      <td>11101</td>\n",
              "      <td>Saturday</td>\n",
              "      <td>1</td>\n",
              "      <td>1</td>\n",
              "      <td>2011</td>\n",
              "      <td>d_1</td>\n",
              "      <td>NaN</td>\n",
              "      <td>NaN</td>\n",
              "      <td>NaN</td>\n",
              "      <td>NaN</td>\n",
              "      <td>0</td>\n",
              "      <td>0</td>\n",
              "      <td>0</td>\n",
              "      <td>NaN</td>\n",
              "      <td>1</td>\n",
              "    </tr>\n",
              "    <tr>\n",
              "      <th>3045</th>\n",
              "      <td>FOODS_3_824_CA_1_validation</td>\n",
              "      <td>FOODS_3_824</td>\n",
              "      <td>FOODS_3</td>\n",
              "      <td>FOODS</td>\n",
              "      <td>CA_1</td>\n",
              "      <td>CA</td>\n",
              "      <td>d_1</td>\n",
              "      <td>1</td>\n",
              "      <td>2011-01-29</td>\n",
              "      <td>11101</td>\n",
              "      <td>Saturday</td>\n",
              "      <td>1</td>\n",
              "      <td>1</td>\n",
              "      <td>2011</td>\n",
              "      <td>d_1</td>\n",
              "      <td>NaN</td>\n",
              "      <td>NaN</td>\n",
              "      <td>NaN</td>\n",
              "      <td>NaN</td>\n",
              "      <td>0</td>\n",
              "      <td>0</td>\n",
              "      <td>0</td>\n",
              "      <td>2.47</td>\n",
              "      <td>1</td>\n",
              "    </tr>\n",
              "    <tr>\n",
              "      <th>3046</th>\n",
              "      <td>FOODS_3_825_CA_1_validation</td>\n",
              "      <td>FOODS_3_825</td>\n",
              "      <td>FOODS_3</td>\n",
              "      <td>FOODS</td>\n",
              "      <td>CA_1</td>\n",
              "      <td>CA</td>\n",
              "      <td>d_1</td>\n",
              "      <td>0</td>\n",
              "      <td>2011-01-29</td>\n",
              "      <td>11101</td>\n",
              "      <td>Saturday</td>\n",
              "      <td>1</td>\n",
              "      <td>1</td>\n",
              "      <td>2011</td>\n",
              "      <td>d_1</td>\n",
              "      <td>NaN</td>\n",
              "      <td>NaN</td>\n",
              "      <td>NaN</td>\n",
              "      <td>NaN</td>\n",
              "      <td>0</td>\n",
              "      <td>0</td>\n",
              "      <td>0</td>\n",
              "      <td>NaN</td>\n",
              "      <td>1</td>\n",
              "    </tr>\n",
              "    <tr>\n",
              "      <th>3047</th>\n",
              "      <td>FOODS_3_826_CA_1_validation</td>\n",
              "      <td>FOODS_3_826</td>\n",
              "      <td>FOODS_3</td>\n",
              "      <td>FOODS</td>\n",
              "      <td>CA_1</td>\n",
              "      <td>CA</td>\n",
              "      <td>d_1</td>\n",
              "      <td>0</td>\n",
              "      <td>2011-01-29</td>\n",
              "      <td>11101</td>\n",
              "      <td>Saturday</td>\n",
              "      <td>1</td>\n",
              "      <td>1</td>\n",
              "      <td>2011</td>\n",
              "      <td>d_1</td>\n",
              "      <td>NaN</td>\n",
              "      <td>NaN</td>\n",
              "      <td>NaN</td>\n",
              "      <td>NaN</td>\n",
              "      <td>0</td>\n",
              "      <td>0</td>\n",
              "      <td>0</td>\n",
              "      <td>NaN</td>\n",
              "      <td>1</td>\n",
              "    </tr>\n",
              "    <tr>\n",
              "      <th>3048</th>\n",
              "      <td>FOODS_3_827_CA_1_validation</td>\n",
              "      <td>FOODS_3_827</td>\n",
              "      <td>FOODS_3</td>\n",
              "      <td>FOODS</td>\n",
              "      <td>CA_1</td>\n",
              "      <td>CA</td>\n",
              "      <td>d_1</td>\n",
              "      <td>0</td>\n",
              "      <td>2011-01-29</td>\n",
              "      <td>11101</td>\n",
              "      <td>Saturday</td>\n",
              "      <td>1</td>\n",
              "      <td>1</td>\n",
              "      <td>2011</td>\n",
              "      <td>d_1</td>\n",
              "      <td>NaN</td>\n",
              "      <td>NaN</td>\n",
              "      <td>NaN</td>\n",
              "      <td>NaN</td>\n",
              "      <td>0</td>\n",
              "      <td>0</td>\n",
              "      <td>0</td>\n",
              "      <td>NaN</td>\n",
              "      <td>1</td>\n",
              "    </tr>\n",
              "  </tbody>\n",
              "</table>\n",
              "<p>3049 rows × 24 columns</p>\n",
              "</div>"
            ],
            "text/plain": [
              "                                 id        item_id  ... sell_price day_int\n",
              "0     HOBBIES_1_001_CA_1_validation  HOBBIES_1_001  ...        NaN       1\n",
              "1     HOBBIES_1_002_CA_1_validation  HOBBIES_1_002  ...        NaN       1\n",
              "2     HOBBIES_1_003_CA_1_validation  HOBBIES_1_003  ...        NaN       1\n",
              "3     HOBBIES_1_004_CA_1_validation  HOBBIES_1_004  ...        NaN       1\n",
              "4     HOBBIES_1_005_CA_1_validation  HOBBIES_1_005  ...        NaN       1\n",
              "...                             ...            ...  ...        ...     ...\n",
              "3044    FOODS_3_823_CA_1_validation    FOODS_3_823  ...        NaN       1\n",
              "3045    FOODS_3_824_CA_1_validation    FOODS_3_824  ...       2.47       1\n",
              "3046    FOODS_3_825_CA_1_validation    FOODS_3_825  ...        NaN       1\n",
              "3047    FOODS_3_826_CA_1_validation    FOODS_3_826  ...        NaN       1\n",
              "3048    FOODS_3_827_CA_1_validation    FOODS_3_827  ...        NaN       1\n",
              "\n",
              "[3049 rows x 24 columns]"
            ]
          },
          "metadata": {
            "tags": []
          },
          "execution_count": 14
        }
      ]
    },
    {
      "cell_type": "code",
      "metadata": {
        "id": "jh9D9YE6epsS",
        "colab_type": "code",
        "colab": {}
      },
      "source": [
        "import matplotlib.pyplot as plt"
      ],
      "execution_count": 0,
      "outputs": []
    },
    {
      "cell_type": "code",
      "metadata": {
        "id": "4ee5dcFrerFE",
        "colab_type": "code",
        "outputId": "e9527719-63b3-4580-bbbe-0aa6bb0a3c86",
        "colab": {
          "base_uri": "https://localhost:8080/",
          "height": 281
        }
      },
      "source": [
        "plt.plot(day_sum['day_int'], day_sum['sell_price'])\n",
        "plt.title(\"Sell price vs day progress\")\n",
        "plt.show()"
      ],
      "execution_count": 0,
      "outputs": [
        {
          "output_type": "display_data",
          "data": {
            "image/png": "[encoded data removed]",
            "text/plain": [
              "<Figure size 432x288 with 1 Axes>"
            ]
          },
          "metadata": {
            "tags": [],
            "needs_background": "light"
          }
        }
      ]
    },
    {
      "cell_type": "code",
      "metadata": {
        "id": "8DDwYdkvevbO",
        "colab_type": "code",
        "outputId": "dfb536df-4a50-49e6-f8d6-08aed3de2b9f",
        "colab": {
          "base_uri": "https://localhost:8080/",
          "height": 281
        }
      },
      "source": [
        "plt.plot(day_sum['day_int'], day_sum['demand'])\n",
        "plt.title(\"Demand vs day\")\n",
        "plt.show()"
      ],
      "execution_count": 0,
      "outputs": [
        {
          "output_type": "display_data",
          "data": {
            "image/png": "[encoded data removed]",
            "text/plain": [
              "<Figure size 432x288 with 1 Axes>"
            ]
          },
          "metadata": {
            "tags": [],
            "needs_background": "light"
          }
        }
      ]
    },
    {
      "cell_type": "code",
      "metadata": {
        "id": "VMs_MElgew1p",
        "colab_type": "code",
        "outputId": "85c3b120-8e7d-4bc1-e2e8-849e0a3fb13c",
        "colab": {
          "base_uri": "https://localhost:8080/",
          "height": 281
        }
      },
      "source": [
        "plt.plot(day_sum['day_int'], day_sum['demand'])\n",
        "plt.plot(day_sum['day_int'], day_sum['sell_price'])\n",
        "plt.title(\"Demand, sell price vs day\")\n",
        "plt.show()"
      ],
      "execution_count": 0,
      "outputs": [
        {
          "output_type": "display_data",
          "data": {
            "image/png": "[encoded data removed]",
            "text/plain": [
              "<Figure size 432x288 with 1 Axes>"
            ]
          },
          "metadata": {
            "tags": [],
            "needs_background": "light"
          }
        }
      ]
    },
    {
      "cell_type": "markdown",
      "metadata": {
        "id": "HKOM-P-AeyON",
        "colab_type": "text"
      },
      "source": [
        "# Check how many null values in the price data"
      ]
    },
    {
      "cell_type": "code",
      "metadata": {
        "id": "Fy6Nx30te1ab",
        "colab_type": "code",
        "colab": {}
      },
      "source": [
        "# For each day we count_nonzeros over products sell_price and demand\n",
        "\n",
        "day_sum = new_CA_1.groupby(\"day_int\")[[\"demand\",\"event_name_1\" ]].agg({\"demand\": np.count_nonzero, \"event_name_1\": \"first\"}).reset_index()\n",
        "def count_nulls(series):\n",
        "    return len(series) - series.count()\n",
        "\n",
        "count_null = new_CA_1.groupby(\"day_int\")[\"sell_price\"].agg(count_nulls).reset_index()"
      ],
      "execution_count": 0,
      "outputs": []
    },
    {
      "cell_type": "code",
      "metadata": {
        "id": "-QSt5pMKe3Hf",
        "colab_type": "code",
        "outputId": "03c57934-c667-4eb8-d800-96314ba8af10",
        "colab": {
          "base_uri": "https://localhost:8080/",
          "height": 419
        }
      },
      "source": [
        "count_null"
      ],
      "execution_count": 0,
      "outputs": [
        {
          "output_type": "execute_result",
          "data": {
            "text/html": [
              "<div>\n",
              "<style scoped>\n",
              "    .dataframe tbody tr th:only-of-type {\n",
              "        vertical-align: middle;\n",
              "    }\n",
              "\n",
              "    .dataframe tbody tr th {\n",
              "        vertical-align: top;\n",
              "    }\n",
              "\n",
              "    .dataframe thead th {\n",
              "        text-align: right;\n",
              "    }\n",
              "</style>\n",
              "<table border=\"1\" class=\"dataframe\">\n",
              "  <thead>\n",
              "    <tr style=\"text-align: right;\">\n",
              "      <th></th>\n",
              "      <th>day_int</th>\n",
              "      <th>sell_price</th>\n",
              "    </tr>\n",
              "  </thead>\n",
              "  <tbody>\n",
              "    <tr>\n",
              "      <th>0</th>\n",
              "      <td>1</td>\n",
              "      <td>1845.0</td>\n",
              "    </tr>\n",
              "    <tr>\n",
              "      <th>1</th>\n",
              "      <td>2</td>\n",
              "      <td>1845.0</td>\n",
              "    </tr>\n",
              "    <tr>\n",
              "      <th>2</th>\n",
              "      <td>3</td>\n",
              "      <td>1845.0</td>\n",
              "    </tr>\n",
              "    <tr>\n",
              "      <th>3</th>\n",
              "      <td>4</td>\n",
              "      <td>1845.0</td>\n",
              "    </tr>\n",
              "    <tr>\n",
              "      <th>4</th>\n",
              "      <td>5</td>\n",
              "      <td>1845.0</td>\n",
              "    </tr>\n",
              "    <tr>\n",
              "      <th>...</th>\n",
              "      <td>...</td>\n",
              "      <td>...</td>\n",
              "    </tr>\n",
              "    <tr>\n",
              "      <th>1908</th>\n",
              "      <td>1909</td>\n",
              "      <td>0.0</td>\n",
              "    </tr>\n",
              "    <tr>\n",
              "      <th>1909</th>\n",
              "      <td>1910</td>\n",
              "      <td>0.0</td>\n",
              "    </tr>\n",
              "    <tr>\n",
              "      <th>1910</th>\n",
              "      <td>1911</td>\n",
              "      <td>0.0</td>\n",
              "    </tr>\n",
              "    <tr>\n",
              "      <th>1911</th>\n",
              "      <td>1912</td>\n",
              "      <td>0.0</td>\n",
              "    </tr>\n",
              "    <tr>\n",
              "      <th>1912</th>\n",
              "      <td>1913</td>\n",
              "      <td>0.0</td>\n",
              "    </tr>\n",
              "  </tbody>\n",
              "</table>\n",
              "<p>1913 rows × 2 columns</p>\n",
              "</div>"
            ],
            "text/plain": [
              "      day_int  sell_price\n",
              "0           1      1845.0\n",
              "1           2      1845.0\n",
              "2           3      1845.0\n",
              "3           4      1845.0\n",
              "4           5      1845.0\n",
              "...       ...         ...\n",
              "1908     1909         0.0\n",
              "1909     1910         0.0\n",
              "1910     1911         0.0\n",
              "1911     1912         0.0\n",
              "1912     1913         0.0\n",
              "\n",
              "[1913 rows x 2 columns]"
            ]
          },
          "metadata": {
            "tags": []
          },
          "execution_count": 20
        }
      ]
    },
    {
      "cell_type": "code",
      "metadata": {
        "id": "sF8ZewSye4Fy",
        "colab_type": "code",
        "outputId": "bfc1b2b2-40ab-4297-adba-de97c66f5bc2",
        "colab": {
          "base_uri": "https://localhost:8080/",
          "height": 281
        }
      },
      "source": [
        "plt.plot(count_null['day_int'], count_null['sell_price'])\n",
        "plt.title(\"number of null values in sell_price vs day\")\n",
        "plt.show()"
      ],
      "execution_count": 0,
      "outputs": [
        {
          "output_type": "display_data",
          "data": {
            "image/png": "[encoded data removed]",
            "text/plain": [
              "<Figure size 432x288 with 1 Axes>"
            ]
          },
          "metadata": {
            "tags": [],
            "needs_background": "light"
          }
        }
      ]
    },
    {
      "cell_type": "code",
      "metadata": {
        "id": "D4_bkczNe5r3",
        "colab_type": "code",
        "outputId": "efe3010d-20a7-4036-9f52-f8ab95ae3ab9",
        "colab": {
          "base_uri": "https://localhost:8080/",
          "height": 34
        }
      },
      "source": [
        "3049 - new_CA_1[new_CA_1['day_int'] == 1900]['sell_price'].count()"
      ],
      "execution_count": 0,
      "outputs": [
        {
          "output_type": "execute_result",
          "data": {
            "text/plain": [
              "0"
            ]
          },
          "metadata": {
            "tags": []
          },
          "execution_count": 51
        }
      ]
    },
    {
      "cell_type": "code",
      "metadata": {
        "id": "lHhU6i0FjQ8o",
        "colab_type": "code",
        "colab": {}
      },
      "source": [
        "del new_CA_1, count_null, sales_CA_1"
      ],
      "execution_count": 0,
      "outputs": []
    },
    {
      "cell_type": "markdown",
      "metadata": {
        "id": "toPfy5u9e7au",
        "colab_type": "text"
      },
      "source": [
        "# Looking at the demand of each event average"
      ]
    },
    {
      "cell_type": "code",
      "metadata": {
        "id": "6atn9rGYe9-r",
        "colab_type": "code",
        "outputId": "589b1d65-7689-4ac8-cb8b-f575b926e053",
        "colab": {
          "base_uri": "https://localhost:8080/",
          "height": 419
        }
      },
      "source": [
        "day_sum # added the first event to day_sum"
      ],
      "execution_count": 0,
      "outputs": [
        {
          "output_type": "execute_result",
          "data": {
            "text/html": [
              "<div>\n",
              "<style scoped>\n",
              "    .dataframe tbody tr th:only-of-type {\n",
              "        vertical-align: middle;\n",
              "    }\n",
              "\n",
              "    .dataframe tbody tr th {\n",
              "        vertical-align: top;\n",
              "    }\n",
              "\n",
              "    .dataframe thead th {\n",
              "        text-align: right;\n",
              "    }\n",
              "</style>\n",
              "<table border=\"1\" class=\"dataframe\">\n",
              "  <thead>\n",
              "    <tr style=\"text-align: right;\">\n",
              "      <th></th>\n",
              "      <th>day_int</th>\n",
              "      <th>demand</th>\n",
              "      <th>event_name_1</th>\n",
              "    </tr>\n",
              "  </thead>\n",
              "  <tbody>\n",
              "    <tr>\n",
              "      <th>0</th>\n",
              "      <td>1</td>\n",
              "      <td>837</td>\n",
              "      <td>NaN</td>\n",
              "    </tr>\n",
              "    <tr>\n",
              "      <th>1</th>\n",
              "      <td>2</td>\n",
              "      <td>778</td>\n",
              "      <td>NaN</td>\n",
              "    </tr>\n",
              "    <tr>\n",
              "      <th>2</th>\n",
              "      <td>3</td>\n",
              "      <td>681</td>\n",
              "      <td>NaN</td>\n",
              "    </tr>\n",
              "    <tr>\n",
              "      <th>3</th>\n",
              "      <td>4</td>\n",
              "      <td>700</td>\n",
              "      <td>NaN</td>\n",
              "    </tr>\n",
              "    <tr>\n",
              "      <th>4</th>\n",
              "      <td>5</td>\n",
              "      <td>658</td>\n",
              "      <td>NaN</td>\n",
              "    </tr>\n",
              "    <tr>\n",
              "      <th>...</th>\n",
              "      <td>...</td>\n",
              "      <td>...</td>\n",
              "      <td>...</td>\n",
              "    </tr>\n",
              "    <tr>\n",
              "      <th>1908</th>\n",
              "      <td>1909</td>\n",
              "      <td>1345</td>\n",
              "      <td>NaN</td>\n",
              "    </tr>\n",
              "    <tr>\n",
              "      <th>1909</th>\n",
              "      <td>1910</td>\n",
              "      <td>1287</td>\n",
              "      <td>NaN</td>\n",
              "    </tr>\n",
              "    <tr>\n",
              "      <th>1910</th>\n",
              "      <td>1911</td>\n",
              "      <td>1478</td>\n",
              "      <td>NaN</td>\n",
              "    </tr>\n",
              "    <tr>\n",
              "      <th>1911</th>\n",
              "      <td>1912</td>\n",
              "      <td>1679</td>\n",
              "      <td>NaN</td>\n",
              "    </tr>\n",
              "    <tr>\n",
              "      <th>1912</th>\n",
              "      <td>1913</td>\n",
              "      <td>1704</td>\n",
              "      <td>NaN</td>\n",
              "    </tr>\n",
              "  </tbody>\n",
              "</table>\n",
              "<p>1913 rows × 3 columns</p>\n",
              "</div>"
            ],
            "text/plain": [
              "      day_int  demand event_name_1\n",
              "0           1     837          NaN\n",
              "1           2     778          NaN\n",
              "2           3     681          NaN\n",
              "3           4     700          NaN\n",
              "4           5     658          NaN\n",
              "...       ...     ...          ...\n",
              "1908     1909    1345          NaN\n",
              "1909     1910    1287          NaN\n",
              "1910     1911    1478          NaN\n",
              "1911     1912    1679          NaN\n",
              "1912     1913    1704          NaN\n",
              "\n",
              "[1913 rows x 3 columns]"
            ]
          },
          "metadata": {
            "tags": []
          },
          "execution_count": 22
        }
      ]
    },
    {
      "cell_type": "markdown",
      "metadata": {
        "id": "UvunB_Sie_sW",
        "colab_type": "text"
      },
      "source": [
        "# Melting the whole training set"
      ]
    },
    {
      "cell_type": "code",
      "metadata": {
        "id": "0JYdPbkLfDLJ",
        "colab_type": "code",
        "colab": {}
      },
      "source": [
        "del sales_train_validation"
      ],
      "execution_count": 0,
      "outputs": []
    },
    {
      "cell_type": "code",
      "metadata": {
        "id": "kUouWWDFfEcs",
        "colab_type": "code",
        "colab": {}
      },
      "source": [
        "train_melt = pd.merge(sales_train_validation_melt, calendar, left_on=\"day\", right_on=\"d\", how=\"left\")\n",
        "train_melt = pd.merge(train_melt, sell_prices, left_on=[\"store_id\", \"item_id\", \"wm_yr_wk\"],right_on=[\"store_id\", \"item_id\", \"wm_yr_wk\"], how=\"left\")\n",
        "train_melt[\"day_int\"] = train_melt.day.apply(lambda x: int(x.split(\"_\")[-1]))\n",
        "# train_melt"
      ],
      "execution_count": 0,
      "outputs": []
    },
    {
      "cell_type": "code",
      "metadata": {
        "id": "tGif7dG7fIfa",
        "colab_type": "code",
        "outputId": "33ed2705-50d2-418c-aa3f-83f0775b89c7",
        "colab": {
          "base_uri": "https://localhost:8080/",
          "height": 102
        }
      },
      "source": [
        "train_melt.columns"
      ],
      "execution_count": 0,
      "outputs": [
        {
          "output_type": "execute_result",
          "data": {
            "text/plain": [
              "Index(['id', 'item_id', 'dept_id', 'cat_id', 'store_id', 'state_id', 'day',\n",
              "       'demand', 'date', 'wm_yr_wk', 'weekday', 'wday', 'month', 'year', 'd',\n",
              "       'event_name_1', 'event_type_1', 'event_name_2', 'event_type_2',\n",
              "       'snap_CA', 'snap_TX', 'snap_WI', 'sell_price', 'day_int'],\n",
              "      dtype='object')"
            ]
          },
          "metadata": {
            "tags": []
          },
          "execution_count": 24
        }
      ]
    },
    {
      "cell_type": "code",
      "metadata": {
        "id": "A3es7tWHi8RF",
        "colab_type": "code",
        "colab": {}
      },
      "source": [
        "del sales_train_validation_melt"
      ],
      "execution_count": 0,
      "outputs": []
    },
    {
      "cell_type": "code",
      "metadata": {
        "id": "DjqkHra6kUx3",
        "colab_type": "code",
        "outputId": "d32ceee8-0c92-42e3-99f5-5a61cd2cb3fc",
        "colab": {
          "base_uri": "https://localhost:8080/",
          "height": 34
        }
      },
      "source": [
        "train_melt = reduce_mem_usage(train_melt)"
      ],
      "execution_count": 0,
      "outputs": [
        {
          "output_type": "stream",
          "text": [
            "Mem. usage decreased to 7843.17 Mb (7.8% reduction)\n"
          ],
          "name": "stdout"
        }
      ]
    },
    {
      "cell_type": "code",
      "metadata": {
        "id": "pBjQpGDGsKzS",
        "colab_type": "code",
        "colab": {}
      },
      "source": [
        "train_melt.to_csv(\"train_melt.csv\", index=False)"
      ],
      "execution_count": 0,
      "outputs": []
    },
    {
      "cell_type": "markdown",
      "metadata": {
        "id": "V0shcAlXfJiT",
        "colab_type": "text"
      },
      "source": [
        "# Explore the total demand in a day and relation to having event"
      ]
    },
    {
      "cell_type": "code",
      "metadata": {
        "id": "mGjskSr2fMGg",
        "colab_type": "code",
        "colab": {}
      },
      "source": [
        "demand_daily = train_melt.groupby([\"day_int\"])[\"demand\"].agg(sum).reset_index()"
      ],
      "execution_count": 0,
      "outputs": []
    },
    {
      "cell_type": "code",
      "metadata": {
        "id": "jwDsVhUuih4Z",
        "colab_type": "code",
        "outputId": "915d570e-58a5-4fbe-934c-894f47ad01ab",
        "colab": {
          "base_uri": "https://localhost:8080/",
          "height": 419
        }
      },
      "source": [
        "demand_daily"
      ],
      "execution_count": 0,
      "outputs": [
        {
          "output_type": "execute_result",
          "data": {
            "text/html": [
              "<div>\n",
              "<style scoped>\n",
              "    .dataframe tbody tr th:only-of-type {\n",
              "        vertical-align: middle;\n",
              "    }\n",
              "\n",
              "    .dataframe tbody tr th {\n",
              "        vertical-align: top;\n",
              "    }\n",
              "\n",
              "    .dataframe thead th {\n",
              "        text-align: right;\n",
              "    }\n",
              "</style>\n",
              "<table border=\"1\" class=\"dataframe\">\n",
              "  <thead>\n",
              "    <tr style=\"text-align: right;\">\n",
              "      <th></th>\n",
              "      <th>day_int</th>\n",
              "      <th>demand</th>\n",
              "    </tr>\n",
              "  </thead>\n",
              "  <tbody>\n",
              "    <tr>\n",
              "      <th>0</th>\n",
              "      <td>1</td>\n",
              "      <td>32631.0</td>\n",
              "    </tr>\n",
              "    <tr>\n",
              "      <th>1</th>\n",
              "      <td>2</td>\n",
              "      <td>31749.0</td>\n",
              "    </tr>\n",
              "    <tr>\n",
              "      <th>2</th>\n",
              "      <td>3</td>\n",
              "      <td>23783.0</td>\n",
              "    </tr>\n",
              "    <tr>\n",
              "      <th>3</th>\n",
              "      <td>4</td>\n",
              "      <td>25412.0</td>\n",
              "    </tr>\n",
              "    <tr>\n",
              "      <th>4</th>\n",
              "      <td>5</td>\n",
              "      <td>19146.0</td>\n",
              "    </tr>\n",
              "    <tr>\n",
              "      <th>...</th>\n",
              "      <td>...</td>\n",
              "      <td>...</td>\n",
              "    </tr>\n",
              "    <tr>\n",
              "      <th>1908</th>\n",
              "      <td>1909</td>\n",
              "      <td>35343.0</td>\n",
              "    </tr>\n",
              "    <tr>\n",
              "      <th>1909</th>\n",
              "      <td>1910</td>\n",
              "      <td>35033.0</td>\n",
              "    </tr>\n",
              "    <tr>\n",
              "      <th>1910</th>\n",
              "      <td>1911</td>\n",
              "      <td>40517.0</td>\n",
              "    </tr>\n",
              "    <tr>\n",
              "      <th>1911</th>\n",
              "      <td>1912</td>\n",
              "      <td>48962.0</td>\n",
              "    </tr>\n",
              "    <tr>\n",
              "      <th>1912</th>\n",
              "      <td>1913</td>\n",
              "      <td>49795.0</td>\n",
              "    </tr>\n",
              "  </tbody>\n",
              "</table>\n",
              "<p>1913 rows × 2 columns</p>\n",
              "</div>"
            ],
            "text/plain": [
              "      day_int   demand\n",
              "0           1  32631.0\n",
              "1           2  31749.0\n",
              "2           3  23783.0\n",
              "3           4  25412.0\n",
              "4           5  19146.0\n",
              "...       ...      ...\n",
              "1908     1909  35343.0\n",
              "1909     1910  35033.0\n",
              "1910     1911  40517.0\n",
              "1911     1912  48962.0\n",
              "1912     1913  49795.0\n",
              "\n",
              "[1913 rows x 2 columns]"
            ]
          },
          "metadata": {
            "tags": []
          },
          "execution_count": 27
        }
      ]
    },
    {
      "cell_type": "code",
      "metadata": {
        "id": "l6_XLAVOijSd",
        "colab_type": "code",
        "outputId": "10d93c38-705e-4d62-ea04-ab83141b9887",
        "colab": {
          "base_uri": "https://localhost:8080/",
          "height": 419
        }
      },
      "source": [
        "calendar['day_int'] = calendar['d'].apply(lambda x: int(x.split(\"_\")[-1])) # day_1 -> 1\n",
        "calendar"
      ],
      "execution_count": 0,
      "outputs": [
        {
          "output_type": "execute_result",
          "data": {
            "text/html": [
              "<div>\n",
              "<style scoped>\n",
              "    .dataframe tbody tr th:only-of-type {\n",
              "        vertical-align: middle;\n",
              "    }\n",
              "\n",
              "    .dataframe tbody tr th {\n",
              "        vertical-align: top;\n",
              "    }\n",
              "\n",
              "    .dataframe thead th {\n",
              "        text-align: right;\n",
              "    }\n",
              "</style>\n",
              "<table border=\"1\" class=\"dataframe\">\n",
              "  <thead>\n",
              "    <tr style=\"text-align: right;\">\n",
              "      <th></th>\n",
              "      <th>date</th>\n",
              "      <th>wm_yr_wk</th>\n",
              "      <th>weekday</th>\n",
              "      <th>wday</th>\n",
              "      <th>month</th>\n",
              "      <th>year</th>\n",
              "      <th>d</th>\n",
              "      <th>event_name_1</th>\n",
              "      <th>event_type_1</th>\n",
              "      <th>event_name_2</th>\n",
              "      <th>event_type_2</th>\n",
              "      <th>snap_CA</th>\n",
              "      <th>snap_TX</th>\n",
              "      <th>snap_WI</th>\n",
              "      <th>day_int</th>\n",
              "    </tr>\n",
              "  </thead>\n",
              "  <tbody>\n",
              "    <tr>\n",
              "      <th>0</th>\n",
              "      <td>2011-01-29</td>\n",
              "      <td>11101</td>\n",
              "      <td>Saturday</td>\n",
              "      <td>1</td>\n",
              "      <td>1</td>\n",
              "      <td>2011</td>\n",
              "      <td>d_1</td>\n",
              "      <td>NaN</td>\n",
              "      <td>NaN</td>\n",
              "      <td>NaN</td>\n",
              "      <td>NaN</td>\n",
              "      <td>0</td>\n",
              "      <td>0</td>\n",
              "      <td>0</td>\n",
              "      <td>1</td>\n",
              "    </tr>\n",
              "    <tr>\n",
              "      <th>1</th>\n",
              "      <td>2011-01-30</td>\n",
              "      <td>11101</td>\n",
              "      <td>Sunday</td>\n",
              "      <td>2</td>\n",
              "      <td>1</td>\n",
              "      <td>2011</td>\n",
              "      <td>d_2</td>\n",
              "      <td>NaN</td>\n",
              "      <td>NaN</td>\n",
              "      <td>NaN</td>\n",
              "      <td>NaN</td>\n",
              "      <td>0</td>\n",
              "      <td>0</td>\n",
              "      <td>0</td>\n",
              "      <td>2</td>\n",
              "    </tr>\n",
              "    <tr>\n",
              "      <th>2</th>\n",
              "      <td>2011-01-31</td>\n",
              "      <td>11101</td>\n",
              "      <td>Monday</td>\n",
              "      <td>3</td>\n",
              "      <td>1</td>\n",
              "      <td>2011</td>\n",
              "      <td>d_3</td>\n",
              "      <td>NaN</td>\n",
              "      <td>NaN</td>\n",
              "      <td>NaN</td>\n",
              "      <td>NaN</td>\n",
              "      <td>0</td>\n",
              "      <td>0</td>\n",
              "      <td>0</td>\n",
              "      <td>3</td>\n",
              "    </tr>\n",
              "    <tr>\n",
              "      <th>3</th>\n",
              "      <td>2011-02-01</td>\n",
              "      <td>11101</td>\n",
              "      <td>Tuesday</td>\n",
              "      <td>4</td>\n",
              "      <td>2</td>\n",
              "      <td>2011</td>\n",
              "      <td>d_4</td>\n",
              "      <td>NaN</td>\n",
              "      <td>NaN</td>\n",
              "      <td>NaN</td>\n",
              "      <td>NaN</td>\n",
              "      <td>1</td>\n",
              "      <td>1</td>\n",
              "      <td>0</td>\n",
              "      <td>4</td>\n",
              "    </tr>\n",
              "    <tr>\n",
              "      <th>4</th>\n",
              "      <td>2011-02-02</td>\n",
              "      <td>11101</td>\n",
              "      <td>Wednesday</td>\n",
              "      <td>5</td>\n",
              "      <td>2</td>\n",
              "      <td>2011</td>\n",
              "      <td>d_5</td>\n",
              "      <td>NaN</td>\n",
              "      <td>NaN</td>\n",
              "      <td>NaN</td>\n",
              "      <td>NaN</td>\n",
              "      <td>1</td>\n",
              "      <td>0</td>\n",
              "      <td>1</td>\n",
              "      <td>5</td>\n",
              "    </tr>\n",
              "    <tr>\n",
              "      <th>...</th>\n",
              "      <td>...</td>\n",
              "      <td>...</td>\n",
              "      <td>...</td>\n",
              "      <td>...</td>\n",
              "      <td>...</td>\n",
              "      <td>...</td>\n",
              "      <td>...</td>\n",
              "      <td>...</td>\n",
              "      <td>...</td>\n",
              "      <td>...</td>\n",
              "      <td>...</td>\n",
              "      <td>...</td>\n",
              "      <td>...</td>\n",
              "      <td>...</td>\n",
              "      <td>...</td>\n",
              "    </tr>\n",
              "    <tr>\n",
              "      <th>1964</th>\n",
              "      <td>2016-06-15</td>\n",
              "      <td>11620</td>\n",
              "      <td>Wednesday</td>\n",
              "      <td>5</td>\n",
              "      <td>6</td>\n",
              "      <td>2016</td>\n",
              "      <td>d_1965</td>\n",
              "      <td>NaN</td>\n",
              "      <td>NaN</td>\n",
              "      <td>NaN</td>\n",
              "      <td>NaN</td>\n",
              "      <td>0</td>\n",
              "      <td>1</td>\n",
              "      <td>1</td>\n",
              "      <td>1965</td>\n",
              "    </tr>\n",
              "    <tr>\n",
              "      <th>1965</th>\n",
              "      <td>2016-06-16</td>\n",
              "      <td>11620</td>\n",
              "      <td>Thursday</td>\n",
              "      <td>6</td>\n",
              "      <td>6</td>\n",
              "      <td>2016</td>\n",
              "      <td>d_1966</td>\n",
              "      <td>NaN</td>\n",
              "      <td>NaN</td>\n",
              "      <td>NaN</td>\n",
              "      <td>NaN</td>\n",
              "      <td>0</td>\n",
              "      <td>0</td>\n",
              "      <td>0</td>\n",
              "      <td>1966</td>\n",
              "    </tr>\n",
              "    <tr>\n",
              "      <th>1966</th>\n",
              "      <td>2016-06-17</td>\n",
              "      <td>11620</td>\n",
              "      <td>Friday</td>\n",
              "      <td>7</td>\n",
              "      <td>6</td>\n",
              "      <td>2016</td>\n",
              "      <td>d_1967</td>\n",
              "      <td>NaN</td>\n",
              "      <td>NaN</td>\n",
              "      <td>NaN</td>\n",
              "      <td>NaN</td>\n",
              "      <td>0</td>\n",
              "      <td>0</td>\n",
              "      <td>0</td>\n",
              "      <td>1967</td>\n",
              "    </tr>\n",
              "    <tr>\n",
              "      <th>1967</th>\n",
              "      <td>2016-06-18</td>\n",
              "      <td>11621</td>\n",
              "      <td>Saturday</td>\n",
              "      <td>1</td>\n",
              "      <td>6</td>\n",
              "      <td>2016</td>\n",
              "      <td>d_1968</td>\n",
              "      <td>NaN</td>\n",
              "      <td>NaN</td>\n",
              "      <td>NaN</td>\n",
              "      <td>NaN</td>\n",
              "      <td>0</td>\n",
              "      <td>0</td>\n",
              "      <td>0</td>\n",
              "      <td>1968</td>\n",
              "    </tr>\n",
              "    <tr>\n",
              "      <th>1968</th>\n",
              "      <td>2016-06-19</td>\n",
              "      <td>11621</td>\n",
              "      <td>Sunday</td>\n",
              "      <td>2</td>\n",
              "      <td>6</td>\n",
              "      <td>2016</td>\n",
              "      <td>d_1969</td>\n",
              "      <td>NBAFinalsEnd</td>\n",
              "      <td>Sporting</td>\n",
              "      <td>Father's day</td>\n",
              "      <td>Cultural</td>\n",
              "      <td>0</td>\n",
              "      <td>0</td>\n",
              "      <td>0</td>\n",
              "      <td>1969</td>\n",
              "    </tr>\n",
              "  </tbody>\n",
              "</table>\n",
              "<p>1969 rows × 15 columns</p>\n",
              "</div>"
            ],
            "text/plain": [
              "            date  wm_yr_wk    weekday  wday  ...  snap_CA  snap_TX snap_WI day_int\n",
              "0     2011-01-29     11101   Saturday     1  ...        0        0       0       1\n",
              "1     2011-01-30     11101     Sunday     2  ...        0        0       0       2\n",
              "2     2011-01-31     11101     Monday     3  ...        0        0       0       3\n",
              "3     2011-02-01     11101    Tuesday     4  ...        1        1       0       4\n",
              "4     2011-02-02     11101  Wednesday     5  ...        1        0       1       5\n",
              "...          ...       ...        ...   ...  ...      ...      ...     ...     ...\n",
              "1964  2016-06-15     11620  Wednesday     5  ...        0        1       1    1965\n",
              "1965  2016-06-16     11620   Thursday     6  ...        0        0       0    1966\n",
              "1966  2016-06-17     11620     Friday     7  ...        0        0       0    1967\n",
              "1967  2016-06-18     11621   Saturday     1  ...        0        0       0    1968\n",
              "1968  2016-06-19     11621     Sunday     2  ...        0        0       0    1969\n",
              "\n",
              "[1969 rows x 15 columns]"
            ]
          },
          "metadata": {
            "tags": []
          },
          "execution_count": 28
        }
      ]
    },
    {
      "cell_type": "code",
      "metadata": {
        "id": "DOq0hFf7ik6L",
        "colab_type": "code",
        "outputId": "cdf2765b-ffb1-4050-d1ed-819aa70fc7b3",
        "colab": {
          "base_uri": "https://localhost:8080/",
          "height": 419
        }
      },
      "source": [
        "demand_event = pd.merge(demand_daily, calendar[['day_int', 'event_name_1']], on=\"day_int\")\n",
        "demand_event['has_event'] = demand_event['event_name_1'].apply(lambda x: int(str(x) != str(demand_event.loc[0, 'event_name_1'])))\n",
        "demand_event"
      ],
      "execution_count": 0,
      "outputs": [
        {
          "output_type": "execute_result",
          "data": {
            "text/html": [
              "<div>\n",
              "<style scoped>\n",
              "    .dataframe tbody tr th:only-of-type {\n",
              "        vertical-align: middle;\n",
              "    }\n",
              "\n",
              "    .dataframe tbody tr th {\n",
              "        vertical-align: top;\n",
              "    }\n",
              "\n",
              "    .dataframe thead th {\n",
              "        text-align: right;\n",
              "    }\n",
              "</style>\n",
              "<table border=\"1\" class=\"dataframe\">\n",
              "  <thead>\n",
              "    <tr style=\"text-align: right;\">\n",
              "      <th></th>\n",
              "      <th>day_int</th>\n",
              "      <th>demand</th>\n",
              "      <th>event_name_1</th>\n",
              "      <th>has_event</th>\n",
              "    </tr>\n",
              "  </thead>\n",
              "  <tbody>\n",
              "    <tr>\n",
              "      <th>0</th>\n",
              "      <td>1</td>\n",
              "      <td>32631.0</td>\n",
              "      <td>NaN</td>\n",
              "      <td>0</td>\n",
              "    </tr>\n",
              "    <tr>\n",
              "      <th>1</th>\n",
              "      <td>2</td>\n",
              "      <td>31749.0</td>\n",
              "      <td>NaN</td>\n",
              "      <td>0</td>\n",
              "    </tr>\n",
              "    <tr>\n",
              "      <th>2</th>\n",
              "      <td>3</td>\n",
              "      <td>23783.0</td>\n",
              "      <td>NaN</td>\n",
              "      <td>0</td>\n",
              "    </tr>\n",
              "    <tr>\n",
              "      <th>3</th>\n",
              "      <td>4</td>\n",
              "      <td>25412.0</td>\n",
              "      <td>NaN</td>\n",
              "      <td>0</td>\n",
              "    </tr>\n",
              "    <tr>\n",
              "      <th>4</th>\n",
              "      <td>5</td>\n",
              "      <td>19146.0</td>\n",
              "      <td>NaN</td>\n",
              "      <td>0</td>\n",
              "    </tr>\n",
              "    <tr>\n",
              "      <th>...</th>\n",
              "      <td>...</td>\n",
              "      <td>...</td>\n",
              "      <td>...</td>\n",
              "      <td>...</td>\n",
              "    </tr>\n",
              "    <tr>\n",
              "      <th>1908</th>\n",
              "      <td>1909</td>\n",
              "      <td>35343.0</td>\n",
              "      <td>NaN</td>\n",
              "      <td>0</td>\n",
              "    </tr>\n",
              "    <tr>\n",
              "      <th>1909</th>\n",
              "      <td>1910</td>\n",
              "      <td>35033.0</td>\n",
              "      <td>NaN</td>\n",
              "      <td>0</td>\n",
              "    </tr>\n",
              "    <tr>\n",
              "      <th>1910</th>\n",
              "      <td>1911</td>\n",
              "      <td>40517.0</td>\n",
              "      <td>NaN</td>\n",
              "      <td>0</td>\n",
              "    </tr>\n",
              "    <tr>\n",
              "      <th>1911</th>\n",
              "      <td>1912</td>\n",
              "      <td>48962.0</td>\n",
              "      <td>NaN</td>\n",
              "      <td>0</td>\n",
              "    </tr>\n",
              "    <tr>\n",
              "      <th>1912</th>\n",
              "      <td>1913</td>\n",
              "      <td>49795.0</td>\n",
              "      <td>NaN</td>\n",
              "      <td>0</td>\n",
              "    </tr>\n",
              "  </tbody>\n",
              "</table>\n",
              "<p>1913 rows × 4 columns</p>\n",
              "</div>"
            ],
            "text/plain": [
              "      day_int   demand event_name_1  has_event\n",
              "0           1  32631.0          NaN          0\n",
              "1           2  31749.0          NaN          0\n",
              "2           3  23783.0          NaN          0\n",
              "3           4  25412.0          NaN          0\n",
              "4           5  19146.0          NaN          0\n",
              "...       ...      ...          ...        ...\n",
              "1908     1909  35343.0          NaN          0\n",
              "1909     1910  35033.0          NaN          0\n",
              "1910     1911  40517.0          NaN          0\n",
              "1911     1912  48962.0          NaN          0\n",
              "1912     1913  49795.0          NaN          0\n",
              "\n",
              "[1913 rows x 4 columns]"
            ]
          },
          "metadata": {
            "tags": []
          },
          "execution_count": 29
        }
      ]
    },
    {
      "cell_type": "code",
      "metadata": {
        "id": "73nfqoOBimTb",
        "colab_type": "code",
        "outputId": "1702952a-7684-4c40-f8d2-8003f903ee23",
        "colab": {
          "base_uri": "https://localhost:8080/",
          "height": 561
        }
      },
      "source": [
        "demand_event.groupby('event_name_1')['demand'].agg(np.mean)"
      ],
      "execution_count": 0,
      "outputs": [
        {
          "output_type": "execute_result",
          "data": {
            "text/plain": [
              "event_name_1\n",
              "Chanukah End           33426.800000\n",
              "Christmas                 15.600000\n",
              "Cinco De Mayo          32823.500000\n",
              "ColumbusDay            35164.800000\n",
              "Easter                 39517.600000\n",
              "Eid al-Fitr            35267.600000\n",
              "EidAlAdha              34504.000000\n",
              "Father's day           36562.000000\n",
              "Halloween              30059.400000\n",
              "IndependenceDay        33710.800000\n",
              "LaborDay               42154.600000\n",
              "LentStart              30727.000000\n",
              "LentWeek2              29747.000000\n",
              "MartinLutherKingDay    33378.600000\n",
              "MemorialDay            32699.600000\n",
              "Mother's day           34211.400000\n",
              "NBAFinalsEnd           33564.200000\n",
              "NBAFinalsStart         31874.400000\n",
              "NewYear                25768.400000\n",
              "OrthodoxChristmas      33344.200000\n",
              "OrthodoxEaster         38277.000000\n",
              "Pesach End             33450.200000\n",
              "PresidentsDay          34446.333333\n",
              "Purim End              35957.000000\n",
              "Ramadan starts         34779.600000\n",
              "StPatricksDay          33459.666667\n",
              "SuperBowl              40924.000000\n",
              "Thanksgiving           21130.000000\n",
              "ValentinesDay          33495.666667\n",
              "VeteransDay            35118.800000\n",
              "Name: demand, dtype: float64"
            ]
          },
          "metadata": {
            "tags": []
          },
          "execution_count": 30
        }
      ]
    },
    {
      "cell_type": "code",
      "metadata": {
        "id": "Bwd4JTpwjlxT",
        "colab_type": "code",
        "outputId": "00370724-3b89-45f6-c4f4-cbb6a1c5eb62",
        "colab": {
          "base_uri": "https://localhost:8080/",
          "height": 85
        }
      },
      "source": [
        "demand_event.groupby('has_event')['demand'].agg(np.mean)"
      ],
      "execution_count": 0,
      "outputs": [
        {
          "output_type": "execute_result",
          "data": {
            "text/plain": [
              "has_event\n",
              "0    34489.207504\n",
              "1    32655.149351\n",
              "Name: demand, dtype: float64"
            ]
          },
          "metadata": {
            "tags": []
          },
          "execution_count": 31
        }
      ]
    },
    {
      "cell_type": "code",
      "metadata": {
        "id": "vvi8B6IFjmg-",
        "colab_type": "code",
        "outputId": "0bd5bd02-5568-4f55-ff83-21d2e82307c0",
        "colab": {
          "base_uri": "https://localhost:8080/",
          "height": 85
        }
      },
      "source": [
        "demand_event.groupby('has_event')['demand'].agg(np.std)"
      ],
      "execution_count": 0,
      "outputs": [
        {
          "output_type": "execute_result",
          "data": {
            "text/plain": [
              "has_event\n",
              "0    7133.701801\n",
              "1    9300.905832\n",
              "Name: demand, dtype: float64"
            ]
          },
          "metadata": {
            "tags": []
          },
          "execution_count": 32
        }
      ]
    },
    {
      "cell_type": "code",
      "metadata": {
        "id": "o9OjtwT7jo_g",
        "colab_type": "code",
        "outputId": "81138c9f-b11e-4cb0-917a-1d2268349c49",
        "colab": {
          "base_uri": "https://localhost:8080/",
          "height": 281
        }
      },
      "source": [
        "first_year = demand_event[1842:1849]\n",
        "\n",
        "plt.plot(first_year[\"day_int\"], first_year[\"demand\"])\n",
        "plt.scatter(first_year[\"day_int\"], first_year[\"has_event\"] * 30000, color=\"red\")\n",
        "plt.title(\"Sales per day and with having event or not\")\n",
        "plt.show()"
      ],
      "execution_count": 0,
      "outputs": [
        {
          "output_type": "display_data",
          "data": {
            "image/png": "[encoded data removed]",
            "text/plain": [
              "<Figure size 432x288 with 1 Axes>"
            ]
          },
          "metadata": {
            "tags": [],
            "needs_background": "light"
          }
        }
      ]
    },
    {
      "cell_type": "markdown",
      "metadata": {
        "id": "hIemmDOsjqXJ",
        "colab_type": "text"
      },
      "source": [
        "# Explore the relation with the event type"
      ]
    },
    {
      "cell_type": "code",
      "metadata": {
        "id": "jeLXdwLmj4N0",
        "colab_type": "code",
        "outputId": "1a7c7939-cb97-4155-8bef-7b6579c7e3fd",
        "colab": {
          "base_uri": "https://localhost:8080/",
          "height": 419
        }
      },
      "source": [
        "demand_daily"
      ],
      "execution_count": 0,
      "outputs": [
        {
          "output_type": "execute_result",
          "data": {
            "text/html": [
              "<div>\n",
              "<style scoped>\n",
              "    .dataframe tbody tr th:only-of-type {\n",
              "        vertical-align: middle;\n",
              "    }\n",
              "\n",
              "    .dataframe tbody tr th {\n",
              "        vertical-align: top;\n",
              "    }\n",
              "\n",
              "    .dataframe thead th {\n",
              "        text-align: right;\n",
              "    }\n",
              "</style>\n",
              "<table border=\"1\" class=\"dataframe\">\n",
              "  <thead>\n",
              "    <tr style=\"text-align: right;\">\n",
              "      <th></th>\n",
              "      <th>day_int</th>\n",
              "      <th>demand</th>\n",
              "    </tr>\n",
              "  </thead>\n",
              "  <tbody>\n",
              "    <tr>\n",
              "      <th>0</th>\n",
              "      <td>1</td>\n",
              "      <td>32631.0</td>\n",
              "    </tr>\n",
              "    <tr>\n",
              "      <th>1</th>\n",
              "      <td>2</td>\n",
              "      <td>31749.0</td>\n",
              "    </tr>\n",
              "    <tr>\n",
              "      <th>2</th>\n",
              "      <td>3</td>\n",
              "      <td>23783.0</td>\n",
              "    </tr>\n",
              "    <tr>\n",
              "      <th>3</th>\n",
              "      <td>4</td>\n",
              "      <td>25412.0</td>\n",
              "    </tr>\n",
              "    <tr>\n",
              "      <th>4</th>\n",
              "      <td>5</td>\n",
              "      <td>19146.0</td>\n",
              "    </tr>\n",
              "    <tr>\n",
              "      <th>...</th>\n",
              "      <td>...</td>\n",
              "      <td>...</td>\n",
              "    </tr>\n",
              "    <tr>\n",
              "      <th>1908</th>\n",
              "      <td>1909</td>\n",
              "      <td>35343.0</td>\n",
              "    </tr>\n",
              "    <tr>\n",
              "      <th>1909</th>\n",
              "      <td>1910</td>\n",
              "      <td>35033.0</td>\n",
              "    </tr>\n",
              "    <tr>\n",
              "      <th>1910</th>\n",
              "      <td>1911</td>\n",
              "      <td>40517.0</td>\n",
              "    </tr>\n",
              "    <tr>\n",
              "      <th>1911</th>\n",
              "      <td>1912</td>\n",
              "      <td>48962.0</td>\n",
              "    </tr>\n",
              "    <tr>\n",
              "      <th>1912</th>\n",
              "      <td>1913</td>\n",
              "      <td>49795.0</td>\n",
              "    </tr>\n",
              "  </tbody>\n",
              "</table>\n",
              "<p>1913 rows × 2 columns</p>\n",
              "</div>"
            ],
            "text/plain": [
              "      day_int   demand\n",
              "0           1  32631.0\n",
              "1           2  31749.0\n",
              "2           3  23783.0\n",
              "3           4  25412.0\n",
              "4           5  19146.0\n",
              "...       ...      ...\n",
              "1908     1909  35343.0\n",
              "1909     1910  35033.0\n",
              "1910     1911  40517.0\n",
              "1911     1912  48962.0\n",
              "1912     1913  49795.0\n",
              "\n",
              "[1913 rows x 2 columns]"
            ]
          },
          "metadata": {
            "tags": []
          },
          "execution_count": 34
        }
      ]
    },
    {
      "cell_type": "code",
      "metadata": {
        "id": "9Qt6uELokEhj",
        "colab_type": "code",
        "outputId": "28d2ed90-be69-4130-8cc2-c0f8fc6d3d59",
        "colab": {
          "base_uri": "https://localhost:8080/",
          "height": 419
        }
      },
      "source": [
        "demand_event_type = pd.merge(demand_daily, calendar[['day_int', 'event_type_1']], on=\"day_int\")\n",
        "demand_event_type"
      ],
      "execution_count": 0,
      "outputs": [
        {
          "output_type": "execute_result",
          "data": {
            "text/html": [
              "<div>\n",
              "<style scoped>\n",
              "    .dataframe tbody tr th:only-of-type {\n",
              "        vertical-align: middle;\n",
              "    }\n",
              "\n",
              "    .dataframe tbody tr th {\n",
              "        vertical-align: top;\n",
              "    }\n",
              "\n",
              "    .dataframe thead th {\n",
              "        text-align: right;\n",
              "    }\n",
              "</style>\n",
              "<table border=\"1\" class=\"dataframe\">\n",
              "  <thead>\n",
              "    <tr style=\"text-align: right;\">\n",
              "      <th></th>\n",
              "      <th>day_int</th>\n",
              "      <th>demand</th>\n",
              "      <th>event_type_1</th>\n",
              "    </tr>\n",
              "  </thead>\n",
              "  <tbody>\n",
              "    <tr>\n",
              "      <th>0</th>\n",
              "      <td>1</td>\n",
              "      <td>32631.0</td>\n",
              "      <td>NaN</td>\n",
              "    </tr>\n",
              "    <tr>\n",
              "      <th>1</th>\n",
              "      <td>2</td>\n",
              "      <td>31749.0</td>\n",
              "      <td>NaN</td>\n",
              "    </tr>\n",
              "    <tr>\n",
              "      <th>2</th>\n",
              "      <td>3</td>\n",
              "      <td>23783.0</td>\n",
              "      <td>NaN</td>\n",
              "    </tr>\n",
              "    <tr>\n",
              "      <th>3</th>\n",
              "      <td>4</td>\n",
              "      <td>25412.0</td>\n",
              "      <td>NaN</td>\n",
              "    </tr>\n",
              "    <tr>\n",
              "      <th>4</th>\n",
              "      <td>5</td>\n",
              "      <td>19146.0</td>\n",
              "      <td>NaN</td>\n",
              "    </tr>\n",
              "    <tr>\n",
              "      <th>...</th>\n",
              "      <td>...</td>\n",
              "      <td>...</td>\n",
              "      <td>...</td>\n",
              "    </tr>\n",
              "    <tr>\n",
              "      <th>1908</th>\n",
              "      <td>1909</td>\n",
              "      <td>35343.0</td>\n",
              "      <td>NaN</td>\n",
              "    </tr>\n",
              "    <tr>\n",
              "      <th>1909</th>\n",
              "      <td>1910</td>\n",
              "      <td>35033.0</td>\n",
              "      <td>NaN</td>\n",
              "    </tr>\n",
              "    <tr>\n",
              "      <th>1910</th>\n",
              "      <td>1911</td>\n",
              "      <td>40517.0</td>\n",
              "      <td>NaN</td>\n",
              "    </tr>\n",
              "    <tr>\n",
              "      <th>1911</th>\n",
              "      <td>1912</td>\n",
              "      <td>48962.0</td>\n",
              "      <td>NaN</td>\n",
              "    </tr>\n",
              "    <tr>\n",
              "      <th>1912</th>\n",
              "      <td>1913</td>\n",
              "      <td>49795.0</td>\n",
              "      <td>NaN</td>\n",
              "    </tr>\n",
              "  </tbody>\n",
              "</table>\n",
              "<p>1913 rows × 3 columns</p>\n",
              "</div>"
            ],
            "text/plain": [
              "      day_int   demand event_type_1\n",
              "0           1  32631.0          NaN\n",
              "1           2  31749.0          NaN\n",
              "2           3  23783.0          NaN\n",
              "3           4  25412.0          NaN\n",
              "4           5  19146.0          NaN\n",
              "...       ...      ...          ...\n",
              "1908     1909  35343.0          NaN\n",
              "1909     1910  35033.0          NaN\n",
              "1910     1911  40517.0          NaN\n",
              "1911     1912  48962.0          NaN\n",
              "1912     1913  49795.0          NaN\n",
              "\n",
              "[1913 rows x 3 columns]"
            ]
          },
          "metadata": {
            "tags": []
          },
          "execution_count": 35
        }
      ]
    },
    {
      "cell_type": "code",
      "metadata": {
        "id": "JLaLdP3HkHTv",
        "colab_type": "code",
        "outputId": "f53d65b1-d991-4f52-8cf1-8502375e4599",
        "colab": {
          "base_uri": "https://localhost:8080/",
          "height": 119
        }
      },
      "source": [
        "demand_event_type[-365:].groupby('event_type_1')['demand'].agg(np.mean)"
      ],
      "execution_count": 0,
      "outputs": [
        {
          "output_type": "execute_result",
          "data": {
            "text/plain": [
              "event_type_1\n",
              "Cultural     40997.285714\n",
              "National     33743.400000\n",
              "Religious    37052.375000\n",
              "Sporting     37837.666667\n",
              "Name: demand, dtype: float64"
            ]
          },
          "metadata": {
            "tags": []
          },
          "execution_count": 36
        }
      ]
    },
    {
      "cell_type": "code",
      "metadata": {
        "id": "qso7NM89kJAz",
        "colab_type": "code",
        "outputId": "773efc5e-7e6d-473c-fd54-304a0228db7b",
        "colab": {
          "base_uri": "https://localhost:8080/",
          "height": 85
        }
      },
      "source": [
        "demand_event[-365:].groupby('has_event')['demand'].agg(np.mean) # compare the mean of demand of each event type to no event days"
      ],
      "execution_count": 0,
      "outputs": [
        {
          "output_type": "execute_result",
          "data": {
            "text/plain": [
              "has_event\n",
              "0    39628.436202\n",
              "1    36940.964286\n",
              "Name: demand, dtype: float64"
            ]
          },
          "metadata": {
            "tags": []
          },
          "execution_count": 37
        }
      ]
    },
    {
      "cell_type": "code",
      "metadata": {
        "id": "mM188ompmUjW",
        "colab_type": "code",
        "outputId": "8ea8e66f-db20-41bc-90c8-dfb2d221a42d",
        "colab": {
          "base_uri": "https://localhost:8080/",
          "height": 204
        }
      },
      "source": [
        "demand_event_type[-365:].groupby('event_type_1').count()"
      ],
      "execution_count": 0,
      "outputs": [
        {
          "output_type": "execute_result",
          "data": {
            "text/html": [
              "<div>\n",
              "<style scoped>\n",
              "    .dataframe tbody tr th:only-of-type {\n",
              "        vertical-align: middle;\n",
              "    }\n",
              "\n",
              "    .dataframe tbody tr th {\n",
              "        vertical-align: top;\n",
              "    }\n",
              "\n",
              "    .dataframe thead th {\n",
              "        text-align: right;\n",
              "    }\n",
              "</style>\n",
              "<table border=\"1\" class=\"dataframe\">\n",
              "  <thead>\n",
              "    <tr style=\"text-align: right;\">\n",
              "      <th></th>\n",
              "      <th>day_int</th>\n",
              "      <th>demand</th>\n",
              "    </tr>\n",
              "    <tr>\n",
              "      <th>event_type_1</th>\n",
              "      <th></th>\n",
              "      <th></th>\n",
              "    </tr>\n",
              "  </thead>\n",
              "  <tbody>\n",
              "    <tr>\n",
              "      <th>Cultural</th>\n",
              "      <td>7</td>\n",
              "      <td>7</td>\n",
              "    </tr>\n",
              "    <tr>\n",
              "      <th>National</th>\n",
              "      <td>10</td>\n",
              "      <td>10</td>\n",
              "    </tr>\n",
              "    <tr>\n",
              "      <th>Religious</th>\n",
              "      <td>8</td>\n",
              "      <td>8</td>\n",
              "    </tr>\n",
              "    <tr>\n",
              "      <th>Sporting</th>\n",
              "      <td>3</td>\n",
              "      <td>3</td>\n",
              "    </tr>\n",
              "  </tbody>\n",
              "</table>\n",
              "</div>"
            ],
            "text/plain": [
              "              day_int  demand\n",
              "event_type_1                 \n",
              "Cultural            7       7\n",
              "National           10      10\n",
              "Religious           8       8\n",
              "Sporting            3       3"
            ]
          },
          "metadata": {
            "tags": []
          },
          "execution_count": 38
        }
      ]
    },
    {
      "cell_type": "code",
      "metadata": {
        "id": "Qnk9jGGrmUmW",
        "colab_type": "code",
        "outputId": "0be78dea-6f8b-48fb-db83-11319a96a041",
        "colab": {
          "base_uri": "https://localhost:8080/",
          "height": 359
        }
      },
      "source": [
        "demand_event_type_ly = demand_event_type[-365:]\n",
        "\n",
        "sporting = demand_event_type_ly[demand_event_type_ly['event_type_1'] == 'Sporting'][['demand', 'event_type_1']].reset_index().drop(columns = 'index')\n",
        "religious = demand_event_type_ly[demand_event_type_ly['event_type_1'] == 'Religious'][['demand', 'event_type_1']].reset_index().drop(columns = 'index')\n",
        "national = demand_event_type_ly[demand_event_type_ly['event_type_1'] == 'National'][['demand', 'event_type_1']].reset_index().drop(columns = 'index')\n",
        "cultural = demand_event_type_ly[demand_event_type_ly['event_type_1'] == 'Cultural'][['demand', 'event_type_1']].reset_index().drop(columns = 'index')\n",
        "\n",
        "pd.concat([sporting, religious, national, cultural], axis=1)"
      ],
      "execution_count": 0,
      "outputs": [
        {
          "output_type": "execute_result",
          "data": {
            "text/html": [
              "<div>\n",
              "<style scoped>\n",
              "    .dataframe tbody tr th:only-of-type {\n",
              "        vertical-align: middle;\n",
              "    }\n",
              "\n",
              "    .dataframe tbody tr th {\n",
              "        vertical-align: top;\n",
              "    }\n",
              "\n",
              "    .dataframe thead th {\n",
              "        text-align: right;\n",
              "    }\n",
              "</style>\n",
              "<table border=\"1\" class=\"dataframe\">\n",
              "  <thead>\n",
              "    <tr style=\"text-align: right;\">\n",
              "      <th></th>\n",
              "      <th>demand</th>\n",
              "      <th>event_type_1</th>\n",
              "      <th>demand</th>\n",
              "      <th>event_type_1</th>\n",
              "      <th>demand</th>\n",
              "      <th>event_type_1</th>\n",
              "      <th>demand</th>\n",
              "      <th>event_type_1</th>\n",
              "    </tr>\n",
              "  </thead>\n",
              "  <tbody>\n",
              "    <tr>\n",
              "      <th>0</th>\n",
              "      <td>34922.0</td>\n",
              "      <td>Sporting</td>\n",
              "      <td>34425.0</td>\n",
              "      <td>Religious</td>\n",
              "      <td>37817.0</td>\n",
              "      <td>National</td>\n",
              "      <td>35089.0</td>\n",
              "      <td>Cultural</td>\n",
              "    </tr>\n",
              "    <tr>\n",
              "      <th>1</th>\n",
              "      <td>31698.0</td>\n",
              "      <td>Sporting</td>\n",
              "      <td>45660.0</td>\n",
              "      <td>Religious</td>\n",
              "      <td>37489.0</td>\n",
              "      <td>National</td>\n",
              "      <td>38030.0</td>\n",
              "      <td>Cultural</td>\n",
              "    </tr>\n",
              "    <tr>\n",
              "      <th>2</th>\n",
              "      <td>46893.0</td>\n",
              "      <td>Sporting</td>\n",
              "      <td>32967.0</td>\n",
              "      <td>Religious</td>\n",
              "      <td>45762.0</td>\n",
              "      <td>National</td>\n",
              "      <td>41413.0</td>\n",
              "      <td>Cultural</td>\n",
              "    </tr>\n",
              "    <tr>\n",
              "      <th>3</th>\n",
              "      <td>NaN</td>\n",
              "      <td>NaN</td>\n",
              "      <td>37522.0</td>\n",
              "      <td>Religious</td>\n",
              "      <td>42240.0</td>\n",
              "      <td>National</td>\n",
              "      <td>42743.0</td>\n",
              "      <td>Cultural</td>\n",
              "    </tr>\n",
              "    <tr>\n",
              "      <th>4</th>\n",
              "      <td>NaN</td>\n",
              "      <td>NaN</td>\n",
              "      <td>35944.0</td>\n",
              "      <td>Religious</td>\n",
              "      <td>33338.0</td>\n",
              "      <td>National</td>\n",
              "      <td>48337.0</td>\n",
              "      <td>Cultural</td>\n",
              "    </tr>\n",
              "    <tr>\n",
              "      <th>5</th>\n",
              "      <td>NaN</td>\n",
              "      <td>NaN</td>\n",
              "      <td>39353.0</td>\n",
              "      <td>Religious</td>\n",
              "      <td>23631.0</td>\n",
              "      <td>National</td>\n",
              "      <td>35009.0</td>\n",
              "      <td>Cultural</td>\n",
              "    </tr>\n",
              "    <tr>\n",
              "      <th>6</th>\n",
              "      <td>NaN</td>\n",
              "      <td>NaN</td>\n",
              "      <td>36545.0</td>\n",
              "      <td>Religious</td>\n",
              "      <td>14.0</td>\n",
              "      <td>National</td>\n",
              "      <td>46360.0</td>\n",
              "      <td>Cultural</td>\n",
              "    </tr>\n",
              "    <tr>\n",
              "      <th>7</th>\n",
              "      <td>NaN</td>\n",
              "      <td>NaN</td>\n",
              "      <td>34003.0</td>\n",
              "      <td>Religious</td>\n",
              "      <td>32651.0</td>\n",
              "      <td>National</td>\n",
              "      <td>NaN</td>\n",
              "      <td>NaN</td>\n",
              "    </tr>\n",
              "    <tr>\n",
              "      <th>8</th>\n",
              "      <td>NaN</td>\n",
              "      <td>NaN</td>\n",
              "      <td>NaN</td>\n",
              "      <td>NaN</td>\n",
              "      <td>38340.0</td>\n",
              "      <td>National</td>\n",
              "      <td>NaN</td>\n",
              "      <td>NaN</td>\n",
              "    </tr>\n",
              "    <tr>\n",
              "      <th>9</th>\n",
              "      <td>NaN</td>\n",
              "      <td>NaN</td>\n",
              "      <td>NaN</td>\n",
              "      <td>NaN</td>\n",
              "      <td>46152.0</td>\n",
              "      <td>National</td>\n",
              "      <td>NaN</td>\n",
              "      <td>NaN</td>\n",
              "    </tr>\n",
              "  </tbody>\n",
              "</table>\n",
              "</div>"
            ],
            "text/plain": [
              "    demand event_type_1   demand  ... event_type_1   demand event_type_1\n",
              "0  34922.0     Sporting  34425.0  ...     National  35089.0     Cultural\n",
              "1  31698.0     Sporting  45660.0  ...     National  38030.0     Cultural\n",
              "2  46893.0     Sporting  32967.0  ...     National  41413.0     Cultural\n",
              "3      NaN          NaN  37522.0  ...     National  42743.0     Cultural\n",
              "4      NaN          NaN  35944.0  ...     National  48337.0     Cultural\n",
              "5      NaN          NaN  39353.0  ...     National  35009.0     Cultural\n",
              "6      NaN          NaN  36545.0  ...     National  46360.0     Cultural\n",
              "7      NaN          NaN  34003.0  ...     National      NaN          NaN\n",
              "8      NaN          NaN      NaN  ...     National      NaN          NaN\n",
              "9      NaN          NaN      NaN  ...     National      NaN          NaN\n",
              "\n",
              "[10 rows x 8 columns]"
            ]
          },
          "metadata": {
            "tags": []
          },
          "execution_count": 73
        }
      ]
    },
    {
      "cell_type": "code",
      "metadata": {
        "id": "J_4teg4nmUrA",
        "colab_type": "code",
        "outputId": "3adb605c-158b-4231-dd34-a3aa4d035c26",
        "colab": {
          "base_uri": "https://localhost:8080/",
          "height": 545
        }
      },
      "source": [
        "demand_event_type[demand_event_type['event_type_1'] == 'Sporting']"
      ],
      "execution_count": 0,
      "outputs": [
        {
          "output_type": "execute_result",
          "data": {
            "text/html": [
              "<div>\n",
              "<style scoped>\n",
              "    .dataframe tbody tr th:only-of-type {\n",
              "        vertical-align: middle;\n",
              "    }\n",
              "\n",
              "    .dataframe tbody tr th {\n",
              "        vertical-align: top;\n",
              "    }\n",
              "\n",
              "    .dataframe thead th {\n",
              "        text-align: right;\n",
              "    }\n",
              "</style>\n",
              "<table border=\"1\" class=\"dataframe\">\n",
              "  <thead>\n",
              "    <tr style=\"text-align: right;\">\n",
              "      <th></th>\n",
              "      <th>day_int</th>\n",
              "      <th>demand</th>\n",
              "      <th>event_type_1</th>\n",
              "    </tr>\n",
              "  </thead>\n",
              "  <tbody>\n",
              "    <tr>\n",
              "      <th>8</th>\n",
              "      <td>9</td>\n",
              "      <td>32736.0</td>\n",
              "      <td>Sporting</td>\n",
              "    </tr>\n",
              "    <tr>\n",
              "      <th>122</th>\n",
              "      <td>123</td>\n",
              "      <td>19555.0</td>\n",
              "      <td>Sporting</td>\n",
              "    </tr>\n",
              "    <tr>\n",
              "      <th>134</th>\n",
              "      <td>135</td>\n",
              "      <td>31094.0</td>\n",
              "      <td>Sporting</td>\n",
              "    </tr>\n",
              "    <tr>\n",
              "      <th>372</th>\n",
              "      <td>373</td>\n",
              "      <td>40075.0</td>\n",
              "      <td>Sporting</td>\n",
              "    </tr>\n",
              "    <tr>\n",
              "      <th>500</th>\n",
              "      <td>501</td>\n",
              "      <td>35074.0</td>\n",
              "      <td>Sporting</td>\n",
              "    </tr>\n",
              "    <tr>\n",
              "      <th>509</th>\n",
              "      <td>510</td>\n",
              "      <td>30764.0</td>\n",
              "      <td>Sporting</td>\n",
              "    </tr>\n",
              "    <tr>\n",
              "      <th>736</th>\n",
              "      <td>737</td>\n",
              "      <td>41558.0</td>\n",
              "      <td>Sporting</td>\n",
              "    </tr>\n",
              "    <tr>\n",
              "      <th>859</th>\n",
              "      <td>860</td>\n",
              "      <td>34166.0</td>\n",
              "      <td>Sporting</td>\n",
              "    </tr>\n",
              "    <tr>\n",
              "      <th>873</th>\n",
              "      <td>874</td>\n",
              "      <td>31771.0</td>\n",
              "      <td>Sporting</td>\n",
              "    </tr>\n",
              "    <tr>\n",
              "      <th>1100</th>\n",
              "      <td>1101</td>\n",
              "      <td>43897.0</td>\n",
              "      <td>Sporting</td>\n",
              "    </tr>\n",
              "    <tr>\n",
              "      <th>1223</th>\n",
              "      <td>1224</td>\n",
              "      <td>35655.0</td>\n",
              "      <td>Sporting</td>\n",
              "    </tr>\n",
              "    <tr>\n",
              "      <th>1233</th>\n",
              "      <td>1234</td>\n",
              "      <td>42494.0</td>\n",
              "      <td>Sporting</td>\n",
              "    </tr>\n",
              "    <tr>\n",
              "      <th>1464</th>\n",
              "      <td>1465</td>\n",
              "      <td>40385.0</td>\n",
              "      <td>Sporting</td>\n",
              "    </tr>\n",
              "    <tr>\n",
              "      <th>1587</th>\n",
              "      <td>1588</td>\n",
              "      <td>34922.0</td>\n",
              "      <td>Sporting</td>\n",
              "    </tr>\n",
              "    <tr>\n",
              "      <th>1599</th>\n",
              "      <td>1600</td>\n",
              "      <td>31698.0</td>\n",
              "      <td>Sporting</td>\n",
              "    </tr>\n",
              "    <tr>\n",
              "      <th>1835</th>\n",
              "      <td>1836</td>\n",
              "      <td>46893.0</td>\n",
              "      <td>Sporting</td>\n",
              "    </tr>\n",
              "  </tbody>\n",
              "</table>\n",
              "</div>"
            ],
            "text/plain": [
              "      day_int   demand event_type_1\n",
              "8           9  32736.0     Sporting\n",
              "122       123  19555.0     Sporting\n",
              "134       135  31094.0     Sporting\n",
              "372       373  40075.0     Sporting\n",
              "500       501  35074.0     Sporting\n",
              "509       510  30764.0     Sporting\n",
              "736       737  41558.0     Sporting\n",
              "859       860  34166.0     Sporting\n",
              "873       874  31771.0     Sporting\n",
              "1100     1101  43897.0     Sporting\n",
              "1223     1224  35655.0     Sporting\n",
              "1233     1234  42494.0     Sporting\n",
              "1464     1465  40385.0     Sporting\n",
              "1587     1588  34922.0     Sporting\n",
              "1599     1600  31698.0     Sporting\n",
              "1835     1836  46893.0     Sporting"
            ]
          },
          "metadata": {
            "tags": []
          },
          "execution_count": 74
        }
      ]
    },
    {
      "cell_type": "markdown",
      "metadata": {
        "id": "GzB9kborkK5n",
        "colab_type": "text"
      },
      "source": [
        "# Explore the relation with the day in a week"
      ]
    },
    {
      "cell_type": "code",
      "metadata": {
        "id": "_xkZUTZmmhZO",
        "colab_type": "code",
        "outputId": "b94eb6c1-8c58-4f1c-f793-29e46686d972",
        "colab": {
          "base_uri": "https://localhost:8080/",
          "height": 170
        }
      },
      "source": [
        "train_melt.groupby(\"weekday\")[\"demand\"].agg(np.mean)"
      ],
      "execution_count": 0,
      "outputs": [
        {
          "output_type": "execute_result",
          "data": {
            "text/plain": [
              "weekday\n",
              "Friday       1.122531\n",
              "Monday       1.077500\n",
              "Saturday     1.362640\n",
              "Sunday       1.348968\n",
              "Thursday     0.990653\n",
              "Tuesday      0.996024\n",
              "Wednesday    0.984258\n",
              "Name: demand, dtype: float64"
            ]
          },
          "metadata": {
            "tags": []
          },
          "execution_count": 39
        }
      ]
    },
    {
      "cell_type": "code",
      "metadata": {
        "id": "UZe--5x2mhcJ",
        "colab_type": "code",
        "outputId": "facb209a-e3d5-4be3-9c9d-4dab0735283c",
        "colab": {
          "base_uri": "https://localhost:8080/",
          "height": 170
        }
      },
      "source": [
        "train_melt.groupby(\"weekday\")[\"demand\"].agg(np.std)"
      ],
      "execution_count": 0,
      "outputs": [
        {
          "output_type": "execute_result",
          "data": {
            "text/plain": [
              "weekday\n",
              "Friday       3.882051\n",
              "Monday       3.656730\n",
              "Saturday     4.593460\n",
              "Sunday       4.508957\n",
              "Thursday     3.429051\n",
              "Tuesday      3.408766\n",
              "Wednesday    3.398607\n",
              "Name: demand, dtype: float64"
            ]
          },
          "metadata": {
            "tags": []
          },
          "execution_count": 40
        }
      ]
    },
    {
      "cell_type": "code",
      "metadata": {
        "id": "_lgKQ9z0mhhU",
        "colab_type": "code",
        "outputId": "843e0e7e-5ffe-4c7e-f270-7c17b407b99d",
        "colab": {
          "base_uri": "https://localhost:8080/",
          "height": 221
        }
      },
      "source": [
        "demand_event[\"day_int\"]"
      ],
      "execution_count": 0,
      "outputs": [
        {
          "output_type": "execute_result",
          "data": {
            "text/plain": [
              "0          1\n",
              "1          2\n",
              "2          3\n",
              "3          4\n",
              "4          5\n",
              "        ... \n",
              "1908    1909\n",
              "1909    1910\n",
              "1910    1911\n",
              "1911    1912\n",
              "1912    1913\n",
              "Name: day_int, Length: 1913, dtype: int64"
            ]
          },
          "metadata": {
            "tags": []
          },
          "execution_count": 41
        }
      ]
    },
    {
      "cell_type": "code",
      "metadata": {
        "id": "BOlScnkLmhmY",
        "colab_type": "code",
        "colab": {}
      },
      "source": [
        "mon = train_melt[train_melt['wday'] == 3]\n",
        "tue = train_melt[train_melt['wday'] == 4]\n",
        "wed = train_melt[train_melt['wday'] == 5]\n",
        "thu = train_melt[train_melt['wday'] == 6]\n",
        "fri = train_melt[train_melt['wday'] == 7]\n",
        "sat = train_melt[train_melt['wday'] == 1]\n",
        "sun = train_melt[train_melt['wday'] == 2]"
      ],
      "execution_count": 0,
      "outputs": []
    },
    {
      "cell_type": "code",
      "metadata": {
        "id": "6Zc_ukCnmhgR",
        "colab_type": "code",
        "colab": {}
      },
      "source": [
        "mon_demand = mon.groupby([\"day_int\"])[\"demand\"].agg(sum).reset_index()['demand']\n",
        "tue_demand = tue.groupby([\"day_int\"])[\"demand\"].agg(sum).reset_index()['demand']\n",
        "wed_demand = wed.groupby([\"day_int\"])[\"demand\"].agg(sum).reset_index()['demand']\n",
        "thu_demand = thu.groupby([\"day_int\"])[\"demand\"].agg(sum).reset_index()['demand']\n",
        "fri_demand = fri.groupby([\"day_int\"])[\"demand\"].agg(sum).reset_index()['demand']\n",
        "sat_demand = sat.groupby([\"day_int\"])[\"demand\"].agg(sum).reset_index()['demand']\n",
        "sun_demand = sun.groupby([\"day_int\"])[\"demand\"].agg(sum).reset_index()['demand']\n"
      ],
      "execution_count": 0,
      "outputs": []
    },
    {
      "cell_type": "markdown",
      "metadata": {
        "id": "4WQCYTGRmsV1",
        "colab_type": "text"
      },
      "source": [
        "# Total demand of the last year according the weeksday"
      ]
    },
    {
      "cell_type": "code",
      "metadata": {
        "id": "W7PHRxDHmsZw",
        "colab_type": "code",
        "outputId": "667291a3-c158-4cae-f892-5a57c7ce5e57",
        "colab": {
          "base_uri": "https://localhost:8080/",
          "height": 281
        }
      },
      "source": [
        "demand_wd = [mon_demand, tue_demand, wed_demand, thu_demand, fri_demand, sat_demand, sun_demand]\n",
        "labels = ['mon', 'tue', 'wed', 'thur', 'fri', 'sat', 'sun']\n",
        "\n",
        "\n",
        "for demand, label in zip(demand_wd, labels):\n",
        "    plt.plot(demand[-54:], label=label)\n",
        "    \n",
        "plt.legend()\n",
        "plt.title(\"Total sales per day in the first year\")\n",
        "plt.show()"
      ],
      "execution_count": 0,
      "outputs": [
        {
          "output_type": "display_data",
          "data": {
            "image/png": "[encoded data removed]",
            "text/plain": [
              "<Figure size 432x288 with 1 Axes>"
            ]
          },
          "metadata": {
            "tags": [],
            "needs_background": "light"
          }
        }
      ]
    },
    {
      "cell_type": "markdown",
      "metadata": {
        "id": "DS3d0XYImses",
        "colab_type": "text"
      },
      "source": [
        "# Total demand of the first year according the weeksday"
      ]
    },
    {
      "cell_type": "code",
      "metadata": {
        "id": "lJp7Jhhumsvp",
        "colab_type": "code",
        "outputId": "ed9d4c6e-5364-4dad-a887-5bedbe33070f",
        "colab": {
          "base_uri": "https://localhost:8080/",
          "height": 281
        }
      },
      "source": [
        "demand_wd = [mon_demand, tue_demand, wed_demand, thu_demand, fri_demand, sat_demand, sun_demand]\n",
        "labels = ['mon', 'tue', 'wed', 'thur', 'fri', 'sat', 'sun']\n",
        "\n",
        "\n",
        "for demand, label in zip(demand_wd, labels):\n",
        "    plt.plot(demand[:54], label=label)\n",
        "    \n",
        "plt.legend()\n",
        "plt.title(\"Total sales per day in the last year\")\n",
        "plt.show()"
      ],
      "execution_count": 0,
      "outputs": [
        {
          "output_type": "display_data",
          "data": {
            "image/png": "[encoded data removed]",
            "text/plain": [
              "<Figure size 432x288 with 1 Axes>"
            ]
          },
          "metadata": {
            "tags": [],
            "needs_background": "light"
          }
        }
      ]
    },
    {
      "cell_type": "code",
      "metadata": {
        "id": "pMXKbpRbrntV",
        "colab_type": "code",
        "colab": {}
      },
      "source": [
        "del mon, tue, wed, thu, fri, sat, sun, demand_event, demand_event_type, demand_event_type_ly"
      ],
      "execution_count": 0,
      "outputs": []
    },
    {
      "cell_type": "markdown",
      "metadata": {
        "id": "oesxD_4hms5h",
        "colab_type": "text"
      },
      "source": [
        "# Selecting features"
      ]
    },
    {
      "cell_type": "code",
      "metadata": {
        "id": "c6QjjP97mtEf",
        "colab_type": "code",
        "colab": {}
      },
      "source": [
        "# train_melt.head()"
      ],
      "execution_count": 0,
      "outputs": []
    },
    {
      "cell_type": "code",
      "metadata": {
        "id": "Hdlt8AIDmscv",
        "colab_type": "code",
        "outputId": "e47900f1-02c7-4db7-cda9-bc3a026806ef",
        "colab": {
          "base_uri": "https://localhost:8080/",
          "height": 102
        }
      },
      "source": [
        "train_melt.columns"
      ],
      "execution_count": 0,
      "outputs": [
        {
          "output_type": "execute_result",
          "data": {
            "text/plain": [
              "Index(['id', 'item_id', 'dept_id', 'cat_id', 'store_id', 'state_id', 'day',\n",
              "       'demand', 'date', 'wm_yr_wk', 'weekday', 'wday', 'month', 'year', 'd',\n",
              "       'event_name_1', 'event_type_1', 'event_name_2', 'event_type_2',\n",
              "       'snap_CA', 'snap_TX', 'snap_WI', 'sell_price', 'day_int'],\n",
              "      dtype='object')"
            ]
          },
          "metadata": {
            "tags": []
          },
          "execution_count": 19
        }
      ]
    },
    {
      "cell_type": "code",
      "metadata": {
        "id": "kQK-DHBknWqu",
        "colab_type": "code",
        "colab": {}
      },
      "source": [
        "features = ['item_id', 'dept_id', 'cat_id', 'store_id', 'state_id', 'wday', 'month',\n",
        "       'event_name_1', 'event_type_1', 'event_name_2', 'event_type_2',\n",
        "       'snap_CA', 'snap_TX', 'snap_WI', 'sell_price', 'demand', 'day_int']"
      ],
      "execution_count": 0,
      "outputs": []
    },
    {
      "cell_type": "code",
      "metadata": {
        "id": "d84DQX36nc-F",
        "colab_type": "code",
        "colab": {}
      },
      "source": [
        "train_melt['date'] = pd.to_datetime(train_melt['date'])"
      ],
      "execution_count": 0,
      "outputs": []
    },
    {
      "cell_type": "code",
      "metadata": {
        "id": "JDBtZeUznYMj",
        "colab_type": "code",
        "colab": {}
      },
      "source": [
        "train_melt_2015 = train_melt[train_melt['date'] > pd.to_datetime('2015-05-19')]"
      ],
      "execution_count": 0,
      "outputs": []
    },
    {
      "cell_type": "code",
      "metadata": {
        "id": "bdtQaO146nYO",
        "colab_type": "code",
        "colab": {}
      },
      "source": [
        "train_melt_2015.to_csv(\"train_melt_2015.csv\", index=False)"
      ],
      "execution_count": 0,
      "outputs": []
    },
    {
      "cell_type": "markdown",
      "metadata": {
        "id": "rznzWlxrojzT",
        "colab_type": "text"
      },
      "source": [
        "# Setting up training data"
      ]
    },
    {
      "cell_type": "code",
      "metadata": {
        "id": "np4FGfxJCFyL",
        "colab_type": "code",
        "outputId": "1b8d8cb7-2010-48c2-ef94-45640d2bfbf1",
        "colab": {
          "base_uri": "https://localhost:8080/",
          "height": 51
        }
      },
      "source": [
        "train_melt_2015 = pd.read_csv(\"/content/gdrive/My Drive/train_melt_2015.csv\")"
      ],
      "execution_count": 0,
      "outputs": [
        {
          "output_type": "stream",
          "text": [
            "/usr/local/lib/python3.6/dist-packages/IPython/core/interactiveshell.py:2718: DtypeWarning: Columns (15,16) have mixed types.Specify dtype option on import or set low_memory=False.\n",
            "  interactivity=interactivity, compiler=compiler, result=result)\n"
          ],
          "name": "stderr"
        }
      ]
    },
    {
      "cell_type": "code",
      "metadata": {
        "id": "2FztBPgu8DLs",
        "colab_type": "code",
        "outputId": "c416ad60-550b-48cb-e845-4e6b0a241b2f",
        "colab": {
          "base_uri": "https://localhost:8080/",
          "height": 71
        }
      },
      "source": [
        "train_melt_2015 = pd.read_csv(\"train_melt_2015.csv\")"
      ],
      "execution_count": 0,
      "outputs": [
        {
          "output_type": "stream",
          "text": [
            "/usr/local/lib/python3.6/dist-packages/IPython/core/interactiveshell.py:2718: DtypeWarning: Columns (15,16,17,18) have mixed types.Specify dtype option on import or set low_memory=False.\n",
            "  interactivity=interactivity, compiler=compiler, result=result)\n"
          ],
          "name": "stderr"
        }
      ]
    },
    {
      "cell_type": "code",
      "metadata": {
        "id": "lF_bsGK2x3we",
        "colab_type": "code",
        "outputId": "84f52475-2bfe-42d0-8568-08d74185833d",
        "colab": {
          "base_uri": "https://localhost:8080/",
          "height": 34
        }
      },
      "source": [
        "X = train_melt_2015[features]\n",
        "\n",
        "print(X.shape)"
      ],
      "execution_count": 0,
      "outputs": [
        {
          "output_type": "stream",
          "text": [
            "(12104530, 17)\n"
          ],
          "name": "stdout"
        }
      ]
    },
    {
      "cell_type": "code",
      "metadata": {
        "id": "dWAMz9EiyodA",
        "colab_type": "code",
        "colab": {}
      },
      "source": [
        "from sklearn.preprocessing import LabelEncoder\n",
        "\n",
        "le = LabelEncoder()"
      ],
      "execution_count": 0,
      "outputs": []
    },
    {
      "cell_type": "code",
      "metadata": {
        "id": "0VPoxWIxzKry",
        "colab_type": "code",
        "outputId": "8088cdc7-f92e-4691-938a-0ed99de60f1a",
        "colab": {
          "base_uri": "https://localhost:8080/",
          "height": 425
        }
      },
      "source": [
        "X.info()"
      ],
      "execution_count": 0,
      "outputs": [
        {
          "output_type": "stream",
          "text": [
            "<class 'pandas.core.frame.DataFrame'>\n",
            "RangeIndex: 12104530 entries, 0 to 12104529\n",
            "Data columns (total 17 columns):\n",
            " #   Column        Dtype  \n",
            "---  ------        -----  \n",
            " 0   item_id       object \n",
            " 1   dept_id       object \n",
            " 2   cat_id        object \n",
            " 3   store_id      object \n",
            " 4   state_id      object \n",
            " 5   wday          int64  \n",
            " 6   month         int64  \n",
            " 7   event_name_1  object \n",
            " 8   event_type_1  object \n",
            " 9   event_name_2  object \n",
            " 10  event_type_2  object \n",
            " 11  snap_CA       int64  \n",
            " 12  snap_TX       int64  \n",
            " 13  snap_WI       int64  \n",
            " 14  sell_price    float64\n",
            " 15  demand        float64\n",
            " 16  day_int       int64  \n",
            "dtypes: float64(2), int64(6), object(9)\n",
            "memory usage: 1.5+ GB\n"
          ],
          "name": "stdout"
        }
      ]
    },
    {
      "cell_type": "code",
      "metadata": {
        "id": "5uePCLSCqoU1",
        "colab_type": "code",
        "outputId": "44bc705b-36af-46fc-e6ae-cd8088fe8af8",
        "colab": {
          "base_uri": "https://localhost:8080/",
          "height": 323
        }
      },
      "source": [
        "X.iloc[0, :]"
      ],
      "execution_count": 0,
      "outputs": [
        {
          "output_type": "execute_result",
          "data": {
            "text/plain": [
              "item_id         HOBBIES_1_001\n",
              "dept_id             HOBBIES_1\n",
              "cat_id                HOBBIES\n",
              "store_id                 CA_1\n",
              "state_id                   CA\n",
              "wday                        5\n",
              "month                       5\n",
              "event_name_1              NaN\n",
              "event_type_1              NaN\n",
              "event_name_2              NaN\n",
              "event_type_2              NaN\n",
              "snap_CA                     0\n",
              "snap_TX                     0\n",
              "snap_WI                     0\n",
              "sell_price               8.26\n",
              "demand                      0\n",
              "day_int                  1573\n",
              "Name: 0, dtype: object"
            ]
          },
          "metadata": {
            "tags": []
          },
          "execution_count": 120
        }
      ]
    },
    {
      "cell_type": "markdown",
      "metadata": {
        "id": "vuZss2D8g7rc",
        "colab_type": "text"
      },
      "source": [
        "## Converting Categorical data"
      ]
    },
    {
      "cell_type": "code",
      "metadata": {
        "id": "mNbCNCmxz15k",
        "colab_type": "code",
        "outputId": "68c53d23-d5b0-4c2a-b24d-947111d765a7",
        "colab": {
          "base_uri": "https://localhost:8080/",
          "height": 343
        }
      },
      "source": [
        "X['item_id_int'] = X['item_id'].apply(lambda x: x[-3:]).astype(int)\n",
        "X['dept_id'] = X['dept_id'].apply(lambda x: x[-1]).astype(int)\n",
        "X['store_id'] = X['store_id'].apply(lambda x: x[-1]).astype(int)"
      ],
      "execution_count": 0,
      "outputs": [
        {
          "output_type": "stream",
          "text": [
            "/usr/local/lib/python3.6/dist-packages/ipykernel_launcher.py:1: SettingWithCopyWarning: \n",
            "A value is trying to be set on a copy of a slice from a DataFrame.\n",
            "Try using .loc[row_indexer,col_indexer] = value instead\n",
            "\n",
            "See the caveats in the documentation: https://pandas.pydata.org/pandas-docs/stable/user_guide/indexing.html#returning-a-view-versus-a-copy\n",
            "  \"\"\"Entry point for launching an IPython kernel.\n",
            "/usr/local/lib/python3.6/dist-packages/ipykernel_launcher.py:2: SettingWithCopyWarning: \n",
            "A value is trying to be set on a copy of a slice from a DataFrame.\n",
            "Try using .loc[row_indexer,col_indexer] = value instead\n",
            "\n",
            "See the caveats in the documentation: https://pandas.pydata.org/pandas-docs/stable/user_guide/indexing.html#returning-a-view-versus-a-copy\n",
            "  \n",
            "/usr/local/lib/python3.6/dist-packages/ipykernel_launcher.py:3: SettingWithCopyWarning: \n",
            "A value is trying to be set on a copy of a slice from a DataFrame.\n",
            "Try using .loc[row_indexer,col_indexer] = value instead\n",
            "\n",
            "See the caveats in the documentation: https://pandas.pydata.org/pandas-docs/stable/user_guide/indexing.html#returning-a-view-versus-a-copy\n",
            "  This is separate from the ipykernel package so we can avoid doing imports until\n"
          ],
          "name": "stderr"
        }
      ]
    },
    {
      "cell_type": "code",
      "metadata": {
        "id": "N4tq8oL10fhV",
        "colab_type": "code",
        "outputId": "66a1add4-e26b-4d53-9d51-326b6155818f",
        "colab": {
          "base_uri": "https://localhost:8080/",
          "height": 445
        }
      },
      "source": [
        "X['event_name_1'] = le.fit_transform(X['event_name_1'].astype(str)) + 1\n",
        "X['event_type_1'] = le.fit_transform(X['event_type_1'].astype(str)) + 1\n",
        "X['event_name_2'] = le.fit_transform(X['event_name_2'].astype(str)) + 1\n",
        "X['event_type_2'] = le.fit_transform(X['event_type_2'].astype(str)) + 1"
      ],
      "execution_count": 0,
      "outputs": [
        {
          "output_type": "stream",
          "text": [
            "/usr/local/lib/python3.6/dist-packages/ipykernel_launcher.py:1: SettingWithCopyWarning: \n",
            "A value is trying to be set on a copy of a slice from a DataFrame.\n",
            "Try using .loc[row_indexer,col_indexer] = value instead\n",
            "\n",
            "See the caveats in the documentation: https://pandas.pydata.org/pandas-docs/stable/user_guide/indexing.html#returning-a-view-versus-a-copy\n",
            "  \"\"\"Entry point for launching an IPython kernel.\n",
            "/usr/local/lib/python3.6/dist-packages/ipykernel_launcher.py:2: SettingWithCopyWarning: \n",
            "A value is trying to be set on a copy of a slice from a DataFrame.\n",
            "Try using .loc[row_indexer,col_indexer] = value instead\n",
            "\n",
            "See the caveats in the documentation: https://pandas.pydata.org/pandas-docs/stable/user_guide/indexing.html#returning-a-view-versus-a-copy\n",
            "  \n",
            "/usr/local/lib/python3.6/dist-packages/ipykernel_launcher.py:3: SettingWithCopyWarning: \n",
            "A value is trying to be set on a copy of a slice from a DataFrame.\n",
            "Try using .loc[row_indexer,col_indexer] = value instead\n",
            "\n",
            "See the caveats in the documentation: https://pandas.pydata.org/pandas-docs/stable/user_guide/indexing.html#returning-a-view-versus-a-copy\n",
            "  This is separate from the ipykernel package so we can avoid doing imports until\n",
            "/usr/local/lib/python3.6/dist-packages/ipykernel_launcher.py:4: SettingWithCopyWarning: \n",
            "A value is trying to be set on a copy of a slice from a DataFrame.\n",
            "Try using .loc[row_indexer,col_indexer] = value instead\n",
            "\n",
            "See the caveats in the documentation: https://pandas.pydata.org/pandas-docs/stable/user_guide/indexing.html#returning-a-view-versus-a-copy\n",
            "  after removing the cwd from sys.path.\n"
          ],
          "name": "stderr"
        }
      ]
    },
    {
      "cell_type": "code",
      "metadata": {
        "id": "HEwu55vq0rlF",
        "colab_type": "code",
        "outputId": "e337afde-8844-4ec9-d4a5-180cad15ed2b",
        "colab": {
          "base_uri": "https://localhost:8080/",
          "height": 241
        }
      },
      "source": [
        "X['cat_id'] = le.fit_transform(X['cat_id'].astype(str)) + 1\n",
        "X['state_id'] = le.fit_transform(X['state_id'].astype(str)) + 1"
      ],
      "execution_count": 0,
      "outputs": [
        {
          "output_type": "stream",
          "text": [
            "/usr/local/lib/python3.6/dist-packages/ipykernel_launcher.py:1: SettingWithCopyWarning: \n",
            "A value is trying to be set on a copy of a slice from a DataFrame.\n",
            "Try using .loc[row_indexer,col_indexer] = value instead\n",
            "\n",
            "See the caveats in the documentation: https://pandas.pydata.org/pandas-docs/stable/user_guide/indexing.html#returning-a-view-versus-a-copy\n",
            "  \"\"\"Entry point for launching an IPython kernel.\n",
            "/usr/local/lib/python3.6/dist-packages/ipykernel_launcher.py:2: SettingWithCopyWarning: \n",
            "A value is trying to be set on a copy of a slice from a DataFrame.\n",
            "Try using .loc[row_indexer,col_indexer] = value instead\n",
            "\n",
            "See the caveats in the documentation: https://pandas.pydata.org/pandas-docs/stable/user_guide/indexing.html#returning-a-view-versus-a-copy\n",
            "  \n"
          ],
          "name": "stderr"
        }
      ]
    },
    {
      "cell_type": "code",
      "metadata": {
        "id": "nLqp-DXh1oqP",
        "colab_type": "code",
        "outputId": "51876b56-4705-430c-9fb9-4a1c06c13926",
        "colab": {
          "base_uri": "https://localhost:8080/",
          "height": 442
        }
      },
      "source": [
        "X.info()"
      ],
      "execution_count": 0,
      "outputs": [
        {
          "output_type": "stream",
          "text": [
            "<class 'pandas.core.frame.DataFrame'>\n",
            "RangeIndex: 12104530 entries, 0 to 12104529\n",
            "Data columns (total 18 columns):\n",
            " #   Column        Dtype  \n",
            "---  ------        -----  \n",
            " 0   item_id       object \n",
            " 1   dept_id       int64  \n",
            " 2   cat_id        int64  \n",
            " 3   store_id      int64  \n",
            " 4   state_id      int64  \n",
            " 5   wday          int64  \n",
            " 6   month         int64  \n",
            " 7   event_name_1  int64  \n",
            " 8   event_type_1  int64  \n",
            " 9   event_name_2  int64  \n",
            " 10  event_type_2  int64  \n",
            " 11  snap_CA       int64  \n",
            " 12  snap_TX       int64  \n",
            " 13  snap_WI       int64  \n",
            " 14  sell_price    float64\n",
            " 15  demand        float64\n",
            " 16  day_int       int64  \n",
            " 17  item_id_int   int64  \n",
            "dtypes: float64(2), int64(15), object(1)\n",
            "memory usage: 1.6+ GB\n"
          ],
          "name": "stdout"
        }
      ]
    },
    {
      "cell_type": "markdown",
      "metadata": {
        "id": "HyzFbD3Dg_zQ",
        "colab_type": "text"
      },
      "source": [
        "## Tackling null value in price"
      ]
    },
    {
      "cell_type": "code",
      "metadata": {
        "id": "0NwNl79H1grI",
        "colab_type": "code",
        "outputId": "b689fb2c-bcef-411b-ab4d-1c747f2723d8",
        "colab": {
          "base_uri": "https://localhost:8080/",
          "height": 34
        }
      },
      "source": [
        "X['sell_price'].isnull().sum()"
      ],
      "execution_count": 0,
      "outputs": [
        {
          "output_type": "execute_result",
          "data": {
            "text/plain": [
              "22453"
            ]
          },
          "metadata": {
            "tags": []
          },
          "execution_count": 125
        }
      ]
    },
    {
      "cell_type": "code",
      "metadata": {
        "id": "mouj4qrg1-kY",
        "colab_type": "code",
        "outputId": "e73ddf72-b86e-4341-ac60-4d81bc96d41d",
        "colab": {
          "base_uri": "https://localhost:8080/",
          "height": 122
        }
      },
      "source": [
        "X['sell_price'].fillna(0, inplace=True)"
      ],
      "execution_count": 0,
      "outputs": [
        {
          "output_type": "stream",
          "text": [
            "/usr/local/lib/python3.6/dist-packages/pandas/core/generic.py:6245: SettingWithCopyWarning: \n",
            "A value is trying to be set on a copy of a slice from a DataFrame\n",
            "\n",
            "See the caveats in the documentation: https://pandas.pydata.org/pandas-docs/stable/user_guide/indexing.html#returning-a-view-versus-a-copy\n",
            "  self._update_inplace(new_data)\n"
          ],
          "name": "stderr"
        }
      ]
    },
    {
      "cell_type": "code",
      "metadata": {
        "id": "ajyN8gzh3yx4",
        "colab_type": "code",
        "outputId": "53d2e75a-1e15-4092-993b-f1c5ff31a973",
        "colab": {
          "base_uri": "https://localhost:8080/",
          "height": 34
        }
      },
      "source": [
        "X['sell_price'].isnull().sum()"
      ],
      "execution_count": 0,
      "outputs": [
        {
          "output_type": "execute_result",
          "data": {
            "text/plain": [
              "0"
            ]
          },
          "metadata": {
            "tags": []
          },
          "execution_count": 127
        }
      ]
    },
    {
      "cell_type": "code",
      "metadata": {
        "id": "t8_Cvkfn3z7V",
        "colab_type": "code",
        "outputId": "d7641047-b4f2-4d11-9afb-625da32ec439",
        "colab": {
          "base_uri": "https://localhost:8080/",
          "height": 34
        }
      },
      "source": [
        "1913 - 30"
      ],
      "execution_count": 0,
      "outputs": [
        {
          "output_type": "execute_result",
          "data": {
            "text/plain": [
              "1883"
            ]
          },
          "metadata": {
            "tags": []
          },
          "execution_count": 128
        }
      ]
    },
    {
      "cell_type": "code",
      "metadata": {
        "id": "BQMpgl3iDh6o",
        "colab_type": "code",
        "outputId": "32a0f11a-2455-4bf8-f008-2e5c53829a61",
        "colab": {
          "base_uri": "https://localhost:8080/",
          "height": 170
        }
      },
      "source": [
        "X['day_int'].describe()"
      ],
      "execution_count": 0,
      "outputs": [
        {
          "output_type": "execute_result",
          "data": {
            "text/plain": [
              "count    1.210453e+07\n",
              "mean     1.771000e+03\n",
              "std      1.146037e+02\n",
              "min      1.573000e+03\n",
              "25%      1.672000e+03\n",
              "50%      1.771000e+03\n",
              "75%      1.870000e+03\n",
              "max      1.969000e+03\n",
              "Name: day_int, dtype: float64"
            ]
          },
          "metadata": {
            "tags": []
          },
          "execution_count": 129
        }
      ]
    },
    {
      "cell_type": "code",
      "metadata": {
        "id": "EgmypSLdB0B9",
        "colab_type": "code",
        "outputId": "52e3d38b-b2c0-424f-c749-c76f422560fb",
        "colab": {
          "base_uri": "https://localhost:8080/",
          "height": 340
        }
      },
      "source": [
        "X.iloc[0, :]"
      ],
      "execution_count": 0,
      "outputs": [
        {
          "output_type": "execute_result",
          "data": {
            "text/plain": [
              "item_id         HOBBIES_1_001\n",
              "dept_id                     1\n",
              "cat_id                      2\n",
              "store_id                    1\n",
              "state_id                    1\n",
              "wday                        5\n",
              "month                       5\n",
              "event_name_1               31\n",
              "event_type_1                5\n",
              "event_name_2                2\n",
              "event_type_2                2\n",
              "snap_CA                     0\n",
              "snap_TX                     0\n",
              "snap_WI                     0\n",
              "sell_price               8.26\n",
              "demand                      0\n",
              "day_int                  1573\n",
              "item_id_int                 1\n",
              "Name: 0, dtype: object"
            ]
          },
          "metadata": {
            "tags": []
          },
          "execution_count": 130
        }
      ]
    },
    {
      "cell_type": "markdown",
      "metadata": {
        "id": "eBgg8-I9hDRB",
        "colab_type": "text"
      },
      "source": [
        "## Splitting training and testing dataset"
      ]
    },
    {
      "cell_type": "code",
      "metadata": {
        "id": "0kYJ0hNB3_vK",
        "colab_type": "code",
        "colab": {}
      },
      "source": [
        "train = X[X['day_int'] < 1883]\n",
        "test = X[X['day_int'] >= 1883]\n",
        "\n",
        "# del X, train_melt_2015"
      ],
      "execution_count": 0,
      "outputs": []
    },
    {
      "cell_type": "code",
      "metadata": {
        "id": "eKbq4esyvg_i",
        "colab_type": "code",
        "outputId": "8b267e39-7952-40ff-9d05-5de3f5218cba",
        "colab": {
          "base_uri": "https://localhost:8080/",
          "height": 439
        }
      },
      "source": [
        "valid = test[test['day_int'] > 1913]\n",
        "evalue = valid[valid['day_int'] > 1941]\n",
        "valid = valid[valid['day_int'] <= 1941]\n",
        "\n",
        "valid"
      ],
      "execution_count": 0,
      "outputs": [
        {
          "output_type": "execute_result",
          "data": {
            "text/html": [
              "<div>\n",
              "<style scoped>\n",
              "    .dataframe tbody tr th:only-of-type {\n",
              "        vertical-align: middle;\n",
              "    }\n",
              "\n",
              "    .dataframe tbody tr th {\n",
              "        vertical-align: top;\n",
              "    }\n",
              "\n",
              "    .dataframe thead th {\n",
              "        text-align: right;\n",
              "    }\n",
              "</style>\n",
              "<table border=\"1\" class=\"dataframe\">\n",
              "  <thead>\n",
              "    <tr style=\"text-align: right;\">\n",
              "      <th></th>\n",
              "      <th>item_id</th>\n",
              "      <th>dept_id</th>\n",
              "      <th>cat_id</th>\n",
              "      <th>store_id</th>\n",
              "      <th>state_id</th>\n",
              "      <th>wday</th>\n",
              "      <th>month</th>\n",
              "      <th>event_name_1</th>\n",
              "      <th>event_type_1</th>\n",
              "      <th>event_name_2</th>\n",
              "      <th>event_type_2</th>\n",
              "      <th>snap_CA</th>\n",
              "      <th>snap_TX</th>\n",
              "      <th>snap_WI</th>\n",
              "      <th>sell_price</th>\n",
              "      <th>demand</th>\n",
              "      <th>day_int</th>\n",
              "      <th>item_id_int</th>\n",
              "    </tr>\n",
              "  </thead>\n",
              "  <tbody>\n",
              "    <tr>\n",
              "      <th>10397090</th>\n",
              "      <td>HOBBIES_1_001</td>\n",
              "      <td>1</td>\n",
              "      <td>2</td>\n",
              "      <td>1</td>\n",
              "      <td>1</td>\n",
              "      <td>3</td>\n",
              "      <td>4</td>\n",
              "      <td>31</td>\n",
              "      <td>5</td>\n",
              "      <td>2</td>\n",
              "      <td>2</td>\n",
              "      <td>0</td>\n",
              "      <td>0</td>\n",
              "      <td>0</td>\n",
              "      <td>8.38</td>\n",
              "      <td>0.0</td>\n",
              "      <td>1914</td>\n",
              "      <td>1</td>\n",
              "    </tr>\n",
              "    <tr>\n",
              "      <th>10397091</th>\n",
              "      <td>HOBBIES_1_002</td>\n",
              "      <td>1</td>\n",
              "      <td>2</td>\n",
              "      <td>1</td>\n",
              "      <td>1</td>\n",
              "      <td>3</td>\n",
              "      <td>4</td>\n",
              "      <td>31</td>\n",
              "      <td>5</td>\n",
              "      <td>2</td>\n",
              "      <td>2</td>\n",
              "      <td>0</td>\n",
              "      <td>0</td>\n",
              "      <td>0</td>\n",
              "      <td>3.97</td>\n",
              "      <td>0.0</td>\n",
              "      <td>1914</td>\n",
              "      <td>2</td>\n",
              "    </tr>\n",
              "    <tr>\n",
              "      <th>10397092</th>\n",
              "      <td>HOBBIES_1_003</td>\n",
              "      <td>1</td>\n",
              "      <td>2</td>\n",
              "      <td>1</td>\n",
              "      <td>1</td>\n",
              "      <td>3</td>\n",
              "      <td>4</td>\n",
              "      <td>31</td>\n",
              "      <td>5</td>\n",
              "      <td>2</td>\n",
              "      <td>2</td>\n",
              "      <td>0</td>\n",
              "      <td>0</td>\n",
              "      <td>0</td>\n",
              "      <td>2.97</td>\n",
              "      <td>0.0</td>\n",
              "      <td>1914</td>\n",
              "      <td>3</td>\n",
              "    </tr>\n",
              "    <tr>\n",
              "      <th>10397093</th>\n",
              "      <td>HOBBIES_1_004</td>\n",
              "      <td>1</td>\n",
              "      <td>2</td>\n",
              "      <td>1</td>\n",
              "      <td>1</td>\n",
              "      <td>3</td>\n",
              "      <td>4</td>\n",
              "      <td>31</td>\n",
              "      <td>5</td>\n",
              "      <td>2</td>\n",
              "      <td>2</td>\n",
              "      <td>0</td>\n",
              "      <td>0</td>\n",
              "      <td>0</td>\n",
              "      <td>4.64</td>\n",
              "      <td>0.0</td>\n",
              "      <td>1914</td>\n",
              "      <td>4</td>\n",
              "    </tr>\n",
              "    <tr>\n",
              "      <th>10397094</th>\n",
              "      <td>HOBBIES_1_005</td>\n",
              "      <td>1</td>\n",
              "      <td>2</td>\n",
              "      <td>1</td>\n",
              "      <td>1</td>\n",
              "      <td>3</td>\n",
              "      <td>4</td>\n",
              "      <td>31</td>\n",
              "      <td>5</td>\n",
              "      <td>2</td>\n",
              "      <td>2</td>\n",
              "      <td>0</td>\n",
              "      <td>0</td>\n",
              "      <td>0</td>\n",
              "      <td>2.88</td>\n",
              "      <td>0.0</td>\n",
              "      <td>1914</td>\n",
              "      <td>5</td>\n",
              "    </tr>\n",
              "    <tr>\n",
              "      <th>...</th>\n",
              "      <td>...</td>\n",
              "      <td>...</td>\n",
              "      <td>...</td>\n",
              "      <td>...</td>\n",
              "      <td>...</td>\n",
              "      <td>...</td>\n",
              "      <td>...</td>\n",
              "      <td>...</td>\n",
              "      <td>...</td>\n",
              "      <td>...</td>\n",
              "      <td>...</td>\n",
              "      <td>...</td>\n",
              "      <td>...</td>\n",
              "      <td>...</td>\n",
              "      <td>...</td>\n",
              "      <td>...</td>\n",
              "      <td>...</td>\n",
              "      <td>...</td>\n",
              "    </tr>\n",
              "    <tr>\n",
              "      <th>11250805</th>\n",
              "      <td>FOODS_3_823</td>\n",
              "      <td>3</td>\n",
              "      <td>1</td>\n",
              "      <td>3</td>\n",
              "      <td>3</td>\n",
              "      <td>2</td>\n",
              "      <td>5</td>\n",
              "      <td>31</td>\n",
              "      <td>5</td>\n",
              "      <td>2</td>\n",
              "      <td>2</td>\n",
              "      <td>0</td>\n",
              "      <td>0</td>\n",
              "      <td>0</td>\n",
              "      <td>2.98</td>\n",
              "      <td>0.0</td>\n",
              "      <td>1941</td>\n",
              "      <td>823</td>\n",
              "    </tr>\n",
              "    <tr>\n",
              "      <th>11250806</th>\n",
              "      <td>FOODS_3_824</td>\n",
              "      <td>3</td>\n",
              "      <td>1</td>\n",
              "      <td>3</td>\n",
              "      <td>3</td>\n",
              "      <td>2</td>\n",
              "      <td>5</td>\n",
              "      <td>31</td>\n",
              "      <td>5</td>\n",
              "      <td>2</td>\n",
              "      <td>2</td>\n",
              "      <td>0</td>\n",
              "      <td>0</td>\n",
              "      <td>0</td>\n",
              "      <td>2.48</td>\n",
              "      <td>0.0</td>\n",
              "      <td>1941</td>\n",
              "      <td>824</td>\n",
              "    </tr>\n",
              "    <tr>\n",
              "      <th>11250807</th>\n",
              "      <td>FOODS_3_825</td>\n",
              "      <td>3</td>\n",
              "      <td>1</td>\n",
              "      <td>3</td>\n",
              "      <td>3</td>\n",
              "      <td>2</td>\n",
              "      <td>5</td>\n",
              "      <td>31</td>\n",
              "      <td>5</td>\n",
              "      <td>2</td>\n",
              "      <td>2</td>\n",
              "      <td>0</td>\n",
              "      <td>0</td>\n",
              "      <td>0</td>\n",
              "      <td>3.98</td>\n",
              "      <td>0.0</td>\n",
              "      <td>1941</td>\n",
              "      <td>825</td>\n",
              "    </tr>\n",
              "    <tr>\n",
              "      <th>11250808</th>\n",
              "      <td>FOODS_3_826</td>\n",
              "      <td>3</td>\n",
              "      <td>1</td>\n",
              "      <td>3</td>\n",
              "      <td>3</td>\n",
              "      <td>2</td>\n",
              "      <td>5</td>\n",
              "      <td>31</td>\n",
              "      <td>5</td>\n",
              "      <td>2</td>\n",
              "      <td>2</td>\n",
              "      <td>0</td>\n",
              "      <td>0</td>\n",
              "      <td>0</td>\n",
              "      <td>1.28</td>\n",
              "      <td>0.0</td>\n",
              "      <td>1941</td>\n",
              "      <td>826</td>\n",
              "    </tr>\n",
              "    <tr>\n",
              "      <th>11250809</th>\n",
              "      <td>FOODS_3_827</td>\n",
              "      <td>3</td>\n",
              "      <td>1</td>\n",
              "      <td>3</td>\n",
              "      <td>3</td>\n",
              "      <td>2</td>\n",
              "      <td>5</td>\n",
              "      <td>31</td>\n",
              "      <td>5</td>\n",
              "      <td>2</td>\n",
              "      <td>2</td>\n",
              "      <td>0</td>\n",
              "      <td>0</td>\n",
              "      <td>0</td>\n",
              "      <td>1.00</td>\n",
              "      <td>0.0</td>\n",
              "      <td>1941</td>\n",
              "      <td>827</td>\n",
              "    </tr>\n",
              "  </tbody>\n",
              "</table>\n",
              "<p>853720 rows × 18 columns</p>\n",
              "</div>"
            ],
            "text/plain": [
              "                item_id  dept_id  cat_id  ...  demand  day_int  item_id_int\n",
              "10397090  HOBBIES_1_001        1       2  ...     0.0     1914            1\n",
              "10397091  HOBBIES_1_002        1       2  ...     0.0     1914            2\n",
              "10397092  HOBBIES_1_003        1       2  ...     0.0     1914            3\n",
              "10397093  HOBBIES_1_004        1       2  ...     0.0     1914            4\n",
              "10397094  HOBBIES_1_005        1       2  ...     0.0     1914            5\n",
              "...                 ...      ...     ...  ...     ...      ...          ...\n",
              "11250805    FOODS_3_823        3       1  ...     0.0     1941          823\n",
              "11250806    FOODS_3_824        3       1  ...     0.0     1941          824\n",
              "11250807    FOODS_3_825        3       1  ...     0.0     1941          825\n",
              "11250808    FOODS_3_826        3       1  ...     0.0     1941          826\n",
              "11250809    FOODS_3_827        3       1  ...     0.0     1941          827\n",
              "\n",
              "[853720 rows x 18 columns]"
            ]
          },
          "metadata": {
            "tags": []
          },
          "execution_count": 132
        }
      ]
    },
    {
      "cell_type": "code",
      "metadata": {
        "id": "Nfsc7-Z-BXeS",
        "colab_type": "code",
        "outputId": "59c227f6-c9a0-413c-e632-bca41e9ef532",
        "colab": {
          "base_uri": "https://localhost:8080/",
          "height": 439
        }
      },
      "source": [
        "evalue"
      ],
      "execution_count": 0,
      "outputs": [
        {
          "output_type": "execute_result",
          "data": {
            "text/html": [
              "<div>\n",
              "<style scoped>\n",
              "    .dataframe tbody tr th:only-of-type {\n",
              "        vertical-align: middle;\n",
              "    }\n",
              "\n",
              "    .dataframe tbody tr th {\n",
              "        vertical-align: top;\n",
              "    }\n",
              "\n",
              "    .dataframe thead th {\n",
              "        text-align: right;\n",
              "    }\n",
              "</style>\n",
              "<table border=\"1\" class=\"dataframe\">\n",
              "  <thead>\n",
              "    <tr style=\"text-align: right;\">\n",
              "      <th></th>\n",
              "      <th>item_id</th>\n",
              "      <th>dept_id</th>\n",
              "      <th>cat_id</th>\n",
              "      <th>store_id</th>\n",
              "      <th>state_id</th>\n",
              "      <th>wday</th>\n",
              "      <th>month</th>\n",
              "      <th>event_name_1</th>\n",
              "      <th>event_type_1</th>\n",
              "      <th>event_name_2</th>\n",
              "      <th>event_type_2</th>\n",
              "      <th>snap_CA</th>\n",
              "      <th>snap_TX</th>\n",
              "      <th>snap_WI</th>\n",
              "      <th>sell_price</th>\n",
              "      <th>demand</th>\n",
              "      <th>day_int</th>\n",
              "      <th>item_id_int</th>\n",
              "    </tr>\n",
              "  </thead>\n",
              "  <tbody>\n",
              "    <tr>\n",
              "      <th>11250810</th>\n",
              "      <td>HOBBIES_1_001</td>\n",
              "      <td>1</td>\n",
              "      <td>2</td>\n",
              "      <td>1</td>\n",
              "      <td>1</td>\n",
              "      <td>3</td>\n",
              "      <td>5</td>\n",
              "      <td>31</td>\n",
              "      <td>5</td>\n",
              "      <td>2</td>\n",
              "      <td>2</td>\n",
              "      <td>0</td>\n",
              "      <td>0</td>\n",
              "      <td>0</td>\n",
              "      <td>8.38</td>\n",
              "      <td>0.0</td>\n",
              "      <td>1942</td>\n",
              "      <td>1</td>\n",
              "    </tr>\n",
              "    <tr>\n",
              "      <th>11250811</th>\n",
              "      <td>HOBBIES_1_002</td>\n",
              "      <td>1</td>\n",
              "      <td>2</td>\n",
              "      <td>1</td>\n",
              "      <td>1</td>\n",
              "      <td>3</td>\n",
              "      <td>5</td>\n",
              "      <td>31</td>\n",
              "      <td>5</td>\n",
              "      <td>2</td>\n",
              "      <td>2</td>\n",
              "      <td>0</td>\n",
              "      <td>0</td>\n",
              "      <td>0</td>\n",
              "      <td>3.97</td>\n",
              "      <td>0.0</td>\n",
              "      <td>1942</td>\n",
              "      <td>2</td>\n",
              "    </tr>\n",
              "    <tr>\n",
              "      <th>11250812</th>\n",
              "      <td>HOBBIES_1_003</td>\n",
              "      <td>1</td>\n",
              "      <td>2</td>\n",
              "      <td>1</td>\n",
              "      <td>1</td>\n",
              "      <td>3</td>\n",
              "      <td>5</td>\n",
              "      <td>31</td>\n",
              "      <td>5</td>\n",
              "      <td>2</td>\n",
              "      <td>2</td>\n",
              "      <td>0</td>\n",
              "      <td>0</td>\n",
              "      <td>0</td>\n",
              "      <td>2.97</td>\n",
              "      <td>0.0</td>\n",
              "      <td>1942</td>\n",
              "      <td>3</td>\n",
              "    </tr>\n",
              "    <tr>\n",
              "      <th>11250813</th>\n",
              "      <td>HOBBIES_1_004</td>\n",
              "      <td>1</td>\n",
              "      <td>2</td>\n",
              "      <td>1</td>\n",
              "      <td>1</td>\n",
              "      <td>3</td>\n",
              "      <td>5</td>\n",
              "      <td>31</td>\n",
              "      <td>5</td>\n",
              "      <td>2</td>\n",
              "      <td>2</td>\n",
              "      <td>0</td>\n",
              "      <td>0</td>\n",
              "      <td>0</td>\n",
              "      <td>4.64</td>\n",
              "      <td>0.0</td>\n",
              "      <td>1942</td>\n",
              "      <td>4</td>\n",
              "    </tr>\n",
              "    <tr>\n",
              "      <th>11250814</th>\n",
              "      <td>HOBBIES_1_005</td>\n",
              "      <td>1</td>\n",
              "      <td>2</td>\n",
              "      <td>1</td>\n",
              "      <td>1</td>\n",
              "      <td>3</td>\n",
              "      <td>5</td>\n",
              "      <td>31</td>\n",
              "      <td>5</td>\n",
              "      <td>2</td>\n",
              "      <td>2</td>\n",
              "      <td>0</td>\n",
              "      <td>0</td>\n",
              "      <td>0</td>\n",
              "      <td>2.88</td>\n",
              "      <td>0.0</td>\n",
              "      <td>1942</td>\n",
              "      <td>5</td>\n",
              "    </tr>\n",
              "    <tr>\n",
              "      <th>...</th>\n",
              "      <td>...</td>\n",
              "      <td>...</td>\n",
              "      <td>...</td>\n",
              "      <td>...</td>\n",
              "      <td>...</td>\n",
              "      <td>...</td>\n",
              "      <td>...</td>\n",
              "      <td>...</td>\n",
              "      <td>...</td>\n",
              "      <td>...</td>\n",
              "      <td>...</td>\n",
              "      <td>...</td>\n",
              "      <td>...</td>\n",
              "      <td>...</td>\n",
              "      <td>...</td>\n",
              "      <td>...</td>\n",
              "      <td>...</td>\n",
              "      <td>...</td>\n",
              "    </tr>\n",
              "    <tr>\n",
              "      <th>12104525</th>\n",
              "      <td>FOODS_3_823</td>\n",
              "      <td>3</td>\n",
              "      <td>1</td>\n",
              "      <td>3</td>\n",
              "      <td>3</td>\n",
              "      <td>2</td>\n",
              "      <td>6</td>\n",
              "      <td>17</td>\n",
              "      <td>4</td>\n",
              "      <td>1</td>\n",
              "      <td>1</td>\n",
              "      <td>0</td>\n",
              "      <td>0</td>\n",
              "      <td>0</td>\n",
              "      <td>2.98</td>\n",
              "      <td>0.0</td>\n",
              "      <td>1969</td>\n",
              "      <td>823</td>\n",
              "    </tr>\n",
              "    <tr>\n",
              "      <th>12104526</th>\n",
              "      <td>FOODS_3_824</td>\n",
              "      <td>3</td>\n",
              "      <td>1</td>\n",
              "      <td>3</td>\n",
              "      <td>3</td>\n",
              "      <td>2</td>\n",
              "      <td>6</td>\n",
              "      <td>17</td>\n",
              "      <td>4</td>\n",
              "      <td>1</td>\n",
              "      <td>1</td>\n",
              "      <td>0</td>\n",
              "      <td>0</td>\n",
              "      <td>0</td>\n",
              "      <td>2.48</td>\n",
              "      <td>0.0</td>\n",
              "      <td>1969</td>\n",
              "      <td>824</td>\n",
              "    </tr>\n",
              "    <tr>\n",
              "      <th>12104527</th>\n",
              "      <td>FOODS_3_825</td>\n",
              "      <td>3</td>\n",
              "      <td>1</td>\n",
              "      <td>3</td>\n",
              "      <td>3</td>\n",
              "      <td>2</td>\n",
              "      <td>6</td>\n",
              "      <td>17</td>\n",
              "      <td>4</td>\n",
              "      <td>1</td>\n",
              "      <td>1</td>\n",
              "      <td>0</td>\n",
              "      <td>0</td>\n",
              "      <td>0</td>\n",
              "      <td>3.98</td>\n",
              "      <td>0.0</td>\n",
              "      <td>1969</td>\n",
              "      <td>825</td>\n",
              "    </tr>\n",
              "    <tr>\n",
              "      <th>12104528</th>\n",
              "      <td>FOODS_3_826</td>\n",
              "      <td>3</td>\n",
              "      <td>1</td>\n",
              "      <td>3</td>\n",
              "      <td>3</td>\n",
              "      <td>2</td>\n",
              "      <td>6</td>\n",
              "      <td>17</td>\n",
              "      <td>4</td>\n",
              "      <td>1</td>\n",
              "      <td>1</td>\n",
              "      <td>0</td>\n",
              "      <td>0</td>\n",
              "      <td>0</td>\n",
              "      <td>1.28</td>\n",
              "      <td>0.0</td>\n",
              "      <td>1969</td>\n",
              "      <td>826</td>\n",
              "    </tr>\n",
              "    <tr>\n",
              "      <th>12104529</th>\n",
              "      <td>FOODS_3_827</td>\n",
              "      <td>3</td>\n",
              "      <td>1</td>\n",
              "      <td>3</td>\n",
              "      <td>3</td>\n",
              "      <td>2</td>\n",
              "      <td>6</td>\n",
              "      <td>17</td>\n",
              "      <td>4</td>\n",
              "      <td>1</td>\n",
              "      <td>1</td>\n",
              "      <td>0</td>\n",
              "      <td>0</td>\n",
              "      <td>0</td>\n",
              "      <td>1.00</td>\n",
              "      <td>0.0</td>\n",
              "      <td>1969</td>\n",
              "      <td>827</td>\n",
              "    </tr>\n",
              "  </tbody>\n",
              "</table>\n",
              "<p>853720 rows × 18 columns</p>\n",
              "</div>"
            ],
            "text/plain": [
              "                item_id  dept_id  cat_id  ...  demand  day_int  item_id_int\n",
              "11250810  HOBBIES_1_001        1       2  ...     0.0     1942            1\n",
              "11250811  HOBBIES_1_002        1       2  ...     0.0     1942            2\n",
              "11250812  HOBBIES_1_003        1       2  ...     0.0     1942            3\n",
              "11250813  HOBBIES_1_004        1       2  ...     0.0     1942            4\n",
              "11250814  HOBBIES_1_005        1       2  ...     0.0     1942            5\n",
              "...                 ...      ...     ...  ...     ...      ...          ...\n",
              "12104525    FOODS_3_823        3       1  ...     0.0     1969          823\n",
              "12104526    FOODS_3_824        3       1  ...     0.0     1969          824\n",
              "12104527    FOODS_3_825        3       1  ...     0.0     1969          825\n",
              "12104528    FOODS_3_826        3       1  ...     0.0     1969          826\n",
              "12104529    FOODS_3_827        3       1  ...     0.0     1969          827\n",
              "\n",
              "[853720 rows x 18 columns]"
            ]
          },
          "metadata": {
            "tags": []
          },
          "execution_count": 133
        }
      ]
    },
    {
      "cell_type": "code",
      "metadata": {
        "id": "Xjtqvl6YxATJ",
        "colab_type": "code",
        "colab": {}
      },
      "source": [
        "test = test[test['day_int'] <= 1913]"
      ],
      "execution_count": 0,
      "outputs": []
    },
    {
      "cell_type": "code",
      "metadata": {
        "id": "LaI5zRl3w4sM",
        "colab_type": "code",
        "outputId": "b42df880-438d-4b13-9790-e98e29596234",
        "colab": {
          "base_uri": "https://localhost:8080/",
          "height": 34
        }
      },
      "source": [
        "1941 - 1913"
      ],
      "execution_count": 0,
      "outputs": [
        {
          "output_type": "execute_result",
          "data": {
            "text/plain": [
              "28"
            ]
          },
          "metadata": {
            "tags": []
          },
          "execution_count": 135
        }
      ]
    },
    {
      "cell_type": "code",
      "metadata": {
        "id": "uefzdylK5Yhv",
        "colab_type": "code",
        "colab": {}
      },
      "source": [
        "train_X = train.drop(columns=['demand'])\n",
        "train_y = train['demand']\n",
        "\n",
        "test_X = test.drop(columns=['demand'])\n",
        "test_y = test['demand']"
      ],
      "execution_count": 0,
      "outputs": []
    },
    {
      "cell_type": "code",
      "metadata": {
        "id": "T4RNY9L25ZiR",
        "colab_type": "code",
        "colab": {}
      },
      "source": [
        "# train_X"
      ],
      "execution_count": 0,
      "outputs": []
    },
    {
      "cell_type": "code",
      "metadata": {
        "id": "e7-vbU0C7-wa",
        "colab_type": "code",
        "outputId": "a06d0c35-bca3-48a6-bc2e-465de51e056e",
        "colab": {
          "base_uri": "https://localhost:8080/",
          "height": 221
        }
      },
      "source": [
        "train_y"
      ],
      "execution_count": 0,
      "outputs": [
        {
          "output_type": "execute_result",
          "data": {
            "text/plain": [
              "0          0.0\n",
              "1          0.0\n",
              "2          0.0\n",
              "3          0.0\n",
              "4          0.0\n",
              "          ... \n",
              "9451895    0.0\n",
              "9451896    0.0\n",
              "9451897    0.0\n",
              "9451898    1.0\n",
              "9451899    3.0\n",
              "Name: demand, Length: 9451900, dtype: float64"
            ]
          },
          "metadata": {
            "tags": []
          },
          "execution_count": 138
        }
      ]
    },
    {
      "cell_type": "code",
      "metadata": {
        "id": "phdFgsFUlpOy",
        "colab_type": "code",
        "colab": {}
      },
      "source": [
        "train_X.to_csv(\"train_X.csv\", index=False)\n",
        "train_y.to_csv(\"train_y.csv\", index=False)\n",
        "test_X.to_csv(\"test_X.csv\", index=False)\n",
        "test_y.to_csv(\"test_y.csv\", index=False)"
      ],
      "execution_count": 0,
      "outputs": []
    },
    {
      "cell_type": "markdown",
      "metadata": {
        "id": "SE5laa0-2TsE",
        "colab_type": "text"
      },
      "source": [
        "# Loading dataset"
      ]
    },
    {
      "cell_type": "code",
      "metadata": {
        "id": "7hgqxegA9P6m",
        "colab_type": "code",
        "outputId": "5f32ccea-6fa1-452b-f866-4f68d31de8db",
        "colab": {
          "base_uri": "https://localhost:8080/",
          "height": 122
        }
      },
      "source": [
        "from google.colab import drive\n",
        "drive.mount('/content/gdrive')"
      ],
      "execution_count": 0,
      "outputs": [
        {
          "output_type": "stream",
          "text": [
            "Go to this URL in a browser: https://accounts.google.com/o/oauth2/auth?client_id=947318989803-6bn6qk8qdgf4n4g3pfee6491hc0brc4i.apps.googleusercontent.com&redirect_uri=urn%3aietf%3awg%3aoauth%3a2.0%3aoob&response_type=code&scope=email%20https%3a%2f%2fwww.googleapis.com%2fauth%2fdocs.test%20https%3a%2f%2fwww.googleapis.com%2fauth%2fdrive%20https%3a%2f%2fwww.googleapis.com%2fauth%2fdrive.photos.readonly%20https%3a%2f%2fwww.googleapis.com%2fauth%2fpeopleapi.readonly\n",
            "\n",
            "Enter your authorization code:\n",
            "··········\n",
            "Mounted at /content/gdrive\n"
          ],
          "name": "stdout"
        }
      ]
    },
    {
      "cell_type": "code",
      "metadata": {
        "id": "yQuBeiHV1QH8",
        "colab_type": "code",
        "colab": {}
      },
      "source": [
        "import zipfile\n",
        "zip_ref = zipfile.ZipFile(\"/content/gdrive/My Drive/train_test_data.zip\", 'r')\n",
        "zip_ref.extractall()\n",
        "zip_ref.close()"
      ],
      "execution_count": 0,
      "outputs": []
    },
    {
      "cell_type": "code",
      "metadata": {
        "id": "DAcIcyJL2xiA",
        "colab_type": "code",
        "colab": {}
      },
      "source": [
        "import pandas as pd\n",
        "import numpy as np"
      ],
      "execution_count": 0,
      "outputs": []
    },
    {
      "cell_type": "code",
      "metadata": {
        "id": "lykG3tuS2mC-",
        "colab_type": "code",
        "colab": {}
      },
      "source": [
        "train_X = pd.read_csv(\"train_X.csv\")\n",
        "train_y = pd.read_csv(\"train_y.csv\")"
      ],
      "execution_count": 0,
      "outputs": []
    },
    {
      "cell_type": "code",
      "metadata": {
        "id": "GHCSyH-C-6mD",
        "colab_type": "code",
        "colab": {}
      },
      "source": [
        "test_X = pd.read_csv(\"test_X.csv\")\n",
        "test_y = pd.read_csv(\"test_y.csv\")"
      ],
      "execution_count": 0,
      "outputs": []
    },
    {
      "cell_type": "code",
      "metadata": {
        "id": "ZQCxudGW20X6",
        "colab_type": "code",
        "outputId": "af35267b-b36e-4a20-865a-a49750caa395",
        "colab": {
          "base_uri": "https://localhost:8080/",
          "height": 34
        }
      },
      "source": [
        "train_X.shape"
      ],
      "execution_count": 0,
      "outputs": [
        {
          "output_type": "execute_result",
          "data": {
            "text/plain": [
              "(9451900, 16)"
            ]
          },
          "metadata": {
            "tags": []
          },
          "execution_count": 8
        }
      ]
    },
    {
      "cell_type": "code",
      "metadata": {
        "id": "tZQgb37UBiw2",
        "colab_type": "code",
        "outputId": "c0a2aea9-1041-49a1-e3a7-ded8403a7ee9",
        "colab": {
          "base_uri": "https://localhost:8080/",
          "height": 408
        }
      },
      "source": [
        "train_X.info()"
      ],
      "execution_count": 0,
      "outputs": [
        {
          "output_type": "stream",
          "text": [
            "<class 'pandas.core.frame.DataFrame'>\n",
            "RangeIndex: 9451900 entries, 0 to 9451899\n",
            "Data columns (total 16 columns):\n",
            " #   Column        Dtype  \n",
            "---  ------        -----  \n",
            " 0   item_id       int64  \n",
            " 1   dept_id       int64  \n",
            " 2   cat_id        int64  \n",
            " 3   store_id      int64  \n",
            " 4   state_id      int64  \n",
            " 5   wday          int64  \n",
            " 6   month         int64  \n",
            " 7   event_name_1  int64  \n",
            " 8   event_type_1  int64  \n",
            " 9   event_name_2  int64  \n",
            " 10  event_type_2  int64  \n",
            " 11  snap_CA       int64  \n",
            " 12  snap_TX       int64  \n",
            " 13  snap_WI       int64  \n",
            " 14  sell_price    float64\n",
            " 15  day_int       int64  \n",
            "dtypes: float64(1), int64(15)\n",
            "memory usage: 1.1 GB\n"
          ],
          "name": "stdout"
        }
      ]
    },
    {
      "cell_type": "code",
      "metadata": {
        "id": "pRGQrbMYkYhF",
        "colab_type": "code",
        "outputId": "76a915af-4f58-480f-fafa-b0e0ff2e8ab7",
        "colab": {
          "base_uri": "https://localhost:8080/",
          "height": 419
        }
      },
      "source": [
        "train_y"
      ],
      "execution_count": 0,
      "outputs": [
        {
          "output_type": "execute_result",
          "data": {
            "text/html": [
              "<div>\n",
              "<style scoped>\n",
              "    .dataframe tbody tr th:only-of-type {\n",
              "        vertical-align: middle;\n",
              "    }\n",
              "\n",
              "    .dataframe tbody tr th {\n",
              "        vertical-align: top;\n",
              "    }\n",
              "\n",
              "    .dataframe thead th {\n",
              "        text-align: right;\n",
              "    }\n",
              "</style>\n",
              "<table border=\"1\" class=\"dataframe\">\n",
              "  <thead>\n",
              "    <tr style=\"text-align: right;\">\n",
              "      <th></th>\n",
              "      <th>demand</th>\n",
              "    </tr>\n",
              "  </thead>\n",
              "  <tbody>\n",
              "    <tr>\n",
              "      <th>0</th>\n",
              "      <td>0</td>\n",
              "    </tr>\n",
              "    <tr>\n",
              "      <th>1</th>\n",
              "      <td>0</td>\n",
              "    </tr>\n",
              "    <tr>\n",
              "      <th>2</th>\n",
              "      <td>0</td>\n",
              "    </tr>\n",
              "    <tr>\n",
              "      <th>3</th>\n",
              "      <td>0</td>\n",
              "    </tr>\n",
              "    <tr>\n",
              "      <th>4</th>\n",
              "      <td>0</td>\n",
              "    </tr>\n",
              "    <tr>\n",
              "      <th>...</th>\n",
              "      <td>...</td>\n",
              "    </tr>\n",
              "    <tr>\n",
              "      <th>9451895</th>\n",
              "      <td>0</td>\n",
              "    </tr>\n",
              "    <tr>\n",
              "      <th>9451896</th>\n",
              "      <td>0</td>\n",
              "    </tr>\n",
              "    <tr>\n",
              "      <th>9451897</th>\n",
              "      <td>0</td>\n",
              "    </tr>\n",
              "    <tr>\n",
              "      <th>9451898</th>\n",
              "      <td>1</td>\n",
              "    </tr>\n",
              "    <tr>\n",
              "      <th>9451899</th>\n",
              "      <td>3</td>\n",
              "    </tr>\n",
              "  </tbody>\n",
              "</table>\n",
              "<p>9451900 rows × 1 columns</p>\n",
              "</div>"
            ],
            "text/plain": [
              "         demand\n",
              "0             0\n",
              "1             0\n",
              "2             0\n",
              "3             0\n",
              "4             0\n",
              "...         ...\n",
              "9451895       0\n",
              "9451896       0\n",
              "9451897       0\n",
              "9451898       1\n",
              "9451899       3\n",
              "\n",
              "[9451900 rows x 1 columns]"
            ]
          },
          "metadata": {
            "tags": []
          },
          "execution_count": 10
        }
      ]
    },
    {
      "cell_type": "markdown",
      "metadata": {
        "id": "5GxuJiLSlpZp",
        "colab_type": "text"
      },
      "source": [
        "# Defining model"
      ]
    },
    {
      "cell_type": "code",
      "metadata": {
        "id": "z-rXgCKBtS0L",
        "colab_type": "code",
        "colab": {}
      },
      "source": [
        "from sklearn.metrics import mean_squared_error"
      ],
      "execution_count": 0,
      "outputs": []
    },
    {
      "cell_type": "markdown",
      "metadata": {
        "id": "3GE_Vl-kegn5",
        "colab_type": "text"
      },
      "source": [
        "## Decision Tree Regressor"
      ]
    },
    {
      "cell_type": "code",
      "metadata": {
        "id": "kKQwdz77fEvE",
        "colab_type": "code",
        "colab": {}
      },
      "source": [
        "from sklearn.model_selection import GridSearchCV\n",
        "\n",
        "params = {\"max_depth\": [20, 30, 40]}"
      ],
      "execution_count": 0,
      "outputs": []
    },
    {
      "cell_type": "code",
      "metadata": {
        "id": "qBwo0PcSdphx",
        "colab_type": "code",
        "colab": {}
      },
      "source": [
        "from sklearn.tree import DecisionTreeRegressor\n",
        "\n",
        "dt = DecisionTreeRegressor()\n",
        "\n",
        "dtr = GridSearchCV(dt, params)"
      ],
      "execution_count": 0,
      "outputs": []
    },
    {
      "cell_type": "code",
      "metadata": {
        "id": "OVKHUAbjd4w8",
        "colab_type": "code",
        "outputId": "440f1f6a-ea33-4c6f-871c-867d0ae40f4d",
        "colab": {
          "base_uri": "https://localhost:8080/",
          "height": 272
        }
      },
      "source": [
        "dtr.fit(train_X, train_y)"
      ],
      "execution_count": 0,
      "outputs": [
        {
          "output_type": "execute_result",
          "data": {
            "text/plain": [
              "GridSearchCV(cv=None, error_score=nan,\n",
              "             estimator=DecisionTreeRegressor(ccp_alpha=0.0, criterion='mse',\n",
              "                                             max_depth=None, max_features=None,\n",
              "                                             max_leaf_nodes=None,\n",
              "                                             min_impurity_decrease=0.0,\n",
              "                                             min_impurity_split=None,\n",
              "                                             min_samples_leaf=1,\n",
              "                                             min_samples_split=2,\n",
              "                                             min_weight_fraction_leaf=0.0,\n",
              "                                             presort='deprecated',\n",
              "                                             random_state=None,\n",
              "                                             splitter='best'),\n",
              "             iid='deprecated', n_jobs=None,\n",
              "             param_grid={'max_depth': [20, 30, 40]}, pre_dispatch='2*n_jobs',\n",
              "             refit=True, return_train_score=False, scoring=None, verbose=0)"
            ]
          },
          "metadata": {
            "tags": []
          },
          "execution_count": 115
        }
      ]
    },
    {
      "cell_type": "code",
      "metadata": {
        "id": "zcuTqeBAjkRy",
        "colab_type": "code",
        "outputId": "98bf5bfc-bb61-42b6-fc7f-fc3bdae72f1f",
        "colab": {
          "base_uri": "https://localhost:8080/",
          "height": 272
        }
      },
      "source": [
        "dtr"
      ],
      "execution_count": 0,
      "outputs": [
        {
          "output_type": "execute_result",
          "data": {
            "text/plain": [
              "GridSearchCV(cv=None, error_score=nan,\n",
              "             estimator=DecisionTreeRegressor(ccp_alpha=0.0, criterion='mse',\n",
              "                                             max_depth=None, max_features=None,\n",
              "                                             max_leaf_nodes=None,\n",
              "                                             min_impurity_decrease=0.0,\n",
              "                                             min_impurity_split=None,\n",
              "                                             min_samples_leaf=1,\n",
              "                                             min_samples_split=2,\n",
              "                                             min_weight_fraction_leaf=0.0,\n",
              "                                             presort='deprecated',\n",
              "                                             random_state=None,\n",
              "                                             splitter='best'),\n",
              "             iid='deprecated', n_jobs=None,\n",
              "             param_grid={'max_depth': [20, 30, 40]}, pre_dispatch='2*n_jobs',\n",
              "             refit=True, return_train_score=False, scoring=None, verbose=0)"
            ]
          },
          "metadata": {
            "tags": []
          },
          "execution_count": 116
        }
      ]
    },
    {
      "cell_type": "code",
      "metadata": {
        "id": "sbSrjxT2jWfd",
        "colab_type": "code",
        "outputId": "9f238a2c-85e8-4034-e9df-00e2687f2777",
        "colab": {
          "base_uri": "https://localhost:8080/",
          "height": 34
        }
      },
      "source": [
        "dtr.best_score_"
      ],
      "execution_count": 0,
      "outputs": [
        {
          "output_type": "execute_result",
          "data": {
            "text/plain": [
              "0.4471290009260098"
            ]
          },
          "metadata": {
            "tags": []
          },
          "execution_count": 117
        }
      ]
    },
    {
      "cell_type": "code",
      "metadata": {
        "id": "VcIquwMvjWn3",
        "colab_type": "code",
        "colab": {}
      },
      "source": [
        "dt = dtr.best_estimator_"
      ],
      "execution_count": 0,
      "outputs": []
    },
    {
      "cell_type": "code",
      "metadata": {
        "id": "KONb7TQFd97S",
        "colab_type": "code",
        "colab": {}
      },
      "source": [
        ""
      ],
      "execution_count": 0,
      "outputs": []
    },
    {
      "cell_type": "code",
      "metadata": {
        "id": "lJGGxxeMd4zN",
        "colab_type": "code",
        "outputId": "1e6e06d7-cc35-40bd-a2cb-2dfb246f3acd",
        "colab": {
          "base_uri": "https://localhost:8080/",
          "height": 51
        }
      },
      "source": [
        "print(mean_squared_error(train_y, dt_pred_train))\n",
        "print(mean_squared_error(test_y, dt_pred_test))"
      ],
      "execution_count": 0,
      "outputs": [
        {
          "output_type": "stream",
          "text": [
            "3.457522588977114\n",
            "6.767866385758176\n"
          ],
          "name": "stdout"
        }
      ]
    },
    {
      "cell_type": "code",
      "metadata": {
        "id": "g9V9FL9dex8g",
        "colab_type": "code",
        "outputId": "e87e571c-5bf1-4ca3-8f6a-b7b3bd6e4708",
        "colab": {
          "base_uri": "https://localhost:8080/",
          "height": 34
        }
      },
      "source": [
        "dt.get_depth()"
      ],
      "execution_count": 0,
      "outputs": [
        {
          "output_type": "execute_result",
          "data": {
            "text/plain": [
              "20"
            ]
          },
          "metadata": {
            "tags": []
          },
          "execution_count": 121
        }
      ]
    },
    {
      "cell_type": "code",
      "metadata": {
        "id": "ry8fcWXBex-6",
        "colab_type": "code",
        "colab": {}
      },
      "source": [
        ""
      ],
      "execution_count": 0,
      "outputs": []
    },
    {
      "cell_type": "markdown",
      "metadata": {
        "id": "85Ig1uchdCc4",
        "colab_type": "text"
      },
      "source": [
        "## Random Forest"
      ]
    },
    {
      "cell_type": "code",
      "metadata": {
        "id": "9pj33cv6ynX8",
        "colab_type": "code",
        "colab": {}
      },
      "source": [
        "from sklearn.ensemble import RandomForestRegressor\n",
        "\n",
        "rf = RandomForestRegressor(n_estimators = 100, \n",
        "                          n_jobs = -1, \n",
        "                          random_state = 4211, \n",
        "                           max_depth = 20,\n",
        "                           verbose = 1)"
      ],
      "execution_count": 0,
      "outputs": []
    },
    {
      "cell_type": "code",
      "metadata": {
        "id": "IZJhpNJksN31",
        "colab_type": "code",
        "outputId": "aaaf15d9-066a-4816-d7af-6643a5144fd9",
        "colab": {
          "base_uri": "https://localhost:8080/",
          "height": 439
        }
      },
      "source": [
        "train_X.drop(columns=['item_id'])"
      ],
      "execution_count": 0,
      "outputs": [
        {
          "output_type": "execute_result",
          "data": {
            "text/html": [
              "<div>\n",
              "<style scoped>\n",
              "    .dataframe tbody tr th:only-of-type {\n",
              "        vertical-align: middle;\n",
              "    }\n",
              "\n",
              "    .dataframe tbody tr th {\n",
              "        vertical-align: top;\n",
              "    }\n",
              "\n",
              "    .dataframe thead th {\n",
              "        text-align: right;\n",
              "    }\n",
              "</style>\n",
              "<table border=\"1\" class=\"dataframe\">\n",
              "  <thead>\n",
              "    <tr style=\"text-align: right;\">\n",
              "      <th></th>\n",
              "      <th>dept_id</th>\n",
              "      <th>cat_id</th>\n",
              "      <th>store_id</th>\n",
              "      <th>state_id</th>\n",
              "      <th>wday</th>\n",
              "      <th>month</th>\n",
              "      <th>event_name_1</th>\n",
              "      <th>event_type_1</th>\n",
              "      <th>event_name_2</th>\n",
              "      <th>event_type_2</th>\n",
              "      <th>snap_CA</th>\n",
              "      <th>snap_TX</th>\n",
              "      <th>snap_WI</th>\n",
              "      <th>sell_price</th>\n",
              "      <th>day_int</th>\n",
              "      <th>item_id_int</th>\n",
              "    </tr>\n",
              "  </thead>\n",
              "  <tbody>\n",
              "    <tr>\n",
              "      <th>47930280</th>\n",
              "      <td>1</td>\n",
              "      <td>2</td>\n",
              "      <td>1</td>\n",
              "      <td>1</td>\n",
              "      <td>5</td>\n",
              "      <td>5</td>\n",
              "      <td>31</td>\n",
              "      <td>5</td>\n",
              "      <td>2</td>\n",
              "      <td>2</td>\n",
              "      <td>0</td>\n",
              "      <td>0</td>\n",
              "      <td>0</td>\n",
              "      <td>8.26</td>\n",
              "      <td>1573</td>\n",
              "      <td>1</td>\n",
              "    </tr>\n",
              "    <tr>\n",
              "      <th>47930281</th>\n",
              "      <td>1</td>\n",
              "      <td>2</td>\n",
              "      <td>1</td>\n",
              "      <td>1</td>\n",
              "      <td>5</td>\n",
              "      <td>5</td>\n",
              "      <td>31</td>\n",
              "      <td>5</td>\n",
              "      <td>2</td>\n",
              "      <td>2</td>\n",
              "      <td>0</td>\n",
              "      <td>0</td>\n",
              "      <td>0</td>\n",
              "      <td>3.97</td>\n",
              "      <td>1573</td>\n",
              "      <td>2</td>\n",
              "    </tr>\n",
              "    <tr>\n",
              "      <th>47930282</th>\n",
              "      <td>1</td>\n",
              "      <td>2</td>\n",
              "      <td>1</td>\n",
              "      <td>1</td>\n",
              "      <td>5</td>\n",
              "      <td>5</td>\n",
              "      <td>31</td>\n",
              "      <td>5</td>\n",
              "      <td>2</td>\n",
              "      <td>2</td>\n",
              "      <td>0</td>\n",
              "      <td>0</td>\n",
              "      <td>0</td>\n",
              "      <td>2.97</td>\n",
              "      <td>1573</td>\n",
              "      <td>3</td>\n",
              "    </tr>\n",
              "    <tr>\n",
              "      <th>47930283</th>\n",
              "      <td>1</td>\n",
              "      <td>2</td>\n",
              "      <td>1</td>\n",
              "      <td>1</td>\n",
              "      <td>5</td>\n",
              "      <td>5</td>\n",
              "      <td>31</td>\n",
              "      <td>5</td>\n",
              "      <td>2</td>\n",
              "      <td>2</td>\n",
              "      <td>0</td>\n",
              "      <td>0</td>\n",
              "      <td>0</td>\n",
              "      <td>4.64</td>\n",
              "      <td>1573</td>\n",
              "      <td>4</td>\n",
              "    </tr>\n",
              "    <tr>\n",
              "      <th>47930284</th>\n",
              "      <td>1</td>\n",
              "      <td>2</td>\n",
              "      <td>1</td>\n",
              "      <td>1</td>\n",
              "      <td>5</td>\n",
              "      <td>5</td>\n",
              "      <td>31</td>\n",
              "      <td>5</td>\n",
              "      <td>2</td>\n",
              "      <td>2</td>\n",
              "      <td>0</td>\n",
              "      <td>0</td>\n",
              "      <td>0</td>\n",
              "      <td>2.88</td>\n",
              "      <td>1573</td>\n",
              "      <td>5</td>\n",
              "    </tr>\n",
              "    <tr>\n",
              "      <th>...</th>\n",
              "      <td>...</td>\n",
              "      <td>...</td>\n",
              "      <td>...</td>\n",
              "      <td>...</td>\n",
              "      <td>...</td>\n",
              "      <td>...</td>\n",
              "      <td>...</td>\n",
              "      <td>...</td>\n",
              "      <td>...</td>\n",
              "      <td>...</td>\n",
              "      <td>...</td>\n",
              "      <td>...</td>\n",
              "      <td>...</td>\n",
              "      <td>...</td>\n",
              "      <td>...</td>\n",
              "      <td>...</td>\n",
              "    </tr>\n",
              "    <tr>\n",
              "      <th>57382175</th>\n",
              "      <td>3</td>\n",
              "      <td>1</td>\n",
              "      <td>3</td>\n",
              "      <td>3</td>\n",
              "      <td>6</td>\n",
              "      <td>3</td>\n",
              "      <td>24</td>\n",
              "      <td>3</td>\n",
              "      <td>2</td>\n",
              "      <td>2</td>\n",
              "      <td>0</td>\n",
              "      <td>0</td>\n",
              "      <td>0</td>\n",
              "      <td>2.98</td>\n",
              "      <td>1882</td>\n",
              "      <td>823</td>\n",
              "    </tr>\n",
              "    <tr>\n",
              "      <th>57382176</th>\n",
              "      <td>3</td>\n",
              "      <td>1</td>\n",
              "      <td>3</td>\n",
              "      <td>3</td>\n",
              "      <td>6</td>\n",
              "      <td>3</td>\n",
              "      <td>24</td>\n",
              "      <td>3</td>\n",
              "      <td>2</td>\n",
              "      <td>2</td>\n",
              "      <td>0</td>\n",
              "      <td>0</td>\n",
              "      <td>0</td>\n",
              "      <td>2.00</td>\n",
              "      <td>1882</td>\n",
              "      <td>824</td>\n",
              "    </tr>\n",
              "    <tr>\n",
              "      <th>57382177</th>\n",
              "      <td>3</td>\n",
              "      <td>1</td>\n",
              "      <td>3</td>\n",
              "      <td>3</td>\n",
              "      <td>6</td>\n",
              "      <td>3</td>\n",
              "      <td>24</td>\n",
              "      <td>3</td>\n",
              "      <td>2</td>\n",
              "      <td>2</td>\n",
              "      <td>0</td>\n",
              "      <td>0</td>\n",
              "      <td>0</td>\n",
              "      <td>3.98</td>\n",
              "      <td>1882</td>\n",
              "      <td>825</td>\n",
              "    </tr>\n",
              "    <tr>\n",
              "      <th>57382178</th>\n",
              "      <td>3</td>\n",
              "      <td>1</td>\n",
              "      <td>3</td>\n",
              "      <td>3</td>\n",
              "      <td>6</td>\n",
              "      <td>3</td>\n",
              "      <td>24</td>\n",
              "      <td>3</td>\n",
              "      <td>2</td>\n",
              "      <td>2</td>\n",
              "      <td>0</td>\n",
              "      <td>0</td>\n",
              "      <td>0</td>\n",
              "      <td>1.28</td>\n",
              "      <td>1882</td>\n",
              "      <td>826</td>\n",
              "    </tr>\n",
              "    <tr>\n",
              "      <th>57382179</th>\n",
              "      <td>3</td>\n",
              "      <td>1</td>\n",
              "      <td>3</td>\n",
              "      <td>3</td>\n",
              "      <td>6</td>\n",
              "      <td>3</td>\n",
              "      <td>24</td>\n",
              "      <td>3</td>\n",
              "      <td>2</td>\n",
              "      <td>2</td>\n",
              "      <td>0</td>\n",
              "      <td>0</td>\n",
              "      <td>0</td>\n",
              "      <td>1.00</td>\n",
              "      <td>1882</td>\n",
              "      <td>827</td>\n",
              "    </tr>\n",
              "  </tbody>\n",
              "</table>\n",
              "<p>9451900 rows × 16 columns</p>\n",
              "</div>"
            ],
            "text/plain": [
              "          dept_id  cat_id  store_id  ...  sell_price  day_int  item_id_int\n",
              "47930280        1       2         1  ...        8.26     1573            1\n",
              "47930281        1       2         1  ...        3.97     1573            2\n",
              "47930282        1       2         1  ...        2.97     1573            3\n",
              "47930283        1       2         1  ...        4.64     1573            4\n",
              "47930284        1       2         1  ...        2.88     1573            5\n",
              "...           ...     ...       ...  ...         ...      ...          ...\n",
              "57382175        3       1         3  ...        2.98     1882          823\n",
              "57382176        3       1         3  ...        2.00     1882          824\n",
              "57382177        3       1         3  ...        3.98     1882          825\n",
              "57382178        3       1         3  ...        1.28     1882          826\n",
              "57382179        3       1         3  ...        1.00     1882          827\n",
              "\n",
              "[9451900 rows x 16 columns]"
            ]
          },
          "metadata": {
            "tags": []
          },
          "execution_count": 75
        }
      ]
    },
    {
      "cell_type": "code",
      "metadata": {
        "id": "rTGvwwPv7_Yu",
        "colab_type": "code",
        "outputId": "3a1df844-b068-4a7d-803b-71be3cee9263",
        "colab": {
          "base_uri": "https://localhost:8080/",
          "height": 170
        }
      },
      "source": [
        "rf.fit(train_X.drop(columns=['item_id']), train_y)"
      ],
      "execution_count": 0,
      "outputs": [
        {
          "output_type": "stream",
          "text": [
            "[Parallel(n_jobs=-1)]: Using backend ThreadingBackend with 40 concurrent workers.\n",
            "[Parallel(n_jobs=-1)]: Done 100 out of 100 | elapsed:  4.8min finished\n"
          ],
          "name": "stderr"
        },
        {
          "output_type": "execute_result",
          "data": {
            "text/plain": [
              "RandomForestRegressor(bootstrap=True, ccp_alpha=0.0, criterion='mse',\n",
              "                      max_depth=20, max_features='auto', max_leaf_nodes=None,\n",
              "                      max_samples=None, min_impurity_decrease=0.0,\n",
              "                      min_impurity_split=None, min_samples_leaf=1,\n",
              "                      min_samples_split=2, min_weight_fraction_leaf=0.0,\n",
              "                      n_estimators=100, n_jobs=-1, oob_score=False,\n",
              "                      random_state=4211, verbose=1, warm_start=False)"
            ]
          },
          "metadata": {
            "tags": []
          },
          "execution_count": 48
        }
      ]
    },
    {
      "cell_type": "code",
      "metadata": {
        "id": "YKNauON9nVgN",
        "colab_type": "code",
        "outputId": "8818ea9a-1a5c-4756-9e7c-f221813ea85d",
        "colab": {
          "base_uri": "https://localhost:8080/",
          "height": 85
        }
      },
      "source": [
        "rf_pred_train = rf.predict(train_X.drop(columns=['item_id']))\n",
        "rf_pred_test = rf.predict(test_X.drop(columns=['item_id']))"
      ],
      "execution_count": 0,
      "outputs": [
        {
          "output_type": "stream",
          "text": [
            "[Parallel(n_jobs=40)]: Using backend ThreadingBackend with 40 concurrent workers.\n",
            "[Parallel(n_jobs=40)]: Done 100 out of 100 | elapsed:   10.3s finished\n",
            "[Parallel(n_jobs=40)]: Using backend ThreadingBackend with 40 concurrent workers.\n",
            "[Parallel(n_jobs=40)]: Done 100 out of 100 | elapsed:    1.0s finished\n"
          ],
          "name": "stderr"
        }
      ]
    },
    {
      "cell_type": "code",
      "metadata": {
        "id": "rpnXvewFtQ6V",
        "colab_type": "code",
        "outputId": "fbc34a12-bf8d-421e-d8aa-9a0a85c0a54e",
        "colab": {
          "base_uri": "https://localhost:8080/",
          "height": 51
        }
      },
      "source": [
        "print(mean_squared_error(train_y, rf_pred_train))\n",
        "print(mean_squared_error(test_y, rf_pred_test))"
      ],
      "execution_count": 0,
      "outputs": [
        {
          "output_type": "stream",
          "text": [
            "3.047500818538384\n",
            "5.0893634196554585\n"
          ],
          "name": "stdout"
        }
      ]
    },
    {
      "cell_type": "code",
      "metadata": {
        "id": "qrERWx_6tvIz",
        "colab_type": "code",
        "colab": {}
      },
      "source": [
        "import matplotlib.pyplot as plt"
      ],
      "execution_count": 0,
      "outputs": []
    },
    {
      "cell_type": "code",
      "metadata": {
        "id": "rOW78LXU5nQW",
        "colab_type": "code",
        "outputId": "ad4cfb04-83ce-4dea-bd64-7126bcf0c554",
        "colab": {
          "base_uri": "https://localhost:8080/",
          "height": 265
        }
      },
      "source": [
        "plt.plot(test_y, label=\"true\")\n",
        "plt.plot(rf_pred_test, label=\"predicted\")\n",
        "\n",
        "plt.legend()\n",
        "plt.show()"
      ],
      "execution_count": 0,
      "outputs": [
        {
          "output_type": "display_data",
          "data": {
            "image/png": "[encoded data removed]",
            "text/plain": [
              "<Figure size 432x288 with 1 Axes>"
            ]
          },
          "metadata": {
            "tags": [],
            "needs_background": "light"
          }
        }
      ]
    },
    {
      "cell_type": "code",
      "metadata": {
        "id": "CJruPGxCqJUb",
        "colab_type": "code",
        "outputId": "8d9b0d9b-1433-4427-f734-c55ccf3268a3",
        "colab": {
          "base_uri": "https://localhost:8080/",
          "height": 85
        }
      },
      "source": [
        "rf.feature_importances_"
      ],
      "execution_count": 0,
      "outputs": [
        {
          "output_type": "execute_result",
          "data": {
            "text/plain": [
              "array([0.02775385, 0.02038977, 0.10151449, 0.06810297, 0.03761863,\n",
              "       0.02461519, 0.0049768 , 0.00329328, 0.        , 0.        ,\n",
              "       0.00540635, 0.00557357, 0.00795484, 0.19753638, 0.11909089,\n",
              "       0.37617298])"
            ]
          },
          "metadata": {
            "tags": []
          },
          "execution_count": 54
        }
      ]
    },
    {
      "cell_type": "code",
      "metadata": {
        "id": "FOxz1IxJXbHu",
        "colab_type": "code",
        "colab": {}
      },
      "source": [
        "import matplotlib.pyplot as plt\n",
        "from sklearn import tree\n"
      ],
      "execution_count": 0,
      "outputs": []
    },
    {
      "cell_type": "code",
      "metadata": {
        "id": "G16ASp7H2abr",
        "colab_type": "code",
        "outputId": "ec7b1325-f4e9-491e-8867-cad920ca4cda",
        "colab": {
          "base_uri": "https://localhost:8080/",
          "height": 34
        }
      },
      "source": [
        "from sklearn.tree import export_graphviz\n",
        "\n",
        "export_graphviz(tree_in_forest,\n",
        "                feature_names=X.columns,\n",
        "                filled=True,\n",
        "                rounded=True)"
      ],
      "execution_count": 0,
      "outputs": [
        {
          "output_type": "execute_result",
          "data": {
            "text/plain": [
              "3"
            ]
          },
          "metadata": {
            "tags": []
          },
          "execution_count": 129
        }
      ]
    },
    {
      "cell_type": "markdown",
      "metadata": {
        "id": "ji0NCYxRmbaL",
        "colab_type": "text"
      },
      "source": [
        "## XGBoost"
      ]
    },
    {
      "cell_type": "code",
      "metadata": {
        "id": "Hu6TkkVCtlv_",
        "colab_type": "code",
        "colab": {}
      },
      "source": [
        "from xgboost import XGBRegressor"
      ],
      "execution_count": 0,
      "outputs": []
    },
    {
      "cell_type": "code",
      "metadata": {
        "id": "z9k5pufYuTEk",
        "colab_type": "code",
        "colab": {}
      },
      "source": [
        "xgb = XGBRegressor(max_depth = 10, \n",
        "                   n_jobs = -1, \n",
        "                   random_state = 4211,\n",
        "                   n_estimator = 50,\n",
        "                   verbose = 1\n",
        "                   )"
      ],
      "execution_count": 0,
      "outputs": []
    },
    {
      "cell_type": "code",
      "metadata": {
        "id": "K-nhCW6iuWsx",
        "colab_type": "code",
        "outputId": "df6cd34d-e5b9-4a14-c80a-6670f784a99a",
        "colab": {
          "base_uri": "https://localhost:8080/",
          "height": 190
        }
      },
      "source": [
        "xgb.fit(train_X, train_y)"
      ],
      "execution_count": 0,
      "outputs": [
        {
          "output_type": "stream",
          "text": [
            "[07:49:58] WARNING: /workspace/src/objective/regression_obj.cu:152: reg:linear is now deprecated in favor of reg:squarederror.\n",
            "[07:49:58] WARNING: /workspace/src/learner.cc:686: Tree method is automatically selected to be 'approx' for faster speed. To use old behavior (exact greedy algorithm on single machine), set tree_method to 'exact'.\n"
          ],
          "name": "stdout"
        },
        {
          "output_type": "execute_result",
          "data": {
            "text/plain": [
              "XGBRegressor(base_score=0.5, booster='gbtree', colsample_bylevel=1,\n",
              "             colsample_bynode=1, colsample_bytree=1, gamma=0,\n",
              "             importance_type='gain', learning_rate=0.1, max_delta_step=0,\n",
              "             max_depth=10, min_child_weight=1, missing=None, n_estimator=50,\n",
              "             n_estimators=100, n_jobs=-1, nthread=None, objective='reg:linear',\n",
              "             random_state=4211, reg_alpha=0, reg_lambda=1, scale_pos_weight=1,\n",
              "             seed=None, silent=None, subsample=1, verbose=1, verbosity=1)"
            ]
          },
          "metadata": {
            "tags": []
          },
          "execution_count": 53
        }
      ]
    },
    {
      "cell_type": "code",
      "metadata": {
        "id": "_a6MAvtIuZY5",
        "colab_type": "code",
        "colab": {}
      },
      "source": [
        "train_pred_y = xgb.predict(train_X)\n",
        "test_pred_y = xgb.predict(test_X)"
      ],
      "execution_count": 0,
      "outputs": []
    },
    {
      "cell_type": "code",
      "metadata": {
        "id": "rnoauqZQudLN",
        "colab_type": "code",
        "outputId": "5977a902-9e15-4eb4-85f6-c162c9b481a1",
        "colab": {
          "base_uri": "https://localhost:8080/",
          "height": 51
        }
      },
      "source": [
        "print(mean_squared_error(train_y, train_pred_y))\n",
        "print(mean_squared_error(test_y, test_pred_y))"
      ],
      "execution_count": 0,
      "outputs": [
        {
          "output_type": "stream",
          "text": [
            "11.389151697758551\n",
            "11.785555539603152\n"
          ],
          "name": "stdout"
        }
      ]
    },
    {
      "cell_type": "code",
      "metadata": {
        "id": "rVxK4yMu05PX",
        "colab_type": "code",
        "colab": {}
      },
      "source": [
        "pred_train_y = xgb.predict(train_y)"
      ],
      "execution_count": 0,
      "outputs": []
    },
    {
      "cell_type": "code",
      "metadata": {
        "id": "_RI2Eahs0-ll",
        "colab_type": "code",
        "colab": {}
      },
      "source": [
        "mean_squared_error(train_y, pred_train_y)"
      ],
      "execution_count": 0,
      "outputs": []
    },
    {
      "cell_type": "code",
      "metadata": {
        "id": "-eJ7X6BQ1Dck",
        "colab_type": "code",
        "outputId": "cb8da1bb-728d-4a8c-8d8f-1e30aed3022d",
        "colab": {
          "base_uri": "https://localhost:8080/",
          "height": 85
        }
      },
      "source": [
        "xgb.feature_importances_"
      ],
      "execution_count": 0,
      "outputs": [
        {
          "output_type": "execute_result",
          "data": {
            "text/plain": [
              "array([0.15873684, 0.17852134, 0.13834764, 0.0905055 , 0.10844084,\n",
              "       0.02069277, 0.03583869, 0.0119386 , 0.00430612, 0.        ,\n",
              "       0.        , 0.00875445, 0.00892411, 0.03249833, 0.20249492],\n",
              "      dtype=float32)"
            ]
          },
          "metadata": {
            "tags": []
          },
          "execution_count": 54
        }
      ]
    },
    {
      "cell_type": "markdown",
      "metadata": {
        "id": "Skv0klBzqEm5",
        "colab_type": "text"
      },
      "source": [
        "## Lightlgb\n"
      ]
    },
    {
      "cell_type": "code",
      "metadata": {
        "id": "hxhz-uRwqYLF",
        "colab_type": "code",
        "colab": {}
      },
      "source": [
        "import lightgbm as lgb"
      ],
      "execution_count": 0,
      "outputs": []
    },
    {
      "cell_type": "code",
      "metadata": {
        "id": "2ufBk2uIzM-t",
        "colab_type": "code",
        "colab": {}
      },
      "source": [
        "lgb_train = lgb.Dataset(train_X.drop(columns=['item_id']), train_y)\n",
        "lgb_test = lgb.Dataset(test_X.drop(columns=['item_id']), test_y)"
      ],
      "execution_count": 0,
      "outputs": []
    },
    {
      "cell_type": "code",
      "metadata": {
        "id": "-Hjp3HA8zlp5",
        "colab_type": "code",
        "colab": {}
      },
      "source": [
        "bst_params = {\n",
        "    \"boosting_type\": \"gbdt\",\n",
        "    \"metric\": \"rmse\",\n",
        "    \"objective\": \"regression\",\n",
        "    \"n_jobs\": -1,\n",
        "    \"seed\": 4211,\n",
        "    \"learning_rate\": 0.1,\n",
        "    \"bagging_fraction\": 0.75,\n",
        "    \"bagging_freq\": 10,\n",
        "    \"colsample_bytree\": 0.75,\n",
        "}\n",
        "\n",
        "fit_params = {\n",
        "    \"num_boost_round\": 100_000,\n",
        "    \"early_stopping_rounds\": 200,\n",
        "    \"verbose_eval\": 100,\n",
        "}"
      ],
      "execution_count": 0,
      "outputs": []
    },
    {
      "cell_type": "code",
      "metadata": {
        "id": "D5NLS6We0Aaf",
        "colab_type": "code",
        "outputId": "1c293920-e59c-4b1d-bdfb-b8e8316bc3e7",
        "colab": {
          "base_uri": "https://localhost:8080/",
          "height": 1000
        }
      },
      "source": [
        "lgb_regressor = lgb.train(bst_params, lgb_train, valid_sets=[lgb_train, lgb_test], valid_names=[\"train\", \"valid\"], **fit_params)"
      ],
      "execution_count": 0,
      "outputs": [
        {
          "output_type": "stream",
          "text": [
            "Training until validation scores don't improve for 200 rounds.\n",
            "[100]\ttrain's rmse: 2.77641\tvalid's rmse: 2.86581\n",
            "[200]\ttrain's rmse: 2.65148\tvalid's rmse: 2.73777\n",
            "[300]\ttrain's rmse: 2.57866\tvalid's rmse: 2.67036\n",
            "[400]\ttrain's rmse: 2.529\tvalid's rmse: 2.62909\n",
            "[500]\ttrain's rmse: 2.47637\tvalid's rmse: 2.5763\n",
            "[600]\ttrain's rmse: 2.43411\tvalid's rmse: 2.53918\n",
            "[700]\ttrain's rmse: 2.40952\tvalid's rmse: 2.51591\n",
            "[800]\ttrain's rmse: 2.38745\tvalid's rmse: 2.49609\n",
            "[900]\ttrain's rmse: 2.3648\tvalid's rmse: 2.47792\n",
            "[1000]\ttrain's rmse: 2.34849\tvalid's rmse: 2.46115\n",
            "[1100]\ttrain's rmse: 2.33378\tvalid's rmse: 2.45125\n",
            "[1200]\ttrain's rmse: 2.31928\tvalid's rmse: 2.43883\n",
            "[1300]\ttrain's rmse: 2.308\tvalid's rmse: 2.43014\n",
            "[1400]\ttrain's rmse: 2.29547\tvalid's rmse: 2.42074\n",
            "[1500]\ttrain's rmse: 2.28444\tvalid's rmse: 2.41172\n",
            "[1600]\ttrain's rmse: 2.27685\tvalid's rmse: 2.40687\n",
            "[1700]\ttrain's rmse: 2.26653\tvalid's rmse: 2.39984\n",
            "[1800]\ttrain's rmse: 2.25736\tvalid's rmse: 2.39467\n",
            "[1900]\ttrain's rmse: 2.24945\tvalid's rmse: 2.38824\n",
            "[2000]\ttrain's rmse: 2.24339\tvalid's rmse: 2.38428\n",
            "[2100]\ttrain's rmse: 2.2368\tvalid's rmse: 2.38106\n",
            "[2200]\ttrain's rmse: 2.23102\tvalid's rmse: 2.37715\n",
            "[2300]\ttrain's rmse: 2.22407\tvalid's rmse: 2.37375\n",
            "[2400]\ttrain's rmse: 2.21705\tvalid's rmse: 2.3706\n",
            "[2500]\ttrain's rmse: 2.2116\tvalid's rmse: 2.36527\n",
            "[2600]\ttrain's rmse: 2.20521\tvalid's rmse: 2.36043\n",
            "[2700]\ttrain's rmse: 2.20139\tvalid's rmse: 2.35869\n",
            "[2800]\ttrain's rmse: 2.19673\tvalid's rmse: 2.35469\n",
            "[2900]\ttrain's rmse: 2.19271\tvalid's rmse: 2.35201\n",
            "[3000]\ttrain's rmse: 2.18573\tvalid's rmse: 2.34633\n",
            "[3100]\ttrain's rmse: 2.18086\tvalid's rmse: 2.34404\n",
            "[3200]\ttrain's rmse: 2.1763\tvalid's rmse: 2.34203\n",
            "[3300]\ttrain's rmse: 2.17317\tvalid's rmse: 2.34041\n",
            "[3400]\ttrain's rmse: 2.16904\tvalid's rmse: 2.33787\n",
            "[3500]\ttrain's rmse: 2.16517\tvalid's rmse: 2.33505\n",
            "[3600]\ttrain's rmse: 2.16208\tvalid's rmse: 2.33357\n",
            "[3700]\ttrain's rmse: 2.15671\tvalid's rmse: 2.33053\n",
            "[3800]\ttrain's rmse: 2.15419\tvalid's rmse: 2.32916\n",
            "[3900]\ttrain's rmse: 2.15112\tvalid's rmse: 2.32733\n",
            "[4000]\ttrain's rmse: 2.14838\tvalid's rmse: 2.32611\n",
            "[4100]\ttrain's rmse: 2.14508\tvalid's rmse: 2.32588\n",
            "[4200]\ttrain's rmse: 2.14138\tvalid's rmse: 2.32425\n",
            "[4300]\ttrain's rmse: 2.1385\tvalid's rmse: 2.32273\n",
            "[4400]\ttrain's rmse: 2.13604\tvalid's rmse: 2.32198\n",
            "[4500]\ttrain's rmse: 2.13387\tvalid's rmse: 2.32219\n",
            "[4600]\ttrain's rmse: 2.13083\tvalid's rmse: 2.3204\n",
            "[4700]\ttrain's rmse: 2.12777\tvalid's rmse: 2.31865\n",
            "[4800]\ttrain's rmse: 2.12474\tvalid's rmse: 2.31745\n",
            "[4900]\ttrain's rmse: 2.12321\tvalid's rmse: 2.31679\n",
            "[5000]\ttrain's rmse: 2.12059\tvalid's rmse: 2.31534\n",
            "[5100]\ttrain's rmse: 2.11825\tvalid's rmse: 2.31401\n",
            "[5200]\ttrain's rmse: 2.1157\tvalid's rmse: 2.31304\n",
            "[5300]\ttrain's rmse: 2.11336\tvalid's rmse: 2.31178\n",
            "[5400]\ttrain's rmse: 2.11054\tvalid's rmse: 2.31025\n",
            "[5500]\ttrain's rmse: 2.10805\tvalid's rmse: 2.30896\n",
            "[5600]\ttrain's rmse: 2.10624\tvalid's rmse: 2.30856\n",
            "[5700]\ttrain's rmse: 2.1045\tvalid's rmse: 2.30807\n",
            "[5800]\ttrain's rmse: 2.10223\tvalid's rmse: 2.3075\n",
            "[5900]\ttrain's rmse: 2.10012\tvalid's rmse: 2.3057\n",
            "[6000]\ttrain's rmse: 2.09743\tvalid's rmse: 2.3041\n",
            "[6100]\ttrain's rmse: 2.096\tvalid's rmse: 2.30351\n",
            "[6200]\ttrain's rmse: 2.0943\tvalid's rmse: 2.30243\n",
            "[6300]\ttrain's rmse: 2.09251\tvalid's rmse: 2.30218\n",
            "[6400]\ttrain's rmse: 2.0901\tvalid's rmse: 2.30074\n",
            "[6500]\ttrain's rmse: 2.08797\tvalid's rmse: 2.2995\n",
            "[6600]\ttrain's rmse: 2.08612\tvalid's rmse: 2.29813\n",
            "[6700]\ttrain's rmse: 2.08464\tvalid's rmse: 2.29703\n",
            "[6800]\ttrain's rmse: 2.08253\tvalid's rmse: 2.29553\n",
            "[6900]\ttrain's rmse: 2.08108\tvalid's rmse: 2.29526\n",
            "[7000]\ttrain's rmse: 2.07927\tvalid's rmse: 2.2956\n",
            "[7100]\ttrain's rmse: 2.07755\tvalid's rmse: 2.29447\n",
            "[7200]\ttrain's rmse: 2.0754\tvalid's rmse: 2.29307\n",
            "[7300]\ttrain's rmse: 2.07379\tvalid's rmse: 2.29264\n",
            "[7400]\ttrain's rmse: 2.07177\tvalid's rmse: 2.29195\n",
            "[7500]\ttrain's rmse: 2.0706\tvalid's rmse: 2.29155\n",
            "[7600]\ttrain's rmse: 2.06857\tvalid's rmse: 2.29099\n",
            "[7700]\ttrain's rmse: 2.0669\tvalid's rmse: 2.29096\n",
            "[7800]\ttrain's rmse: 2.06553\tvalid's rmse: 2.29088\n",
            "[7900]\ttrain's rmse: 2.06389\tvalid's rmse: 2.29074\n",
            "[8000]\ttrain's rmse: 2.06193\tvalid's rmse: 2.29061\n",
            "[8100]\ttrain's rmse: 2.06031\tvalid's rmse: 2.28939\n",
            "[8200]\ttrain's rmse: 2.05881\tvalid's rmse: 2.28905\n",
            "[8300]\ttrain's rmse: 2.05764\tvalid's rmse: 2.28874\n",
            "[8400]\ttrain's rmse: 2.05647\tvalid's rmse: 2.28828\n",
            "[8500]\ttrain's rmse: 2.05529\tvalid's rmse: 2.28862\n",
            "[8600]\ttrain's rmse: 2.05406\tvalid's rmse: 2.28845\n",
            "[8700]\ttrain's rmse: 2.05269\tvalid's rmse: 2.28772\n",
            "[8800]\ttrain's rmse: 2.05165\tvalid's rmse: 2.28745\n",
            "[8900]\ttrain's rmse: 2.05013\tvalid's rmse: 2.28652\n",
            "[9000]\ttrain's rmse: 2.04919\tvalid's rmse: 2.28628\n",
            "[9100]\ttrain's rmse: 2.04781\tvalid's rmse: 2.28533\n",
            "[9200]\ttrain's rmse: 2.04648\tvalid's rmse: 2.28491\n",
            "[9300]\ttrain's rmse: 2.0455\tvalid's rmse: 2.28483\n",
            "[9400]\ttrain's rmse: 2.04442\tvalid's rmse: 2.28443\n",
            "[9500]\ttrain's rmse: 2.04302\tvalid's rmse: 2.28425\n",
            "[9600]\ttrain's rmse: 2.04146\tvalid's rmse: 2.28348\n",
            "[9700]\ttrain's rmse: 2.04035\tvalid's rmse: 2.28313\n",
            "[9800]\ttrain's rmse: 2.0391\tvalid's rmse: 2.28305\n",
            "[9900]\ttrain's rmse: 2.03809\tvalid's rmse: 2.28305\n",
            "[10000]\ttrain's rmse: 2.03732\tvalid's rmse: 2.28276\n",
            "[10100]\ttrain's rmse: 2.03623\tvalid's rmse: 2.28239\n",
            "[10200]\ttrain's rmse: 2.03512\tvalid's rmse: 2.28165\n",
            "[10300]\ttrain's rmse: 2.03424\tvalid's rmse: 2.28138\n",
            "[10400]\ttrain's rmse: 2.03315\tvalid's rmse: 2.28107\n",
            "[10500]\ttrain's rmse: 2.0321\tvalid's rmse: 2.28087\n",
            "[10600]\ttrain's rmse: 2.03121\tvalid's rmse: 2.28056\n",
            "[10700]\ttrain's rmse: 2.0303\tvalid's rmse: 2.28043\n",
            "[10800]\ttrain's rmse: 2.02938\tvalid's rmse: 2.28024\n",
            "[10900]\ttrain's rmse: 2.02783\tvalid's rmse: 2.27929\n",
            "[11000]\ttrain's rmse: 2.02658\tvalid's rmse: 2.27916\n",
            "[11100]\ttrain's rmse: 2.02556\tvalid's rmse: 2.27857\n",
            "[11200]\ttrain's rmse: 2.02417\tvalid's rmse: 2.27742\n",
            "[11300]\ttrain's rmse: 2.02333\tvalid's rmse: 2.27705\n",
            "[11400]\ttrain's rmse: 2.02219\tvalid's rmse: 2.27662\n",
            "[11500]\ttrain's rmse: 2.02152\tvalid's rmse: 2.27651\n",
            "[11600]\ttrain's rmse: 2.02073\tvalid's rmse: 2.27655\n",
            "[11700]\ttrain's rmse: 2.01947\tvalid's rmse: 2.27593\n",
            "[11800]\ttrain's rmse: 2.01855\tvalid's rmse: 2.27603\n",
            "Early stopping, best iteration is:\n",
            "[11659]\ttrain's rmse: 2.01981\tvalid's rmse: 2.27582\n"
          ],
          "name": "stdout"
        }
      ]
    },
    {
      "cell_type": "code",
      "metadata": {
        "id": "KuWvfFP92lMg",
        "colab_type": "code",
        "colab": {}
      },
      "source": [
        "lg_pred_train = lgb_regressor.predict(train_X.drop(columns=['item_id']))\n",
        "lg_pred_test = lgb_regressor.predict(test_X.drop(columns=['item_id']))"
      ],
      "execution_count": 0,
      "outputs": []
    },
    {
      "cell_type": "code",
      "metadata": {
        "id": "-CGjBFui7TfB",
        "colab_type": "code",
        "outputId": "f51c849c-53a2-4163-b888-9c13c60071af",
        "colab": {
          "base_uri": "https://localhost:8080/",
          "height": 51
        }
      },
      "source": [
        "print(mean_squared_error(train_y, lg_pred_train))\n",
        "print(mean_squared_error(test_y, lg_pred_test))"
      ],
      "execution_count": 0,
      "outputs": [
        {
          "output_type": "stream",
          "text": [
            "4.079638344945075\n",
            "5.179346136576904\n"
          ],
          "name": "stdout"
        }
      ]
    },
    {
      "cell_type": "markdown",
      "metadata": {
        "id": "yWVV-ong7vVd",
        "colab_type": "text"
      },
      "source": [
        "# Submission"
      ]
    },
    {
      "cell_type": "code",
      "metadata": {
        "id": "C07R3CywIppT",
        "colab_type": "code",
        "outputId": "a0ebdc8b-3ea3-4feb-e2a9-9aae5e7b56a6",
        "colab": {
          "base_uri": "https://localhost:8080/",
          "height": 439
        }
      },
      "source": [
        "valid"
      ],
      "execution_count": 0,
      "outputs": [
        {
          "output_type": "execute_result",
          "data": {
            "text/html": [
              "<div>\n",
              "<style scoped>\n",
              "    .dataframe tbody tr th:only-of-type {\n",
              "        vertical-align: middle;\n",
              "    }\n",
              "\n",
              "    .dataframe tbody tr th {\n",
              "        vertical-align: top;\n",
              "    }\n",
              "\n",
              "    .dataframe thead th {\n",
              "        text-align: right;\n",
              "    }\n",
              "</style>\n",
              "<table border=\"1\" class=\"dataframe\">\n",
              "  <thead>\n",
              "    <tr style=\"text-align: right;\">\n",
              "      <th></th>\n",
              "      <th>item_id</th>\n",
              "      <th>dept_id</th>\n",
              "      <th>cat_id</th>\n",
              "      <th>store_id</th>\n",
              "      <th>state_id</th>\n",
              "      <th>wday</th>\n",
              "      <th>month</th>\n",
              "      <th>event_name_1</th>\n",
              "      <th>event_type_1</th>\n",
              "      <th>event_name_2</th>\n",
              "      <th>event_type_2</th>\n",
              "      <th>snap_CA</th>\n",
              "      <th>snap_TX</th>\n",
              "      <th>snap_WI</th>\n",
              "      <th>sell_price</th>\n",
              "      <th>demand</th>\n",
              "      <th>day_int</th>\n",
              "      <th>item_id_int</th>\n",
              "    </tr>\n",
              "  </thead>\n",
              "  <tbody>\n",
              "    <tr>\n",
              "      <th>10397090</th>\n",
              "      <td>HOBBIES_1_001</td>\n",
              "      <td>1</td>\n",
              "      <td>2</td>\n",
              "      <td>1</td>\n",
              "      <td>1</td>\n",
              "      <td>3</td>\n",
              "      <td>4</td>\n",
              "      <td>31</td>\n",
              "      <td>5</td>\n",
              "      <td>2</td>\n",
              "      <td>2</td>\n",
              "      <td>0</td>\n",
              "      <td>0</td>\n",
              "      <td>0</td>\n",
              "      <td>8.38</td>\n",
              "      <td>0.0</td>\n",
              "      <td>1914</td>\n",
              "      <td>1</td>\n",
              "    </tr>\n",
              "    <tr>\n",
              "      <th>10397091</th>\n",
              "      <td>HOBBIES_1_002</td>\n",
              "      <td>1</td>\n",
              "      <td>2</td>\n",
              "      <td>1</td>\n",
              "      <td>1</td>\n",
              "      <td>3</td>\n",
              "      <td>4</td>\n",
              "      <td>31</td>\n",
              "      <td>5</td>\n",
              "      <td>2</td>\n",
              "      <td>2</td>\n",
              "      <td>0</td>\n",
              "      <td>0</td>\n",
              "      <td>0</td>\n",
              "      <td>3.97</td>\n",
              "      <td>0.0</td>\n",
              "      <td>1914</td>\n",
              "      <td>2</td>\n",
              "    </tr>\n",
              "    <tr>\n",
              "      <th>10397092</th>\n",
              "      <td>HOBBIES_1_003</td>\n",
              "      <td>1</td>\n",
              "      <td>2</td>\n",
              "      <td>1</td>\n",
              "      <td>1</td>\n",
              "      <td>3</td>\n",
              "      <td>4</td>\n",
              "      <td>31</td>\n",
              "      <td>5</td>\n",
              "      <td>2</td>\n",
              "      <td>2</td>\n",
              "      <td>0</td>\n",
              "      <td>0</td>\n",
              "      <td>0</td>\n",
              "      <td>2.97</td>\n",
              "      <td>0.0</td>\n",
              "      <td>1914</td>\n",
              "      <td>3</td>\n",
              "    </tr>\n",
              "    <tr>\n",
              "      <th>10397093</th>\n",
              "      <td>HOBBIES_1_004</td>\n",
              "      <td>1</td>\n",
              "      <td>2</td>\n",
              "      <td>1</td>\n",
              "      <td>1</td>\n",
              "      <td>3</td>\n",
              "      <td>4</td>\n",
              "      <td>31</td>\n",
              "      <td>5</td>\n",
              "      <td>2</td>\n",
              "      <td>2</td>\n",
              "      <td>0</td>\n",
              "      <td>0</td>\n",
              "      <td>0</td>\n",
              "      <td>4.64</td>\n",
              "      <td>0.0</td>\n",
              "      <td>1914</td>\n",
              "      <td>4</td>\n",
              "    </tr>\n",
              "    <tr>\n",
              "      <th>10397094</th>\n",
              "      <td>HOBBIES_1_005</td>\n",
              "      <td>1</td>\n",
              "      <td>2</td>\n",
              "      <td>1</td>\n",
              "      <td>1</td>\n",
              "      <td>3</td>\n",
              "      <td>4</td>\n",
              "      <td>31</td>\n",
              "      <td>5</td>\n",
              "      <td>2</td>\n",
              "      <td>2</td>\n",
              "      <td>0</td>\n",
              "      <td>0</td>\n",
              "      <td>0</td>\n",
              "      <td>2.88</td>\n",
              "      <td>0.0</td>\n",
              "      <td>1914</td>\n",
              "      <td>5</td>\n",
              "    </tr>\n",
              "    <tr>\n",
              "      <th>...</th>\n",
              "      <td>...</td>\n",
              "      <td>...</td>\n",
              "      <td>...</td>\n",
              "      <td>...</td>\n",
              "      <td>...</td>\n",
              "      <td>...</td>\n",
              "      <td>...</td>\n",
              "      <td>...</td>\n",
              "      <td>...</td>\n",
              "      <td>...</td>\n",
              "      <td>...</td>\n",
              "      <td>...</td>\n",
              "      <td>...</td>\n",
              "      <td>...</td>\n",
              "      <td>...</td>\n",
              "      <td>...</td>\n",
              "      <td>...</td>\n",
              "      <td>...</td>\n",
              "    </tr>\n",
              "    <tr>\n",
              "      <th>11250805</th>\n",
              "      <td>FOODS_3_823</td>\n",
              "      <td>3</td>\n",
              "      <td>1</td>\n",
              "      <td>3</td>\n",
              "      <td>3</td>\n",
              "      <td>2</td>\n",
              "      <td>5</td>\n",
              "      <td>31</td>\n",
              "      <td>5</td>\n",
              "      <td>2</td>\n",
              "      <td>2</td>\n",
              "      <td>0</td>\n",
              "      <td>0</td>\n",
              "      <td>0</td>\n",
              "      <td>2.98</td>\n",
              "      <td>0.0</td>\n",
              "      <td>1941</td>\n",
              "      <td>823</td>\n",
              "    </tr>\n",
              "    <tr>\n",
              "      <th>11250806</th>\n",
              "      <td>FOODS_3_824</td>\n",
              "      <td>3</td>\n",
              "      <td>1</td>\n",
              "      <td>3</td>\n",
              "      <td>3</td>\n",
              "      <td>2</td>\n",
              "      <td>5</td>\n",
              "      <td>31</td>\n",
              "      <td>5</td>\n",
              "      <td>2</td>\n",
              "      <td>2</td>\n",
              "      <td>0</td>\n",
              "      <td>0</td>\n",
              "      <td>0</td>\n",
              "      <td>2.48</td>\n",
              "      <td>0.0</td>\n",
              "      <td>1941</td>\n",
              "      <td>824</td>\n",
              "    </tr>\n",
              "    <tr>\n",
              "      <th>11250807</th>\n",
              "      <td>FOODS_3_825</td>\n",
              "      <td>3</td>\n",
              "      <td>1</td>\n",
              "      <td>3</td>\n",
              "      <td>3</td>\n",
              "      <td>2</td>\n",
              "      <td>5</td>\n",
              "      <td>31</td>\n",
              "      <td>5</td>\n",
              "      <td>2</td>\n",
              "      <td>2</td>\n",
              "      <td>0</td>\n",
              "      <td>0</td>\n",
              "      <td>0</td>\n",
              "      <td>3.98</td>\n",
              "      <td>0.0</td>\n",
              "      <td>1941</td>\n",
              "      <td>825</td>\n",
              "    </tr>\n",
              "    <tr>\n",
              "      <th>11250808</th>\n",
              "      <td>FOODS_3_826</td>\n",
              "      <td>3</td>\n",
              "      <td>1</td>\n",
              "      <td>3</td>\n",
              "      <td>3</td>\n",
              "      <td>2</td>\n",
              "      <td>5</td>\n",
              "      <td>31</td>\n",
              "      <td>5</td>\n",
              "      <td>2</td>\n",
              "      <td>2</td>\n",
              "      <td>0</td>\n",
              "      <td>0</td>\n",
              "      <td>0</td>\n",
              "      <td>1.28</td>\n",
              "      <td>0.0</td>\n",
              "      <td>1941</td>\n",
              "      <td>826</td>\n",
              "    </tr>\n",
              "    <tr>\n",
              "      <th>11250809</th>\n",
              "      <td>FOODS_3_827</td>\n",
              "      <td>3</td>\n",
              "      <td>1</td>\n",
              "      <td>3</td>\n",
              "      <td>3</td>\n",
              "      <td>2</td>\n",
              "      <td>5</td>\n",
              "      <td>31</td>\n",
              "      <td>5</td>\n",
              "      <td>2</td>\n",
              "      <td>2</td>\n",
              "      <td>0</td>\n",
              "      <td>0</td>\n",
              "      <td>0</td>\n",
              "      <td>1.00</td>\n",
              "      <td>0.0</td>\n",
              "      <td>1941</td>\n",
              "      <td>827</td>\n",
              "    </tr>\n",
              "  </tbody>\n",
              "</table>\n",
              "<p>853720 rows × 18 columns</p>\n",
              "</div>"
            ],
            "text/plain": [
              "                item_id  dept_id  cat_id  ...  demand  day_int  item_id_int\n",
              "10397090  HOBBIES_1_001        1       2  ...     0.0     1914            1\n",
              "10397091  HOBBIES_1_002        1       2  ...     0.0     1914            2\n",
              "10397092  HOBBIES_1_003        1       2  ...     0.0     1914            3\n",
              "10397093  HOBBIES_1_004        1       2  ...     0.0     1914            4\n",
              "10397094  HOBBIES_1_005        1       2  ...     0.0     1914            5\n",
              "...                 ...      ...     ...  ...     ...      ...          ...\n",
              "11250805    FOODS_3_823        3       1  ...     0.0     1941          823\n",
              "11250806    FOODS_3_824        3       1  ...     0.0     1941          824\n",
              "11250807    FOODS_3_825        3       1  ...     0.0     1941          825\n",
              "11250808    FOODS_3_826        3       1  ...     0.0     1941          826\n",
              "11250809    FOODS_3_827        3       1  ...     0.0     1941          827\n",
              "\n",
              "[853720 rows x 18 columns]"
            ]
          },
          "metadata": {
            "tags": []
          },
          "execution_count": 186
        }
      ]
    },
    {
      "cell_type": "code",
      "metadata": {
        "id": "9Yf22g_xmZag",
        "colab_type": "code",
        "outputId": "b6f37cee-fd1e-48c3-f82a-c3fd8412094f",
        "colab": {
          "base_uri": "https://localhost:8080/",
          "height": 51
        }
      },
      "source": [
        "valid_pred = rf.predict(valid.drop(columns=['item_id', 'demand']))"
      ],
      "execution_count": 0,
      "outputs": [
        {
          "output_type": "stream",
          "text": [
            "[Parallel(n_jobs=40)]: Using backend ThreadingBackend with 40 concurrent workers.\n",
            "[Parallel(n_jobs=40)]: Done 100 out of 100 | elapsed:    1.4s finished\n"
          ],
          "name": "stderr"
        }
      ]
    },
    {
      "cell_type": "code",
      "metadata": {
        "id": "uXanYlAqCk9Q",
        "colab_type": "code",
        "outputId": "834d640a-ce35-42b3-f15f-4aab11634c8a",
        "colab": {
          "base_uri": "https://localhost:8080/",
          "height": 85
        }
      },
      "source": [
        "rf.feature_importances_"
      ],
      "execution_count": 0,
      "outputs": [
        {
          "output_type": "execute_result",
          "data": {
            "text/plain": [
              "array([0.02775385, 0.02038977, 0.10151449, 0.06810297, 0.03761863,\n",
              "       0.02461519, 0.0049768 , 0.00329328, 0.        , 0.        ,\n",
              "       0.00540635, 0.00557357, 0.00795484, 0.19753638, 0.11909089,\n",
              "       0.37617298])"
            ]
          },
          "metadata": {
            "tags": []
          },
          "execution_count": 139
        }
      ]
    },
    {
      "cell_type": "code",
      "metadata": {
        "id": "Bv4EL6NU4HVf",
        "colab_type": "code",
        "colab": {}
      },
      "source": [
        "valid['demand'] = valid_pred"
      ],
      "execution_count": 0,
      "outputs": []
    },
    {
      "cell_type": "code",
      "metadata": {
        "id": "vG0XxDxB4P_g",
        "colab_type": "code",
        "colab": {}
      },
      "source": [
        "valid['state_id'] = valid['state_id'].astype(str).map({'1':'CA', '2':'TX', '3':'WI'})"
      ],
      "execution_count": 0,
      "outputs": []
    },
    {
      "cell_type": "code",
      "metadata": {
        "id": "2dLjFl9m86IA",
        "colab_type": "code",
        "outputId": "d339f710-658c-47c6-93eb-7d076710008d",
        "colab": {
          "base_uri": "https://localhost:8080/",
          "height": 221
        }
      },
      "source": [
        "(valid['item_id'] + '_' + valid['state_id'].astype(str) + '_' + valid['store_id'].astype(str) + '_validation')"
      ],
      "execution_count": 0,
      "outputs": [
        {
          "output_type": "execute_result",
          "data": {
            "text/plain": [
              "10397090    HOBBIES_1_001_CA_1_validation\n",
              "10397091    HOBBIES_1_002_CA_1_validation\n",
              "10397092    HOBBIES_1_003_CA_1_validation\n",
              "10397093    HOBBIES_1_004_CA_1_validation\n",
              "10397094    HOBBIES_1_005_CA_1_validation\n",
              "                        ...              \n",
              "11250805      FOODS_3_823_WI_3_validation\n",
              "11250806      FOODS_3_824_WI_3_validation\n",
              "11250807      FOODS_3_825_WI_3_validation\n",
              "11250808      FOODS_3_826_WI_3_validation\n",
              "11250809      FOODS_3_827_WI_3_validation\n",
              "Length: 853720, dtype: object"
            ]
          },
          "metadata": {
            "tags": []
          },
          "execution_count": 191
        }
      ]
    },
    {
      "cell_type": "code",
      "metadata": {
        "id": "b1psfoOc-eAz",
        "colab_type": "code",
        "colab": {}
      },
      "source": [
        "valid['item_id'] = (valid['item_id'] + '_' + valid['state_id'].astype(str) + '_' + valid['store_id'].astype(str) + '_validation')"
      ],
      "execution_count": 0,
      "outputs": []
    },
    {
      "cell_type": "code",
      "metadata": {
        "id": "AOTfmLT_-jgQ",
        "colab_type": "code",
        "outputId": "c8089afb-88c4-4dff-aed5-7b152bbaeb95",
        "colab": {
          "base_uri": "https://localhost:8080/",
          "height": 439
        }
      },
      "source": [
        "valid"
      ],
      "execution_count": 0,
      "outputs": [
        {
          "output_type": "execute_result",
          "data": {
            "text/html": [
              "<div>\n",
              "<style scoped>\n",
              "    .dataframe tbody tr th:only-of-type {\n",
              "        vertical-align: middle;\n",
              "    }\n",
              "\n",
              "    .dataframe tbody tr th {\n",
              "        vertical-align: top;\n",
              "    }\n",
              "\n",
              "    .dataframe thead th {\n",
              "        text-align: right;\n",
              "    }\n",
              "</style>\n",
              "<table border=\"1\" class=\"dataframe\">\n",
              "  <thead>\n",
              "    <tr style=\"text-align: right;\">\n",
              "      <th></th>\n",
              "      <th>item_id</th>\n",
              "      <th>dept_id</th>\n",
              "      <th>cat_id</th>\n",
              "      <th>store_id</th>\n",
              "      <th>state_id</th>\n",
              "      <th>wday</th>\n",
              "      <th>month</th>\n",
              "      <th>event_name_1</th>\n",
              "      <th>event_type_1</th>\n",
              "      <th>event_name_2</th>\n",
              "      <th>event_type_2</th>\n",
              "      <th>snap_CA</th>\n",
              "      <th>snap_TX</th>\n",
              "      <th>snap_WI</th>\n",
              "      <th>sell_price</th>\n",
              "      <th>demand</th>\n",
              "      <th>day_int</th>\n",
              "      <th>item_id_int</th>\n",
              "    </tr>\n",
              "  </thead>\n",
              "  <tbody>\n",
              "    <tr>\n",
              "      <th>10397090</th>\n",
              "      <td>HOBBIES_1_001_CA_1_validation</td>\n",
              "      <td>1</td>\n",
              "      <td>2</td>\n",
              "      <td>1</td>\n",
              "      <td>CA</td>\n",
              "      <td>3</td>\n",
              "      <td>4</td>\n",
              "      <td>31</td>\n",
              "      <td>5</td>\n",
              "      <td>2</td>\n",
              "      <td>2</td>\n",
              "      <td>0</td>\n",
              "      <td>0</td>\n",
              "      <td>0</td>\n",
              "      <td>8.38</td>\n",
              "      <td>1.667409</td>\n",
              "      <td>1914</td>\n",
              "      <td>1</td>\n",
              "    </tr>\n",
              "    <tr>\n",
              "      <th>10397091</th>\n",
              "      <td>HOBBIES_1_002_CA_1_validation</td>\n",
              "      <td>1</td>\n",
              "      <td>2</td>\n",
              "      <td>1</td>\n",
              "      <td>CA</td>\n",
              "      <td>3</td>\n",
              "      <td>4</td>\n",
              "      <td>31</td>\n",
              "      <td>5</td>\n",
              "      <td>2</td>\n",
              "      <td>2</td>\n",
              "      <td>0</td>\n",
              "      <td>0</td>\n",
              "      <td>0</td>\n",
              "      <td>3.97</td>\n",
              "      <td>0.203490</td>\n",
              "      <td>1914</td>\n",
              "      <td>2</td>\n",
              "    </tr>\n",
              "    <tr>\n",
              "      <th>10397092</th>\n",
              "      <td>HOBBIES_1_003_CA_1_validation</td>\n",
              "      <td>1</td>\n",
              "      <td>2</td>\n",
              "      <td>1</td>\n",
              "      <td>CA</td>\n",
              "      <td>3</td>\n",
              "      <td>4</td>\n",
              "      <td>31</td>\n",
              "      <td>5</td>\n",
              "      <td>2</td>\n",
              "      <td>2</td>\n",
              "      <td>0</td>\n",
              "      <td>0</td>\n",
              "      <td>0</td>\n",
              "      <td>2.97</td>\n",
              "      <td>0.121611</td>\n",
              "      <td>1914</td>\n",
              "      <td>3</td>\n",
              "    </tr>\n",
              "    <tr>\n",
              "      <th>10397093</th>\n",
              "      <td>HOBBIES_1_004_CA_1_validation</td>\n",
              "      <td>1</td>\n",
              "      <td>2</td>\n",
              "      <td>1</td>\n",
              "      <td>CA</td>\n",
              "      <td>3</td>\n",
              "      <td>4</td>\n",
              "      <td>31</td>\n",
              "      <td>5</td>\n",
              "      <td>2</td>\n",
              "      <td>2</td>\n",
              "      <td>0</td>\n",
              "      <td>0</td>\n",
              "      <td>0</td>\n",
              "      <td>4.64</td>\n",
              "      <td>3.067122</td>\n",
              "      <td>1914</td>\n",
              "      <td>4</td>\n",
              "    </tr>\n",
              "    <tr>\n",
              "      <th>10397094</th>\n",
              "      <td>HOBBIES_1_005_CA_1_validation</td>\n",
              "      <td>1</td>\n",
              "      <td>2</td>\n",
              "      <td>1</td>\n",
              "      <td>CA</td>\n",
              "      <td>3</td>\n",
              "      <td>4</td>\n",
              "      <td>31</td>\n",
              "      <td>5</td>\n",
              "      <td>2</td>\n",
              "      <td>2</td>\n",
              "      <td>0</td>\n",
              "      <td>0</td>\n",
              "      <td>0</td>\n",
              "      <td>2.88</td>\n",
              "      <td>1.693130</td>\n",
              "      <td>1914</td>\n",
              "      <td>5</td>\n",
              "    </tr>\n",
              "    <tr>\n",
              "      <th>...</th>\n",
              "      <td>...</td>\n",
              "      <td>...</td>\n",
              "      <td>...</td>\n",
              "      <td>...</td>\n",
              "      <td>...</td>\n",
              "      <td>...</td>\n",
              "      <td>...</td>\n",
              "      <td>...</td>\n",
              "      <td>...</td>\n",
              "      <td>...</td>\n",
              "      <td>...</td>\n",
              "      <td>...</td>\n",
              "      <td>...</td>\n",
              "      <td>...</td>\n",
              "      <td>...</td>\n",
              "      <td>...</td>\n",
              "      <td>...</td>\n",
              "      <td>...</td>\n",
              "    </tr>\n",
              "    <tr>\n",
              "      <th>11250805</th>\n",
              "      <td>FOODS_3_823_WI_3_validation</td>\n",
              "      <td>3</td>\n",
              "      <td>1</td>\n",
              "      <td>3</td>\n",
              "      <td>WI</td>\n",
              "      <td>2</td>\n",
              "      <td>5</td>\n",
              "      <td>31</td>\n",
              "      <td>5</td>\n",
              "      <td>2</td>\n",
              "      <td>2</td>\n",
              "      <td>0</td>\n",
              "      <td>0</td>\n",
              "      <td>0</td>\n",
              "      <td>2.98</td>\n",
              "      <td>1.864426</td>\n",
              "      <td>1941</td>\n",
              "      <td>823</td>\n",
              "    </tr>\n",
              "    <tr>\n",
              "      <th>11250806</th>\n",
              "      <td>FOODS_3_824_WI_3_validation</td>\n",
              "      <td>3</td>\n",
              "      <td>1</td>\n",
              "      <td>3</td>\n",
              "      <td>WI</td>\n",
              "      <td>2</td>\n",
              "      <td>5</td>\n",
              "      <td>31</td>\n",
              "      <td>5</td>\n",
              "      <td>2</td>\n",
              "      <td>2</td>\n",
              "      <td>0</td>\n",
              "      <td>0</td>\n",
              "      <td>0</td>\n",
              "      <td>2.48</td>\n",
              "      <td>0.563325</td>\n",
              "      <td>1941</td>\n",
              "      <td>824</td>\n",
              "    </tr>\n",
              "    <tr>\n",
              "      <th>11250807</th>\n",
              "      <td>FOODS_3_825_WI_3_validation</td>\n",
              "      <td>3</td>\n",
              "      <td>1</td>\n",
              "      <td>3</td>\n",
              "      <td>WI</td>\n",
              "      <td>2</td>\n",
              "      <td>5</td>\n",
              "      <td>31</td>\n",
              "      <td>5</td>\n",
              "      <td>2</td>\n",
              "      <td>2</td>\n",
              "      <td>0</td>\n",
              "      <td>0</td>\n",
              "      <td>0</td>\n",
              "      <td>3.98</td>\n",
              "      <td>1.202803</td>\n",
              "      <td>1941</td>\n",
              "      <td>825</td>\n",
              "    </tr>\n",
              "    <tr>\n",
              "      <th>11250808</th>\n",
              "      <td>FOODS_3_826_WI_3_validation</td>\n",
              "      <td>3</td>\n",
              "      <td>1</td>\n",
              "      <td>3</td>\n",
              "      <td>WI</td>\n",
              "      <td>2</td>\n",
              "      <td>5</td>\n",
              "      <td>31</td>\n",
              "      <td>5</td>\n",
              "      <td>2</td>\n",
              "      <td>2</td>\n",
              "      <td>0</td>\n",
              "      <td>0</td>\n",
              "      <td>0</td>\n",
              "      <td>1.28</td>\n",
              "      <td>1.167270</td>\n",
              "      <td>1941</td>\n",
              "      <td>826</td>\n",
              "    </tr>\n",
              "    <tr>\n",
              "      <th>11250809</th>\n",
              "      <td>FOODS_3_827_WI_3_validation</td>\n",
              "      <td>3</td>\n",
              "      <td>1</td>\n",
              "      <td>3</td>\n",
              "      <td>WI</td>\n",
              "      <td>2</td>\n",
              "      <td>5</td>\n",
              "      <td>31</td>\n",
              "      <td>5</td>\n",
              "      <td>2</td>\n",
              "      <td>2</td>\n",
              "      <td>0</td>\n",
              "      <td>0</td>\n",
              "      <td>0</td>\n",
              "      <td>1.00</td>\n",
              "      <td>1.904138</td>\n",
              "      <td>1941</td>\n",
              "      <td>827</td>\n",
              "    </tr>\n",
              "  </tbody>\n",
              "</table>\n",
              "<p>853720 rows × 18 columns</p>\n",
              "</div>"
            ],
            "text/plain": [
              "                                item_id  dept_id  ...  day_int  item_id_int\n",
              "10397090  HOBBIES_1_001_CA_1_validation        1  ...     1914            1\n",
              "10397091  HOBBIES_1_002_CA_1_validation        1  ...     1914            2\n",
              "10397092  HOBBIES_1_003_CA_1_validation        1  ...     1914            3\n",
              "10397093  HOBBIES_1_004_CA_1_validation        1  ...     1914            4\n",
              "10397094  HOBBIES_1_005_CA_1_validation        1  ...     1914            5\n",
              "...                                 ...      ...  ...      ...          ...\n",
              "11250805    FOODS_3_823_WI_3_validation        3  ...     1941          823\n",
              "11250806    FOODS_3_824_WI_3_validation        3  ...     1941          824\n",
              "11250807    FOODS_3_825_WI_3_validation        3  ...     1941          825\n",
              "11250808    FOODS_3_826_WI_3_validation        3  ...     1941          826\n",
              "11250809    FOODS_3_827_WI_3_validation        3  ...     1941          827\n",
              "\n",
              "[853720 rows x 18 columns]"
            ]
          },
          "metadata": {
            "tags": []
          },
          "execution_count": 193
        }
      ]
    },
    {
      "cell_type": "code",
      "metadata": {
        "id": "35pb5a4o4UOZ",
        "colab_type": "code",
        "colab": {}
      },
      "source": [
        "valid_df = pd.pivot_table(valid, values=['demand'], index=['item_id'], columns=['day_int'])"
      ],
      "execution_count": 0,
      "outputs": []
    },
    {
      "cell_type": "code",
      "metadata": {
        "id": "lQMcol3sDBRB",
        "colab_type": "code",
        "outputId": "db532fd2-75d0-4b59-93ca-31f24b34ebb1",
        "colab": {
          "base_uri": "https://localhost:8080/",
          "height": 51
        }
      },
      "source": [
        "evalue_pred = rf.predict(evalue.drop(columns=['item_id', 'demand']))"
      ],
      "execution_count": 0,
      "outputs": [
        {
          "output_type": "stream",
          "text": [
            "[Parallel(n_jobs=40)]: Using backend ThreadingBackend with 40 concurrent workers.\n",
            "[Parallel(n_jobs=40)]: Done 100 out of 100 | elapsed:    1.0s finished\n"
          ],
          "name": "stderr"
        }
      ]
    },
    {
      "cell_type": "code",
      "metadata": {
        "id": "juAtsou-AmmW",
        "colab_type": "code",
        "colab": {}
      },
      "source": [
        "evalue['demand'] = evalue_pred"
      ],
      "execution_count": 0,
      "outputs": []
    },
    {
      "cell_type": "code",
      "metadata": {
        "id": "-_5ik6U7DS9K",
        "colab_type": "code",
        "outputId": "ca04a261-0c0b-447a-eb17-f7be122ca8f3",
        "colab": {
          "base_uri": "https://localhost:8080/",
          "height": 439
        }
      },
      "source": [
        "evalue['state_id'] = evalue['state_id'].astype(str).map({'1':'CA', '2':'TX', '3':'WI'})\n",
        "evalue['item_id'] = (evalue['item_id'] + '_' + evalue['state_id'].astype(str) + '_' + evalue['store_id'].astype(str) + '_validation')\n",
        "evalue"
      ],
      "execution_count": 0,
      "outputs": [
        {
          "output_type": "execute_result",
          "data": {
            "text/html": [
              "<div>\n",
              "<style scoped>\n",
              "    .dataframe tbody tr th:only-of-type {\n",
              "        vertical-align: middle;\n",
              "    }\n",
              "\n",
              "    .dataframe tbody tr th {\n",
              "        vertical-align: top;\n",
              "    }\n",
              "\n",
              "    .dataframe thead th {\n",
              "        text-align: right;\n",
              "    }\n",
              "</style>\n",
              "<table border=\"1\" class=\"dataframe\">\n",
              "  <thead>\n",
              "    <tr style=\"text-align: right;\">\n",
              "      <th></th>\n",
              "      <th>item_id</th>\n",
              "      <th>dept_id</th>\n",
              "      <th>cat_id</th>\n",
              "      <th>store_id</th>\n",
              "      <th>state_id</th>\n",
              "      <th>wday</th>\n",
              "      <th>month</th>\n",
              "      <th>event_name_1</th>\n",
              "      <th>event_type_1</th>\n",
              "      <th>event_name_2</th>\n",
              "      <th>event_type_2</th>\n",
              "      <th>snap_CA</th>\n",
              "      <th>snap_TX</th>\n",
              "      <th>snap_WI</th>\n",
              "      <th>sell_price</th>\n",
              "      <th>demand</th>\n",
              "      <th>day_int</th>\n",
              "      <th>item_id_int</th>\n",
              "    </tr>\n",
              "  </thead>\n",
              "  <tbody>\n",
              "    <tr>\n",
              "      <th>11250810</th>\n",
              "      <td>HOBBIES_1_001_CA_1_validation</td>\n",
              "      <td>1</td>\n",
              "      <td>2</td>\n",
              "      <td>1</td>\n",
              "      <td>CA</td>\n",
              "      <td>3</td>\n",
              "      <td>5</td>\n",
              "      <td>31</td>\n",
              "      <td>5</td>\n",
              "      <td>2</td>\n",
              "      <td>2</td>\n",
              "      <td>0</td>\n",
              "      <td>0</td>\n",
              "      <td>0</td>\n",
              "      <td>8.38</td>\n",
              "      <td>1.667409</td>\n",
              "      <td>1942</td>\n",
              "      <td>1</td>\n",
              "    </tr>\n",
              "    <tr>\n",
              "      <th>11250811</th>\n",
              "      <td>HOBBIES_1_002_CA_1_validation</td>\n",
              "      <td>1</td>\n",
              "      <td>2</td>\n",
              "      <td>1</td>\n",
              "      <td>CA</td>\n",
              "      <td>3</td>\n",
              "      <td>5</td>\n",
              "      <td>31</td>\n",
              "      <td>5</td>\n",
              "      <td>2</td>\n",
              "      <td>2</td>\n",
              "      <td>0</td>\n",
              "      <td>0</td>\n",
              "      <td>0</td>\n",
              "      <td>3.97</td>\n",
              "      <td>0.203490</td>\n",
              "      <td>1942</td>\n",
              "      <td>2</td>\n",
              "    </tr>\n",
              "    <tr>\n",
              "      <th>11250812</th>\n",
              "      <td>HOBBIES_1_003_CA_1_validation</td>\n",
              "      <td>1</td>\n",
              "      <td>2</td>\n",
              "      <td>1</td>\n",
              "      <td>CA</td>\n",
              "      <td>3</td>\n",
              "      <td>5</td>\n",
              "      <td>31</td>\n",
              "      <td>5</td>\n",
              "      <td>2</td>\n",
              "      <td>2</td>\n",
              "      <td>0</td>\n",
              "      <td>0</td>\n",
              "      <td>0</td>\n",
              "      <td>2.97</td>\n",
              "      <td>0.126611</td>\n",
              "      <td>1942</td>\n",
              "      <td>3</td>\n",
              "    </tr>\n",
              "    <tr>\n",
              "      <th>11250813</th>\n",
              "      <td>HOBBIES_1_004_CA_1_validation</td>\n",
              "      <td>1</td>\n",
              "      <td>2</td>\n",
              "      <td>1</td>\n",
              "      <td>CA</td>\n",
              "      <td>3</td>\n",
              "      <td>5</td>\n",
              "      <td>31</td>\n",
              "      <td>5</td>\n",
              "      <td>2</td>\n",
              "      <td>2</td>\n",
              "      <td>0</td>\n",
              "      <td>0</td>\n",
              "      <td>0</td>\n",
              "      <td>4.64</td>\n",
              "      <td>3.020455</td>\n",
              "      <td>1942</td>\n",
              "      <td>4</td>\n",
              "    </tr>\n",
              "    <tr>\n",
              "      <th>11250814</th>\n",
              "      <td>HOBBIES_1_005_CA_1_validation</td>\n",
              "      <td>1</td>\n",
              "      <td>2</td>\n",
              "      <td>1</td>\n",
              "      <td>CA</td>\n",
              "      <td>3</td>\n",
              "      <td>5</td>\n",
              "      <td>31</td>\n",
              "      <td>5</td>\n",
              "      <td>2</td>\n",
              "      <td>2</td>\n",
              "      <td>0</td>\n",
              "      <td>0</td>\n",
              "      <td>0</td>\n",
              "      <td>2.88</td>\n",
              "      <td>1.693130</td>\n",
              "      <td>1942</td>\n",
              "      <td>5</td>\n",
              "    </tr>\n",
              "    <tr>\n",
              "      <th>...</th>\n",
              "      <td>...</td>\n",
              "      <td>...</td>\n",
              "      <td>...</td>\n",
              "      <td>...</td>\n",
              "      <td>...</td>\n",
              "      <td>...</td>\n",
              "      <td>...</td>\n",
              "      <td>...</td>\n",
              "      <td>...</td>\n",
              "      <td>...</td>\n",
              "      <td>...</td>\n",
              "      <td>...</td>\n",
              "      <td>...</td>\n",
              "      <td>...</td>\n",
              "      <td>...</td>\n",
              "      <td>...</td>\n",
              "      <td>...</td>\n",
              "      <td>...</td>\n",
              "    </tr>\n",
              "    <tr>\n",
              "      <th>12104525</th>\n",
              "      <td>FOODS_3_823_WI_3_validation</td>\n",
              "      <td>3</td>\n",
              "      <td>1</td>\n",
              "      <td>3</td>\n",
              "      <td>WI</td>\n",
              "      <td>2</td>\n",
              "      <td>6</td>\n",
              "      <td>17</td>\n",
              "      <td>4</td>\n",
              "      <td>1</td>\n",
              "      <td>1</td>\n",
              "      <td>0</td>\n",
              "      <td>0</td>\n",
              "      <td>0</td>\n",
              "      <td>2.98</td>\n",
              "      <td>1.864426</td>\n",
              "      <td>1969</td>\n",
              "      <td>823</td>\n",
              "    </tr>\n",
              "    <tr>\n",
              "      <th>12104526</th>\n",
              "      <td>FOODS_3_824_WI_3_validation</td>\n",
              "      <td>3</td>\n",
              "      <td>1</td>\n",
              "      <td>3</td>\n",
              "      <td>WI</td>\n",
              "      <td>2</td>\n",
              "      <td>6</td>\n",
              "      <td>17</td>\n",
              "      <td>4</td>\n",
              "      <td>1</td>\n",
              "      <td>1</td>\n",
              "      <td>0</td>\n",
              "      <td>0</td>\n",
              "      <td>0</td>\n",
              "      <td>2.48</td>\n",
              "      <td>0.572679</td>\n",
              "      <td>1969</td>\n",
              "      <td>824</td>\n",
              "    </tr>\n",
              "    <tr>\n",
              "      <th>12104527</th>\n",
              "      <td>FOODS_3_825_WI_3_validation</td>\n",
              "      <td>3</td>\n",
              "      <td>1</td>\n",
              "      <td>3</td>\n",
              "      <td>WI</td>\n",
              "      <td>2</td>\n",
              "      <td>6</td>\n",
              "      <td>17</td>\n",
              "      <td>4</td>\n",
              "      <td>1</td>\n",
              "      <td>1</td>\n",
              "      <td>0</td>\n",
              "      <td>0</td>\n",
              "      <td>0</td>\n",
              "      <td>3.98</td>\n",
              "      <td>1.202803</td>\n",
              "      <td>1969</td>\n",
              "      <td>825</td>\n",
              "    </tr>\n",
              "    <tr>\n",
              "      <th>12104528</th>\n",
              "      <td>FOODS_3_826_WI_3_validation</td>\n",
              "      <td>3</td>\n",
              "      <td>1</td>\n",
              "      <td>3</td>\n",
              "      <td>WI</td>\n",
              "      <td>2</td>\n",
              "      <td>6</td>\n",
              "      <td>17</td>\n",
              "      <td>4</td>\n",
              "      <td>1</td>\n",
              "      <td>1</td>\n",
              "      <td>0</td>\n",
              "      <td>0</td>\n",
              "      <td>0</td>\n",
              "      <td>1.28</td>\n",
              "      <td>1.065480</td>\n",
              "      <td>1969</td>\n",
              "      <td>826</td>\n",
              "    </tr>\n",
              "    <tr>\n",
              "      <th>12104529</th>\n",
              "      <td>FOODS_3_827_WI_3_validation</td>\n",
              "      <td>3</td>\n",
              "      <td>1</td>\n",
              "      <td>3</td>\n",
              "      <td>WI</td>\n",
              "      <td>2</td>\n",
              "      <td>6</td>\n",
              "      <td>17</td>\n",
              "      <td>4</td>\n",
              "      <td>1</td>\n",
              "      <td>1</td>\n",
              "      <td>0</td>\n",
              "      <td>0</td>\n",
              "      <td>0</td>\n",
              "      <td>1.00</td>\n",
              "      <td>1.904138</td>\n",
              "      <td>1969</td>\n",
              "      <td>827</td>\n",
              "    </tr>\n",
              "  </tbody>\n",
              "</table>\n",
              "<p>853720 rows × 18 columns</p>\n",
              "</div>"
            ],
            "text/plain": [
              "                                item_id  dept_id  ...  day_int  item_id_int\n",
              "11250810  HOBBIES_1_001_CA_1_validation        1  ...     1942            1\n",
              "11250811  HOBBIES_1_002_CA_1_validation        1  ...     1942            2\n",
              "11250812  HOBBIES_1_003_CA_1_validation        1  ...     1942            3\n",
              "11250813  HOBBIES_1_004_CA_1_validation        1  ...     1942            4\n",
              "11250814  HOBBIES_1_005_CA_1_validation        1  ...     1942            5\n",
              "...                                 ...      ...  ...      ...          ...\n",
              "12104525    FOODS_3_823_WI_3_validation        3  ...     1969          823\n",
              "12104526    FOODS_3_824_WI_3_validation        3  ...     1969          824\n",
              "12104527    FOODS_3_825_WI_3_validation        3  ...     1969          825\n",
              "12104528    FOODS_3_826_WI_3_validation        3  ...     1969          826\n",
              "12104529    FOODS_3_827_WI_3_validation        3  ...     1969          827\n",
              "\n",
              "[853720 rows x 18 columns]"
            ]
          },
          "metadata": {
            "tags": []
          },
          "execution_count": 143
        }
      ]
    },
    {
      "cell_type": "code",
      "metadata": {
        "id": "Ae9WQBlxDmII",
        "colab_type": "code",
        "colab": {}
      },
      "source": [
        "evalue['item_id'] = evalue['item_id'].str.slice(stop=-10) + 'evaluation'"
      ],
      "execution_count": 0,
      "outputs": []
    },
    {
      "cell_type": "code",
      "metadata": {
        "id": "4Hv5Zx3Q8Zbk",
        "colab_type": "code",
        "colab": {}
      },
      "source": [
        "eval_df = pd.pivot_table(evalue, values=['demand'], index=['item_id'], columns=['day_int'])"
      ],
      "execution_count": 0,
      "outputs": []
    },
    {
      "cell_type": "code",
      "metadata": {
        "id": "Ia1S8B-vFFVc",
        "colab_type": "code",
        "colab": {}
      },
      "source": [
        ""
      ],
      "execution_count": 0,
      "outputs": []
    },
    {
      "cell_type": "markdown",
      "metadata": {
        "id": "_w91DpsyGFEv",
        "colab_type": "text"
      },
      "source": [
        "## Concat"
      ]
    },
    {
      "cell_type": "code",
      "metadata": {
        "id": "ERTNSTQdGR7h",
        "colab_type": "code",
        "colab": {}
      },
      "source": [
        "eval_df.reset_index(inplace=True)"
      ],
      "execution_count": 0,
      "outputs": []
    },
    {
      "cell_type": "code",
      "metadata": {
        "id": "ydi7Vq2lGHRm",
        "colab_type": "code",
        "colab": {}
      },
      "source": [
        "eval_df.columns = ['id'] + ['F' + str(i) for i in np.arange(1, 29, 1)]"
      ],
      "execution_count": 0,
      "outputs": []
    },
    {
      "cell_type": "code",
      "metadata": {
        "id": "RS1l5t9THYZm",
        "colab_type": "code",
        "outputId": "39f5b38a-aa52-427c-8801-93743787fc40",
        "colab": {
          "base_uri": "https://localhost:8080/",
          "height": 439
        }
      },
      "source": [
        "eval_df"
      ],
      "execution_count": 0,
      "outputs": [
        {
          "output_type": "execute_result",
          "data": {
            "text/html": [
              "<div>\n",
              "<style scoped>\n",
              "    .dataframe tbody tr th:only-of-type {\n",
              "        vertical-align: middle;\n",
              "    }\n",
              "\n",
              "    .dataframe tbody tr th {\n",
              "        vertical-align: top;\n",
              "    }\n",
              "\n",
              "    .dataframe thead th {\n",
              "        text-align: right;\n",
              "    }\n",
              "</style>\n",
              "<table border=\"1\" class=\"dataframe\">\n",
              "  <thead>\n",
              "    <tr style=\"text-align: right;\">\n",
              "      <th></th>\n",
              "      <th>id</th>\n",
              "      <th>F1</th>\n",
              "      <th>F2</th>\n",
              "      <th>F3</th>\n",
              "      <th>F4</th>\n",
              "      <th>F5</th>\n",
              "      <th>F6</th>\n",
              "      <th>F7</th>\n",
              "      <th>F8</th>\n",
              "      <th>F9</th>\n",
              "      <th>F10</th>\n",
              "      <th>F11</th>\n",
              "      <th>F12</th>\n",
              "      <th>F13</th>\n",
              "      <th>F14</th>\n",
              "      <th>F15</th>\n",
              "      <th>F16</th>\n",
              "      <th>F17</th>\n",
              "      <th>F18</th>\n",
              "      <th>F19</th>\n",
              "      <th>F20</th>\n",
              "      <th>F21</th>\n",
              "      <th>F22</th>\n",
              "      <th>F23</th>\n",
              "      <th>F24</th>\n",
              "      <th>F25</th>\n",
              "      <th>F26</th>\n",
              "      <th>F27</th>\n",
              "      <th>F28</th>\n",
              "    </tr>\n",
              "  </thead>\n",
              "  <tbody>\n",
              "    <tr>\n",
              "      <th>0</th>\n",
              "      <td>FOODS_1_001_CA_1_evaluation</td>\n",
              "      <td>0.867162</td>\n",
              "      <td>0.860378</td>\n",
              "      <td>0.860378</td>\n",
              "      <td>0.858334</td>\n",
              "      <td>0.858334</td>\n",
              "      <td>1.156300</td>\n",
              "      <td>1.150965</td>\n",
              "      <td>0.867162</td>\n",
              "      <td>0.860378</td>\n",
              "      <td>0.860378</td>\n",
              "      <td>0.863996</td>\n",
              "      <td>0.863996</td>\n",
              "      <td>1.158980</td>\n",
              "      <td>1.188851</td>\n",
              "      <td>0.872824</td>\n",
              "      <td>0.860378</td>\n",
              "      <td>0.866040</td>\n",
              "      <td>0.863996</td>\n",
              "      <td>0.858334</td>\n",
              "      <td>1.219255</td>\n",
              "      <td>1.186171</td>\n",
              "      <td>0.867162</td>\n",
              "      <td>0.866040</td>\n",
              "      <td>0.866040</td>\n",
              "      <td>0.858334</td>\n",
              "      <td>0.858334</td>\n",
              "      <td>1.156300</td>\n",
              "      <td>1.134961</td>\n",
              "    </tr>\n",
              "    <tr>\n",
              "      <th>1</th>\n",
              "      <td>FOODS_1_001_CA_2_evaluation</td>\n",
              "      <td>0.847819</td>\n",
              "      <td>0.847819</td>\n",
              "      <td>0.847819</td>\n",
              "      <td>0.843397</td>\n",
              "      <td>0.843397</td>\n",
              "      <td>1.394829</td>\n",
              "      <td>1.394829</td>\n",
              "      <td>0.857305</td>\n",
              "      <td>0.847819</td>\n",
              "      <td>0.856643</td>\n",
              "      <td>0.869142</td>\n",
              "      <td>0.869142</td>\n",
              "      <td>1.394829</td>\n",
              "      <td>1.394829</td>\n",
              "      <td>0.873564</td>\n",
              "      <td>0.856643</td>\n",
              "      <td>0.873564</td>\n",
              "      <td>0.869142</td>\n",
              "      <td>0.852221</td>\n",
              "      <td>1.394829</td>\n",
              "      <td>1.394829</td>\n",
              "      <td>0.856643</td>\n",
              "      <td>0.873564</td>\n",
              "      <td>0.873564</td>\n",
              "      <td>0.852221</td>\n",
              "      <td>0.852221</td>\n",
              "      <td>1.394829</td>\n",
              "      <td>1.461405</td>\n",
              "    </tr>\n",
              "    <tr>\n",
              "      <th>2</th>\n",
              "      <td>FOODS_1_001_CA_3_evaluation</td>\n",
              "      <td>1.058580</td>\n",
              "      <td>1.047436</td>\n",
              "      <td>1.047436</td>\n",
              "      <td>1.059837</td>\n",
              "      <td>1.059837</td>\n",
              "      <td>1.418114</td>\n",
              "      <td>1.418114</td>\n",
              "      <td>1.093594</td>\n",
              "      <td>1.047436</td>\n",
              "      <td>1.075079</td>\n",
              "      <td>1.088532</td>\n",
              "      <td>1.121472</td>\n",
              "      <td>1.418114</td>\n",
              "      <td>1.418114</td>\n",
              "      <td>1.092706</td>\n",
              "      <td>1.071034</td>\n",
              "      <td>1.056969</td>\n",
              "      <td>1.121472</td>\n",
              "      <td>1.062888</td>\n",
              "      <td>1.418114</td>\n",
              "      <td>1.418114</td>\n",
              "      <td>1.086224</td>\n",
              "      <td>1.056969</td>\n",
              "      <td>1.081562</td>\n",
              "      <td>1.062888</td>\n",
              "      <td>1.062888</td>\n",
              "      <td>1.418114</td>\n",
              "      <td>1.430793</td>\n",
              "    </tr>\n",
              "    <tr>\n",
              "      <th>3</th>\n",
              "      <td>FOODS_1_001_CA_4_evaluation</td>\n",
              "      <td>0.540895</td>\n",
              "      <td>0.540895</td>\n",
              "      <td>0.540895</td>\n",
              "      <td>0.540895</td>\n",
              "      <td>0.548961</td>\n",
              "      <td>0.537625</td>\n",
              "      <td>0.533625</td>\n",
              "      <td>0.530895</td>\n",
              "      <td>0.540895</td>\n",
              "      <td>0.542792</td>\n",
              "      <td>0.532792</td>\n",
              "      <td>0.547471</td>\n",
              "      <td>0.539521</td>\n",
              "      <td>0.535521</td>\n",
              "      <td>0.542792</td>\n",
              "      <td>0.532792</td>\n",
              "      <td>0.542792</td>\n",
              "      <td>0.542792</td>\n",
              "      <td>0.547471</td>\n",
              "      <td>0.539521</td>\n",
              "      <td>0.535521</td>\n",
              "      <td>0.542792</td>\n",
              "      <td>0.542792</td>\n",
              "      <td>0.542792</td>\n",
              "      <td>0.542792</td>\n",
              "      <td>0.550858</td>\n",
              "      <td>0.539521</td>\n",
              "      <td>0.535521</td>\n",
              "    </tr>\n",
              "    <tr>\n",
              "      <th>4</th>\n",
              "      <td>FOODS_1_001_TX_1_evaluation</td>\n",
              "      <td>0.426777</td>\n",
              "      <td>0.426777</td>\n",
              "      <td>0.426777</td>\n",
              "      <td>0.426777</td>\n",
              "      <td>0.426777</td>\n",
              "      <td>0.434841</td>\n",
              "      <td>0.434841</td>\n",
              "      <td>0.426777</td>\n",
              "      <td>0.426777</td>\n",
              "      <td>0.428249</td>\n",
              "      <td>0.431907</td>\n",
              "      <td>0.431907</td>\n",
              "      <td>0.436313</td>\n",
              "      <td>0.438816</td>\n",
              "      <td>0.431907</td>\n",
              "      <td>0.428249</td>\n",
              "      <td>0.431907</td>\n",
              "      <td>0.431907</td>\n",
              "      <td>0.428249</td>\n",
              "      <td>0.437344</td>\n",
              "      <td>0.437344</td>\n",
              "      <td>0.426777</td>\n",
              "      <td>0.430435</td>\n",
              "      <td>0.430435</td>\n",
              "      <td>0.426777</td>\n",
              "      <td>0.426777</td>\n",
              "      <td>0.434841</td>\n",
              "      <td>0.434841</td>\n",
              "    </tr>\n",
              "    <tr>\n",
              "      <th>...</th>\n",
              "      <td>...</td>\n",
              "      <td>...</td>\n",
              "      <td>...</td>\n",
              "      <td>...</td>\n",
              "      <td>...</td>\n",
              "      <td>...</td>\n",
              "      <td>...</td>\n",
              "      <td>...</td>\n",
              "      <td>...</td>\n",
              "      <td>...</td>\n",
              "      <td>...</td>\n",
              "      <td>...</td>\n",
              "      <td>...</td>\n",
              "      <td>...</td>\n",
              "      <td>...</td>\n",
              "      <td>...</td>\n",
              "      <td>...</td>\n",
              "      <td>...</td>\n",
              "      <td>...</td>\n",
              "      <td>...</td>\n",
              "      <td>...</td>\n",
              "      <td>...</td>\n",
              "      <td>...</td>\n",
              "      <td>...</td>\n",
              "      <td>...</td>\n",
              "      <td>...</td>\n",
              "      <td>...</td>\n",
              "      <td>...</td>\n",
              "      <td>...</td>\n",
              "    </tr>\n",
              "    <tr>\n",
              "      <th>30485</th>\n",
              "      <td>HOUSEHOLD_2_516_TX_2_evaluation</td>\n",
              "      <td>0.235746</td>\n",
              "      <td>0.218106</td>\n",
              "      <td>0.232671</td>\n",
              "      <td>0.255633</td>\n",
              "      <td>0.313063</td>\n",
              "      <td>0.388395</td>\n",
              "      <td>0.240731</td>\n",
              "      <td>0.258041</td>\n",
              "      <td>0.218106</td>\n",
              "      <td>0.208055</td>\n",
              "      <td>0.245091</td>\n",
              "      <td>0.279430</td>\n",
              "      <td>0.376968</td>\n",
              "      <td>0.253848</td>\n",
              "      <td>0.200813</td>\n",
              "      <td>0.230612</td>\n",
              "      <td>0.195368</td>\n",
              "      <td>0.222000</td>\n",
              "      <td>0.284777</td>\n",
              "      <td>0.395288</td>\n",
              "      <td>0.259887</td>\n",
              "      <td>0.232921</td>\n",
              "      <td>0.204108</td>\n",
              "      <td>0.225895</td>\n",
              "      <td>0.255633</td>\n",
              "      <td>0.313063</td>\n",
              "      <td>0.388026</td>\n",
              "      <td>0.268874</td>\n",
              "    </tr>\n",
              "    <tr>\n",
              "      <th>30486</th>\n",
              "      <td>HOUSEHOLD_2_516_TX_3_evaluation</td>\n",
              "      <td>0.160512</td>\n",
              "      <td>0.142930</td>\n",
              "      <td>0.151938</td>\n",
              "      <td>0.174137</td>\n",
              "      <td>0.181694</td>\n",
              "      <td>0.300476</td>\n",
              "      <td>0.272065</td>\n",
              "      <td>0.211574</td>\n",
              "      <td>0.142930</td>\n",
              "      <td>0.167419</td>\n",
              "      <td>0.208315</td>\n",
              "      <td>0.184754</td>\n",
              "      <td>0.301012</td>\n",
              "      <td>0.310504</td>\n",
              "      <td>0.141980</td>\n",
              "      <td>0.166538</td>\n",
              "      <td>0.138282</td>\n",
              "      <td>0.177198</td>\n",
              "      <td>0.182451</td>\n",
              "      <td>0.317671</td>\n",
              "      <td>0.295279</td>\n",
              "      <td>0.159736</td>\n",
              "      <td>0.128532</td>\n",
              "      <td>0.146813</td>\n",
              "      <td>0.174137</td>\n",
              "      <td>0.181694</td>\n",
              "      <td>0.300107</td>\n",
              "      <td>0.284057</td>\n",
              "    </tr>\n",
              "    <tr>\n",
              "      <th>30487</th>\n",
              "      <td>HOUSEHOLD_2_516_WI_1_evaluation</td>\n",
              "      <td>0.083333</td>\n",
              "      <td>0.090118</td>\n",
              "      <td>0.086986</td>\n",
              "      <td>0.081617</td>\n",
              "      <td>0.099720</td>\n",
              "      <td>0.549056</td>\n",
              "      <td>0.290239</td>\n",
              "      <td>0.083333</td>\n",
              "      <td>0.090118</td>\n",
              "      <td>0.182164</td>\n",
              "      <td>0.090346</td>\n",
              "      <td>0.122831</td>\n",
              "      <td>0.546973</td>\n",
              "      <td>0.316220</td>\n",
              "      <td>0.091297</td>\n",
              "      <td>0.188095</td>\n",
              "      <td>0.097480</td>\n",
              "      <td>0.103103</td>\n",
              "      <td>0.134813</td>\n",
              "      <td>0.502998</td>\n",
              "      <td>0.316220</td>\n",
              "      <td>0.108439</td>\n",
              "      <td>0.089358</td>\n",
              "      <td>0.091423</td>\n",
              "      <td>0.077430</td>\n",
              "      <td>0.098706</td>\n",
              "      <td>0.539056</td>\n",
              "      <td>0.256787</td>\n",
              "    </tr>\n",
              "    <tr>\n",
              "      <th>30488</th>\n",
              "      <td>HOUSEHOLD_2_516_WI_2_evaluation</td>\n",
              "      <td>0.023639</td>\n",
              "      <td>0.022111</td>\n",
              "      <td>0.022476</td>\n",
              "      <td>0.049486</td>\n",
              "      <td>0.069207</td>\n",
              "      <td>0.038152</td>\n",
              "      <td>0.028679</td>\n",
              "      <td>0.015937</td>\n",
              "      <td>0.022111</td>\n",
              "      <td>0.081397</td>\n",
              "      <td>0.161265</td>\n",
              "      <td>0.160533</td>\n",
              "      <td>0.059746</td>\n",
              "      <td>0.085797</td>\n",
              "      <td>0.107034</td>\n",
              "      <td>0.073247</td>\n",
              "      <td>0.118374</td>\n",
              "      <td>0.141114</td>\n",
              "      <td>0.169410</td>\n",
              "      <td>0.084307</td>\n",
              "      <td>0.077441</td>\n",
              "      <td>0.026916</td>\n",
              "      <td>0.052214</td>\n",
              "      <td>0.037528</td>\n",
              "      <td>0.049486</td>\n",
              "      <td>0.069207</td>\n",
              "      <td>0.038152</td>\n",
              "      <td>0.025178</td>\n",
              "    </tr>\n",
              "    <tr>\n",
              "      <th>30489</th>\n",
              "      <td>HOUSEHOLD_2_516_WI_3_evaluation</td>\n",
              "      <td>0.036983</td>\n",
              "      <td>0.035332</td>\n",
              "      <td>0.040959</td>\n",
              "      <td>0.062839</td>\n",
              "      <td>0.060894</td>\n",
              "      <td>0.049283</td>\n",
              "      <td>0.042394</td>\n",
              "      <td>0.032089</td>\n",
              "      <td>0.035332</td>\n",
              "      <td>0.086848</td>\n",
              "      <td>0.161258</td>\n",
              "      <td>0.145393</td>\n",
              "      <td>0.084211</td>\n",
              "      <td>0.109397</td>\n",
              "      <td>0.116493</td>\n",
              "      <td>0.077002</td>\n",
              "      <td>0.139733</td>\n",
              "      <td>0.139322</td>\n",
              "      <td>0.149100</td>\n",
              "      <td>0.119991</td>\n",
              "      <td>0.091041</td>\n",
              "      <td>0.029942</td>\n",
              "      <td>0.075082</td>\n",
              "      <td>0.053950</td>\n",
              "      <td>0.062839</td>\n",
              "      <td>0.060894</td>\n",
              "      <td>0.049283</td>\n",
              "      <td>0.038458</td>\n",
              "    </tr>\n",
              "  </tbody>\n",
              "</table>\n",
              "<p>30490 rows × 29 columns</p>\n",
              "</div>"
            ],
            "text/plain": [
              "                                    id        F1  ...       F27       F28\n",
              "0          FOODS_1_001_CA_1_evaluation  0.867162  ...  1.156300  1.134961\n",
              "1          FOODS_1_001_CA_2_evaluation  0.847819  ...  1.394829  1.461405\n",
              "2          FOODS_1_001_CA_3_evaluation  1.058580  ...  1.418114  1.430793\n",
              "3          FOODS_1_001_CA_4_evaluation  0.540895  ...  0.539521  0.535521\n",
              "4          FOODS_1_001_TX_1_evaluation  0.426777  ...  0.434841  0.434841\n",
              "...                                ...       ...  ...       ...       ...\n",
              "30485  HOUSEHOLD_2_516_TX_2_evaluation  0.235746  ...  0.388026  0.268874\n",
              "30486  HOUSEHOLD_2_516_TX_3_evaluation  0.160512  ...  0.300107  0.284057\n",
              "30487  HOUSEHOLD_2_516_WI_1_evaluation  0.083333  ...  0.539056  0.256787\n",
              "30488  HOUSEHOLD_2_516_WI_2_evaluation  0.023639  ...  0.038152  0.025178\n",
              "30489  HOUSEHOLD_2_516_WI_3_evaluation  0.036983  ...  0.049283  0.038458\n",
              "\n",
              "[30490 rows x 29 columns]"
            ]
          },
          "metadata": {
            "tags": []
          },
          "execution_count": 182
        }
      ]
    },
    {
      "cell_type": "code",
      "metadata": {
        "id": "wFEA5kiWGg-V",
        "colab_type": "code",
        "colab": {}
      },
      "source": [
        "valid_df.reset_index(inplace=True)\n",
        "valid_df.columns = ['id'] + ['F' + str(i) for i in np.arange(1, 29, 1)]"
      ],
      "execution_count": 0,
      "outputs": []
    },
    {
      "cell_type": "code",
      "metadata": {
        "id": "cBwoczctHhvy",
        "colab_type": "code",
        "outputId": "cc205cc6-3ac9-44db-e8e9-65e8d7cafdbd",
        "colab": {
          "base_uri": "https://localhost:8080/",
          "height": 439
        }
      },
      "source": [
        "valid_df"
      ],
      "execution_count": 0,
      "outputs": [
        {
          "output_type": "execute_result",
          "data": {
            "text/html": [
              "<div>\n",
              "<style scoped>\n",
              "    .dataframe tbody tr th:only-of-type {\n",
              "        vertical-align: middle;\n",
              "    }\n",
              "\n",
              "    .dataframe tbody tr th {\n",
              "        vertical-align: top;\n",
              "    }\n",
              "\n",
              "    .dataframe thead th {\n",
              "        text-align: right;\n",
              "    }\n",
              "</style>\n",
              "<table border=\"1\" class=\"dataframe\">\n",
              "  <thead>\n",
              "    <tr style=\"text-align: right;\">\n",
              "      <th></th>\n",
              "      <th>id</th>\n",
              "      <th>F1</th>\n",
              "      <th>F2</th>\n",
              "      <th>F3</th>\n",
              "      <th>F4</th>\n",
              "      <th>F5</th>\n",
              "      <th>F6</th>\n",
              "      <th>F7</th>\n",
              "      <th>F8</th>\n",
              "      <th>F9</th>\n",
              "      <th>F10</th>\n",
              "      <th>F11</th>\n",
              "      <th>F12</th>\n",
              "      <th>F13</th>\n",
              "      <th>F14</th>\n",
              "      <th>F15</th>\n",
              "      <th>F16</th>\n",
              "      <th>F17</th>\n",
              "      <th>F18</th>\n",
              "      <th>F19</th>\n",
              "      <th>F20</th>\n",
              "      <th>F21</th>\n",
              "      <th>F22</th>\n",
              "      <th>F23</th>\n",
              "      <th>F24</th>\n",
              "      <th>F25</th>\n",
              "      <th>F26</th>\n",
              "      <th>F27</th>\n",
              "      <th>F28</th>\n",
              "    </tr>\n",
              "  </thead>\n",
              "  <tbody>\n",
              "    <tr>\n",
              "      <th>0</th>\n",
              "      <td>FOODS_1_001_CA_1_validation</td>\n",
              "      <td>0.867162</td>\n",
              "      <td>0.860378</td>\n",
              "      <td>0.860378</td>\n",
              "      <td>0.858334</td>\n",
              "      <td>0.858334</td>\n",
              "      <td>1.140296</td>\n",
              "      <td>1.149007</td>\n",
              "      <td>0.872824</td>\n",
              "      <td>0.866040</td>\n",
              "      <td>0.860378</td>\n",
              "      <td>0.876358</td>\n",
              "      <td>0.863996</td>\n",
              "      <td>1.178013</td>\n",
              "      <td>1.161481</td>\n",
              "      <td>0.872824</td>\n",
              "      <td>0.860378</td>\n",
              "      <td>0.866040</td>\n",
              "      <td>0.863996</td>\n",
              "      <td>0.858334</td>\n",
              "      <td>1.200222</td>\n",
              "      <td>1.186171</td>\n",
              "      <td>0.867162</td>\n",
              "      <td>0.860378</td>\n",
              "      <td>0.860378</td>\n",
              "      <td>0.858334</td>\n",
              "      <td>0.858334</td>\n",
              "      <td>1.156300</td>\n",
              "      <td>1.150965</td>\n",
              "    </tr>\n",
              "    <tr>\n",
              "      <th>1</th>\n",
              "      <td>FOODS_1_001_CA_2_validation</td>\n",
              "      <td>0.847819</td>\n",
              "      <td>0.847819</td>\n",
              "      <td>0.847819</td>\n",
              "      <td>0.843397</td>\n",
              "      <td>0.843397</td>\n",
              "      <td>1.394829</td>\n",
              "      <td>1.394829</td>\n",
              "      <td>0.864740</td>\n",
              "      <td>0.864740</td>\n",
              "      <td>0.847819</td>\n",
              "      <td>0.852978</td>\n",
              "      <td>0.860318</td>\n",
              "      <td>1.394829</td>\n",
              "      <td>1.473751</td>\n",
              "      <td>0.864740</td>\n",
              "      <td>0.847819</td>\n",
              "      <td>0.864740</td>\n",
              "      <td>0.860318</td>\n",
              "      <td>0.843397</td>\n",
              "      <td>1.394829</td>\n",
              "      <td>1.394829</td>\n",
              "      <td>0.847819</td>\n",
              "      <td>0.847819</td>\n",
              "      <td>0.847819</td>\n",
              "      <td>0.843397</td>\n",
              "      <td>0.843397</td>\n",
              "      <td>1.394829</td>\n",
              "      <td>1.394829</td>\n",
              "    </tr>\n",
              "    <tr>\n",
              "      <th>2</th>\n",
              "      <td>FOODS_1_001_CA_3_validation</td>\n",
              "      <td>1.058580</td>\n",
              "      <td>1.047436</td>\n",
              "      <td>1.047436</td>\n",
              "      <td>1.059837</td>\n",
              "      <td>1.059837</td>\n",
              "      <td>1.418114</td>\n",
              "      <td>1.418114</td>\n",
              "      <td>1.065063</td>\n",
              "      <td>1.078511</td>\n",
              "      <td>1.047436</td>\n",
              "      <td>1.146023</td>\n",
              "      <td>1.118421</td>\n",
              "      <td>1.418114</td>\n",
              "      <td>1.443139</td>\n",
              "      <td>1.089655</td>\n",
              "      <td>1.047436</td>\n",
              "      <td>1.078511</td>\n",
              "      <td>1.118421</td>\n",
              "      <td>1.084429</td>\n",
              "      <td>1.418114</td>\n",
              "      <td>1.418114</td>\n",
              "      <td>1.058580</td>\n",
              "      <td>1.047436</td>\n",
              "      <td>1.047436</td>\n",
              "      <td>1.059837</td>\n",
              "      <td>1.059837</td>\n",
              "      <td>1.418114</td>\n",
              "      <td>1.418114</td>\n",
              "    </tr>\n",
              "    <tr>\n",
              "      <th>3</th>\n",
              "      <td>FOODS_1_001_CA_4_validation</td>\n",
              "      <td>0.540895</td>\n",
              "      <td>0.540895</td>\n",
              "      <td>0.540895</td>\n",
              "      <td>0.540895</td>\n",
              "      <td>0.548961</td>\n",
              "      <td>0.537625</td>\n",
              "      <td>0.533625</td>\n",
              "      <td>0.540895</td>\n",
              "      <td>0.540895</td>\n",
              "      <td>0.540895</td>\n",
              "      <td>0.530895</td>\n",
              "      <td>0.545574</td>\n",
              "      <td>0.537625</td>\n",
              "      <td>0.533625</td>\n",
              "      <td>0.540895</td>\n",
              "      <td>0.540895</td>\n",
              "      <td>0.540895</td>\n",
              "      <td>0.540895</td>\n",
              "      <td>0.548961</td>\n",
              "      <td>0.537625</td>\n",
              "      <td>0.533625</td>\n",
              "      <td>0.540895</td>\n",
              "      <td>0.540895</td>\n",
              "      <td>0.540895</td>\n",
              "      <td>0.540895</td>\n",
              "      <td>0.548961</td>\n",
              "      <td>0.537625</td>\n",
              "      <td>0.533625</td>\n",
              "    </tr>\n",
              "    <tr>\n",
              "      <th>4</th>\n",
              "      <td>FOODS_1_001_TX_1_validation</td>\n",
              "      <td>0.426777</td>\n",
              "      <td>0.426777</td>\n",
              "      <td>0.426777</td>\n",
              "      <td>0.426777</td>\n",
              "      <td>0.426777</td>\n",
              "      <td>0.434841</td>\n",
              "      <td>0.436313</td>\n",
              "      <td>0.431907</td>\n",
              "      <td>0.431907</td>\n",
              "      <td>0.428249</td>\n",
              "      <td>0.431907</td>\n",
              "      <td>0.431907</td>\n",
              "      <td>0.436313</td>\n",
              "      <td>0.438816</td>\n",
              "      <td>0.431907</td>\n",
              "      <td>0.428249</td>\n",
              "      <td>0.430435</td>\n",
              "      <td>0.430435</td>\n",
              "      <td>0.426777</td>\n",
              "      <td>0.437344</td>\n",
              "      <td>0.437344</td>\n",
              "      <td>0.426777</td>\n",
              "      <td>0.426777</td>\n",
              "      <td>0.426777</td>\n",
              "      <td>0.426777</td>\n",
              "      <td>0.426777</td>\n",
              "      <td>0.434841</td>\n",
              "      <td>0.434841</td>\n",
              "    </tr>\n",
              "    <tr>\n",
              "      <th>...</th>\n",
              "      <td>...</td>\n",
              "      <td>...</td>\n",
              "      <td>...</td>\n",
              "      <td>...</td>\n",
              "      <td>...</td>\n",
              "      <td>...</td>\n",
              "      <td>...</td>\n",
              "      <td>...</td>\n",
              "      <td>...</td>\n",
              "      <td>...</td>\n",
              "      <td>...</td>\n",
              "      <td>...</td>\n",
              "      <td>...</td>\n",
              "      <td>...</td>\n",
              "      <td>...</td>\n",
              "      <td>...</td>\n",
              "      <td>...</td>\n",
              "      <td>...</td>\n",
              "      <td>...</td>\n",
              "      <td>...</td>\n",
              "      <td>...</td>\n",
              "      <td>...</td>\n",
              "      <td>...</td>\n",
              "      <td>...</td>\n",
              "      <td>...</td>\n",
              "      <td>...</td>\n",
              "      <td>...</td>\n",
              "      <td>...</td>\n",
              "      <td>...</td>\n",
              "    </tr>\n",
              "    <tr>\n",
              "      <th>30485</th>\n",
              "      <td>HOUSEHOLD_2_516_TX_2_validation</td>\n",
              "      <td>0.235746</td>\n",
              "      <td>0.218106</td>\n",
              "      <td>0.232671</td>\n",
              "      <td>0.255633</td>\n",
              "      <td>0.313063</td>\n",
              "      <td>0.386395</td>\n",
              "      <td>0.246413</td>\n",
              "      <td>0.203638</td>\n",
              "      <td>0.194308</td>\n",
              "      <td>0.204385</td>\n",
              "      <td>0.292431</td>\n",
              "      <td>0.279430</td>\n",
              "      <td>0.379356</td>\n",
              "      <td>0.291260</td>\n",
              "      <td>0.200813</td>\n",
              "      <td>0.201208</td>\n",
              "      <td>0.225895</td>\n",
              "      <td>0.248858</td>\n",
              "      <td>0.316733</td>\n",
              "      <td>0.397250</td>\n",
              "      <td>0.260868</td>\n",
              "      <td>0.235746</td>\n",
              "      <td>0.218106</td>\n",
              "      <td>0.232671</td>\n",
              "      <td>0.255633</td>\n",
              "      <td>0.313063</td>\n",
              "      <td>0.388395</td>\n",
              "      <td>0.240731</td>\n",
              "    </tr>\n",
              "    <tr>\n",
              "      <th>30486</th>\n",
              "      <td>HOUSEHOLD_2_516_TX_3_validation</td>\n",
              "      <td>0.160512</td>\n",
              "      <td>0.142930</td>\n",
              "      <td>0.151938</td>\n",
              "      <td>0.174137</td>\n",
              "      <td>0.181694</td>\n",
              "      <td>0.298476</td>\n",
              "      <td>0.297360</td>\n",
              "      <td>0.142755</td>\n",
              "      <td>0.132974</td>\n",
              "      <td>0.151699</td>\n",
              "      <td>0.274287</td>\n",
              "      <td>0.184754</td>\n",
              "      <td>1.796662</td>\n",
              "      <td>1.538322</td>\n",
              "      <td>1.546829</td>\n",
              "      <td>1.469816</td>\n",
              "      <td>1.439790</td>\n",
              "      <td>1.365244</td>\n",
              "      <td>1.460163</td>\n",
              "      <td>0.308748</td>\n",
              "      <td>0.296260</td>\n",
              "      <td>0.160512</td>\n",
              "      <td>0.142930</td>\n",
              "      <td>0.151938</td>\n",
              "      <td>0.174137</td>\n",
              "      <td>0.181694</td>\n",
              "      <td>0.300476</td>\n",
              "      <td>0.272065</td>\n",
              "    </tr>\n",
              "    <tr>\n",
              "      <th>30487</th>\n",
              "      <td>HOUSEHOLD_2_516_WI_1_validation</td>\n",
              "      <td>0.083333</td>\n",
              "      <td>0.090118</td>\n",
              "      <td>0.086986</td>\n",
              "      <td>0.081617</td>\n",
              "      <td>0.099720</td>\n",
              "      <td>0.535604</td>\n",
              "      <td>0.323704</td>\n",
              "      <td>0.087882</td>\n",
              "      <td>0.094702</td>\n",
              "      <td>0.154657</td>\n",
              "      <td>0.102926</td>\n",
              "      <td>0.120646</td>\n",
              "      <td>0.561033</td>\n",
              "      <td>0.251767</td>\n",
              "      <td>0.087916</td>\n",
              "      <td>0.149088</td>\n",
              "      <td>0.091089</td>\n",
              "      <td>0.112757</td>\n",
              "      <td>0.126500</td>\n",
              "      <td>0.498938</td>\n",
              "      <td>0.326220</td>\n",
              "      <td>0.083333</td>\n",
              "      <td>0.090118</td>\n",
              "      <td>0.086986</td>\n",
              "      <td>0.081617</td>\n",
              "      <td>0.099720</td>\n",
              "      <td>0.549056</td>\n",
              "      <td>0.290239</td>\n",
              "    </tr>\n",
              "    <tr>\n",
              "      <th>30488</th>\n",
              "      <td>HOUSEHOLD_2_516_WI_2_validation</td>\n",
              "      <td>0.023639</td>\n",
              "      <td>0.022111</td>\n",
              "      <td>0.022476</td>\n",
              "      <td>0.049486</td>\n",
              "      <td>0.069207</td>\n",
              "      <td>0.031105</td>\n",
              "      <td>0.055686</td>\n",
              "      <td>0.127031</td>\n",
              "      <td>0.098089</td>\n",
              "      <td>0.093729</td>\n",
              "      <td>0.138316</td>\n",
              "      <td>0.160533</td>\n",
              "      <td>0.066733</td>\n",
              "      <td>0.091420</td>\n",
              "      <td>0.107034</td>\n",
              "      <td>0.093364</td>\n",
              "      <td>0.037528</td>\n",
              "      <td>0.045895</td>\n",
              "      <td>0.061268</td>\n",
              "      <td>0.077914</td>\n",
              "      <td>0.077441</td>\n",
              "      <td>0.023639</td>\n",
              "      <td>0.022111</td>\n",
              "      <td>0.022476</td>\n",
              "      <td>0.049486</td>\n",
              "      <td>0.069207</td>\n",
              "      <td>0.038152</td>\n",
              "      <td>0.028679</td>\n",
              "    </tr>\n",
              "    <tr>\n",
              "      <th>30489</th>\n",
              "      <td>HOUSEHOLD_2_516_WI_3_validation</td>\n",
              "      <td>0.036983</td>\n",
              "      <td>0.035332</td>\n",
              "      <td>0.040959</td>\n",
              "      <td>0.062839</td>\n",
              "      <td>0.060894</td>\n",
              "      <td>0.041802</td>\n",
              "      <td>0.069204</td>\n",
              "      <td>0.146807</td>\n",
              "      <td>0.107926</td>\n",
              "      <td>0.108164</td>\n",
              "      <td>0.132594</td>\n",
              "      <td>0.145393</td>\n",
              "      <td>0.087770</td>\n",
              "      <td>0.116166</td>\n",
              "      <td>0.116493</td>\n",
              "      <td>0.102538</td>\n",
              "      <td>0.053950</td>\n",
              "      <td>0.056901</td>\n",
              "      <td>0.051489</td>\n",
              "      <td>0.117026</td>\n",
              "      <td>0.091041</td>\n",
              "      <td>0.036983</td>\n",
              "      <td>0.035332</td>\n",
              "      <td>0.040959</td>\n",
              "      <td>0.062839</td>\n",
              "      <td>0.060894</td>\n",
              "      <td>0.049283</td>\n",
              "      <td>0.042394</td>\n",
              "    </tr>\n",
              "  </tbody>\n",
              "</table>\n",
              "<p>30490 rows × 29 columns</p>\n",
              "</div>"
            ],
            "text/plain": [
              "                                    id        F1  ...       F27       F28\n",
              "0          FOODS_1_001_CA_1_validation  0.867162  ...  1.156300  1.150965\n",
              "1          FOODS_1_001_CA_2_validation  0.847819  ...  1.394829  1.394829\n",
              "2          FOODS_1_001_CA_3_validation  1.058580  ...  1.418114  1.418114\n",
              "3          FOODS_1_001_CA_4_validation  0.540895  ...  0.537625  0.533625\n",
              "4          FOODS_1_001_TX_1_validation  0.426777  ...  0.434841  0.434841\n",
              "...                                ...       ...  ...       ...       ...\n",
              "30485  HOUSEHOLD_2_516_TX_2_validation  0.235746  ...  0.388395  0.240731\n",
              "30486  HOUSEHOLD_2_516_TX_3_validation  0.160512  ...  0.300476  0.272065\n",
              "30487  HOUSEHOLD_2_516_WI_1_validation  0.083333  ...  0.549056  0.290239\n",
              "30488  HOUSEHOLD_2_516_WI_2_validation  0.023639  ...  0.038152  0.028679\n",
              "30489  HOUSEHOLD_2_516_WI_3_validation  0.036983  ...  0.049283  0.042394\n",
              "\n",
              "[30490 rows x 29 columns]"
            ]
          },
          "metadata": {
            "tags": []
          },
          "execution_count": 197
        }
      ]
    },
    {
      "cell_type": "code",
      "metadata": {
        "id": "sL1EER6GGfGI",
        "colab_type": "code",
        "outputId": "a6986ccf-c407-457f-83d5-eb778891b388",
        "colab": {
          "base_uri": "https://localhost:8080/",
          "height": 85
        }
      },
      "source": [
        "submission.columns"
      ],
      "execution_count": 0,
      "outputs": [
        {
          "output_type": "execute_result",
          "data": {
            "text/plain": [
              "Index(['id', 'F1', 'F2', 'F3', 'F4', 'F5', 'F6', 'F7', 'F8', 'F9', 'F10',\n",
              "       'F11', 'F12', 'F13', 'F14', 'F15', 'F16', 'F17', 'F18', 'F19', 'F20',\n",
              "       'F21', 'F22', 'F23', 'F24', 'F25', 'F26', 'F27', 'F28'],\n",
              "      dtype='object')"
            ]
          },
          "metadata": {
            "tags": []
          },
          "execution_count": 171
        }
      ]
    },
    {
      "cell_type": "code",
      "metadata": {
        "id": "sybOm0FKHOyp",
        "colab_type": "code",
        "colab": {}
      },
      "source": [
        "sub_df = pd.concat([valid_df, eval_df])"
      ],
      "execution_count": 0,
      "outputs": []
    },
    {
      "cell_type": "code",
      "metadata": {
        "id": "8sY64G1BIKlX",
        "colab_type": "code",
        "colab": {}
      },
      "source": [
        "sub_df = pd.merge(submission[['id']], sub_df, on='id')"
      ],
      "execution_count": 0,
      "outputs": []
    },
    {
      "cell_type": "code",
      "metadata": {
        "id": "3jsUFI6LINWu",
        "colab_type": "code",
        "colab": {}
      },
      "source": [
        "sub_df.to_csv(\"submission.csv\", index=False)"
      ],
      "execution_count": 0,
      "outputs": []
    },
    {
      "cell_type": "code",
      "metadata": {
        "id": "CU7v9oe0Ip5i",
        "colab_type": "code",
        "colab": {}
      },
      "source": [
        ""
      ],
      "execution_count": 0,
      "outputs": []
    }
  ]
}